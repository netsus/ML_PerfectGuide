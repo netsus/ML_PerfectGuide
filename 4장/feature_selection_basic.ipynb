{
 "cells": [
  {
   "cell_type": "markdown",
   "metadata": {},
   "source": [
    "### Feature Selection 기법"
   ]
  },
  {
   "cell_type": "markdown",
   "metadata": {},
   "source": [
    "<img src=https://blog.kakaocdn.net/dn/b0qepf/btrC19d646o/tlc9QxGJJQ9RpmDrY3Cww0/img.png width=1200>"
   ]
  },
  {
   "cell_type": "markdown",
   "metadata": {},
   "source": [
    "#### Recursive Feature Elimination \n",
    "* **feature importance가 낮은 속성들을 차례로 제거**해 가면서 반복적으로 학습/평가를 수행하여 **최적 feature 추출**\n",
    "* 수행시간이 오래 걸리고, 낮은 속성들을 제거해 나가는 메커니즘이 **정확한 Feature Selection을 찾는 목표에 정확히 부합하지 않을 수 있음**<br>\n",
    "\n",
    "        중요도가 낮은 피처를 제거해내가면서 재학습하고 피처중요도 평가하는게 방법적으론 맞는데, 실제로 해보면 성능이 올라가지 않고,\n",
    "        뭔가 성능과 동떨어진 느낌이 든다고 한다."
   ]
  },
  {
   "cell_type": "code",
   "execution_count": 45,
   "metadata": {
    "ExecuteTime": {
     "end_time": "2022-05-24T17:08:19.850811Z",
     "start_time": "2022-05-24T17:08:19.834301Z"
    }
   },
   "outputs": [],
   "source": [
    "import pandas as pd\n",
    "import matplotlib.pyplot as plt\n",
    "from sklearn.svm import SVC\n",
    "from sklearn.model_selection import StratifiedKFold\n",
    "from sklearn.feature_selection import RFECV, RFE\n",
    "from sklearn.datasets import make_classification\n",
    "import warnings\n",
    "warnings.filterwarnings('ignore')\n",
    "\n",
    "# 분류를 위한 Feature 개수가 25개인 데이터 1000개 생성\n",
    "X, y = make_classification(n_samples=1000, n_features=25, n_informative=3,\n",
    "                           n_redundant=2, n_repeated=0, n_classes=8,\n",
    "                           n_clusters_per_class=1, random_state=0)"
   ]
  },
  {
   "cell_type": "markdown",
   "metadata": {},
   "source": [
    "**1000개의 임의 데이터에 대해 rfe를 2개의 cv로 나눠 진행 -> rfecv)**<br>\n",
    "-> 이상적으로 중요도 낮은 피처 제거했을때 성능이 올라간다. -> 실제로는 거의 없음"
   ]
  },
  {
   "cell_type": "code",
   "execution_count": 35,
   "metadata": {
    "ExecuteTime": {
     "end_time": "2022-05-24T17:03:53.426321Z",
     "start_time": "2022-05-24T17:03:52.445182Z"
    }
   },
   "outputs": [
    {
     "name": "stdout",
     "output_type": "stream",
     "text": [
      "Fitting estimator with 25 features.\n",
      "Fitting estimator with 24 features.\n",
      "Fitting estimator with 23 features.\n",
      "Fitting estimator with 22 features.\n",
      "Fitting estimator with 21 features.\n",
      "Fitting estimator with 20 features.\n",
      "Fitting estimator with 19 features.\n",
      "Fitting estimator with 18 features.\n",
      "Fitting estimator with 17 features.\n",
      "Fitting estimator with 16 features.\n",
      "Fitting estimator with 15 features.\n",
      "Fitting estimator with 14 features.\n",
      "Fitting estimator with 13 features.\n",
      "Fitting estimator with 12 features.\n",
      "Fitting estimator with 11 features.\n",
      "Fitting estimator with 10 features.\n",
      "Fitting estimator with 9 features.\n",
      "Fitting estimator with 8 features.\n",
      "Fitting estimator with 7 features.\n",
      "Fitting estimator with 6 features.\n",
      "Fitting estimator with 5 features.\n",
      "Fitting estimator with 4 features.\n",
      "Fitting estimator with 3 features.\n",
      "Fitting estimator with 2 features.\n",
      "Fitting estimator with 25 features.\n",
      "Fitting estimator with 24 features.\n",
      "Fitting estimator with 23 features.\n",
      "Fitting estimator with 22 features.\n",
      "Fitting estimator with 21 features.\n",
      "Fitting estimator with 20 features.\n",
      "Fitting estimator with 19 features.\n",
      "Fitting estimator with 18 features.\n",
      "Fitting estimator with 17 features.\n",
      "Fitting estimator with 16 features.\n",
      "Fitting estimator with 15 features.\n",
      "Fitting estimator with 14 features.\n",
      "Fitting estimator with 13 features.\n",
      "Fitting estimator with 12 features.\n",
      "Fitting estimator with 11 features.\n",
      "Fitting estimator with 10 features.\n",
      "Fitting estimator with 9 features.\n",
      "Fitting estimator with 8 features.\n",
      "Fitting estimator with 7 features.\n",
      "Fitting estimator with 6 features.\n",
      "Fitting estimator with 5 features.\n",
      "Fitting estimator with 4 features.\n",
      "Fitting estimator with 3 features.\n",
      "Fitting estimator with 2 features.\n",
      "Fitting estimator with 25 features.\n",
      "Fitting estimator with 24 features.\n",
      "Fitting estimator with 23 features.\n",
      "Fitting estimator with 22 features.\n",
      "Fitting estimator with 21 features.\n",
      "Fitting estimator with 20 features.\n",
      "Fitting estimator with 19 features.\n",
      "Fitting estimator with 18 features.\n",
      "Fitting estimator with 17 features.\n",
      "Fitting estimator with 16 features.\n",
      "Fitting estimator with 15 features.\n",
      "Fitting estimator with 14 features.\n",
      "Fitting estimator with 13 features.\n",
      "Fitting estimator with 12 features.\n",
      "Fitting estimator with 11 features.\n",
      "Fitting estimator with 10 features.\n",
      "Fitting estimator with 9 features.\n",
      "Fitting estimator with 8 features.\n",
      "Fitting estimator with 7 features.\n",
      "Fitting estimator with 6 features.\n",
      "Fitting estimator with 5 features.\n",
      "Fitting estimator with 4 features.\n",
      "Optimal number of features : 3\n"
     ]
    },
    {
     "data": {
      "image/png": "[encoded data removed]",
      "text/plain": [
       "<Figure size 576x432 with 1 Axes>"
      ]
     },
     "metadata": {
      "needs_background": "light"
     },
     "output_type": "display_data"
    }
   ],
   "source": [
    "# SVC classifier 선택\n",
    "svc = SVC(kernel=\"linear\")\n",
    "# REFCV로 Feature들을 반복적으로 제거해가면서 학습/평가 수행.\n",
    "# step=1 : 처음에 컬럼 25개로 모두 학습하고, 다음에 1개(step)의 피처 제외하고 24개의 피처로 학습\n",
    "# verbose=2 : 자세한 설명\n",
    "rfecv = RFECV(estimator=svc, step=1, cv=StratifiedKFold(2),\n",
    "              scoring='accuracy', verbose=2)\n",
    "rfecv.fit(X, y)\n",
    "print(\"Optimal number of features : %d\" % rfecv.n_features_)\n",
    "# Plot number of features VS. cross-validation scores\n",
    "plt.figure(figsize=(8,6))\n",
    "plt.xlabel(\"Number of features selected\")\n",
    "plt.ylabel(\"Cross validation score (nb of correct classifications)\")\n",
    "plt.plot(range(1, len(rfecv.grid_scores_) + 1), rfecv.grid_scores_)\n",
    "plt.show()"
   ]
  },
  {
   "cell_type": "code",
   "execution_count": 31,
   "metadata": {
    "ExecuteTime": {
     "end_time": "2022-05-24T17:01:40.021013Z",
     "start_time": "2022-05-24T17:01:40.011342Z"
    }
   },
   "outputs": [
    {
     "name": "stdout",
     "output_type": "stream",
     "text": [
      "[[0.254 0.258]\n",
      " [0.516 0.498]\n",
      " [0.812 0.828]]\n"
     ]
    }
   ],
   "source": [
    "## 그래프의 y축인 grid_scores_ 확인\n",
    "print(rfecv.grid_scores_[:3])"
   ]
  },
  {
   "cell_type": "code",
   "execution_count": 32,
   "metadata": {
    "ExecuteTime": {
     "end_time": "2022-05-24T17:01:57.845756Z",
     "start_time": "2022-05-24T17:01:57.831536Z"
    }
   },
   "outputs": [
    {
     "name": "stdout",
     "output_type": "stream",
     "text": [
      "[0.254 0.516 0.812]\n",
      "[0.258 0.498 0.828]\n"
     ]
    }
   ],
   "source": [
    "print(rfecv.cv_results_['split0_test_score'][:3])\n",
    "print(rfecv.cv_results_['split1_test_score'][:3])"
   ]
  },
  {
   "cell_type": "markdown",
   "metadata": {},
   "source": [
    "**샘플 개수를 1000개에서 10,000개로 늘렸을 때** -> 데이터가 많아지니, 피처임포턴스가 낮은 피처가 없어진다고 성능이 향상되지 않음"
   ]
  },
  {
   "cell_type": "code",
   "execution_count": 33,
   "metadata": {
    "ExecuteTime": {
     "end_time": "2022-05-24T17:03:33.792562Z",
     "start_time": "2022-05-24T17:02:42.701442Z"
    }
   },
   "outputs": [
    {
     "name": "stdout",
     "output_type": "stream",
     "text": [
      "Fitting estimator with 25 features.\n",
      "Fitting estimator with 24 features.\n",
      "Fitting estimator with 23 features.\n",
      "Fitting estimator with 22 features.\n",
      "Fitting estimator with 21 features.\n",
      "Fitting estimator with 20 features.\n",
      "Fitting estimator with 19 features.\n",
      "Fitting estimator with 18 features.\n",
      "Fitting estimator with 17 features.\n",
      "Fitting estimator with 16 features.\n",
      "Fitting estimator with 15 features.\n",
      "Fitting estimator with 14 features.\n",
      "Fitting estimator with 13 features.\n",
      "Fitting estimator with 12 features.\n",
      "Fitting estimator with 11 features.\n",
      "Fitting estimator with 10 features.\n",
      "Fitting estimator with 9 features.\n",
      "Fitting estimator with 8 features.\n",
      "Fitting estimator with 7 features.\n",
      "Fitting estimator with 6 features.\n",
      "Fitting estimator with 5 features.\n",
      "Fitting estimator with 4 features.\n",
      "Fitting estimator with 3 features.\n",
      "Fitting estimator with 2 features.\n",
      "Fitting estimator with 25 features.\n",
      "Fitting estimator with 24 features.\n",
      "Fitting estimator with 23 features.\n",
      "Fitting estimator with 22 features.\n",
      "Fitting estimator with 21 features.\n",
      "Fitting estimator with 20 features.\n",
      "Fitting estimator with 19 features.\n",
      "Fitting estimator with 18 features.\n",
      "Fitting estimator with 17 features.\n",
      "Fitting estimator with 16 features.\n",
      "Fitting estimator with 15 features.\n",
      "Fitting estimator with 14 features.\n",
      "Fitting estimator with 13 features.\n",
      "Fitting estimator with 12 features.\n",
      "Fitting estimator with 11 features.\n",
      "Fitting estimator with 10 features.\n",
      "Fitting estimator with 9 features.\n",
      "Fitting estimator with 8 features.\n",
      "Fitting estimator with 7 features.\n",
      "Fitting estimator with 6 features.\n",
      "Fitting estimator with 5 features.\n",
      "Fitting estimator with 4 features.\n",
      "Fitting estimator with 3 features.\n",
      "Fitting estimator with 2 features.\n",
      "Fitting estimator with 25 features.\n",
      "Fitting estimator with 24 features.\n",
      "Fitting estimator with 23 features.\n",
      "Fitting estimator with 22 features.\n",
      "Fitting estimator with 21 features.\n",
      "Fitting estimator with 20 features.\n",
      "Fitting estimator with 19 features.\n",
      "Fitting estimator with 18 features.\n",
      "Fitting estimator with 17 features.\n",
      "Fitting estimator with 16 features.\n",
      "Fitting estimator with 15 features.\n",
      "Fitting estimator with 14 features.\n",
      "Fitting estimator with 13 features.\n",
      "Fitting estimator with 12 features.\n",
      "Fitting estimator with 11 features.\n",
      "Fitting estimator with 10 features.\n",
      "Fitting estimator with 9 features.\n",
      "Fitting estimator with 8 features.\n",
      "Fitting estimator with 7 features.\n",
      "Fitting estimator with 6 features.\n",
      "Optimal number of features : 5\n"
     ]
    },
    {
     "data": {
      "image/png": "[encoded data removed]",
      "text/plain": [
       "<Figure size 432x288 with 1 Axes>"
      ]
     },
     "metadata": {
      "needs_background": "light"
     },
     "output_type": "display_data"
    }
   ],
   "source": [
    "# Build a classification task using 3 informative features\n",
    "X, y = make_classification(n_samples=10000, n_features=25, n_informative=3,\n",
    "                           n_redundant=2, n_repeated=0, n_classes=8,\n",
    "                           n_clusters_per_class=1, random_state=0)\n",
    "\n",
    "# SVC classifier 선택\n",
    "svc = SVC(kernel=\"linear\")\n",
    "# REFCV로 Feature들을 반복적으로 제거해가면서 학습/평가 수행.  \n",
    "rfecv = RFECV(estimator=svc, step=1, cv=StratifiedKFold(2),\n",
    "              scoring='accuracy', verbose=2)\n",
    "rfecv.fit(X, y)\n",
    "\n",
    "print(\"Optimal number of features : %d\" % rfecv.n_features_)\n",
    "\n",
    "# Plot number of features VS. cross-validation scores\n",
    "plt.figure(figsize=(8,6))\n",
    "plt.xlabel(\"Number of features selected\")\n",
    "plt.ylabel(\"Cross validation score (nb of correct classifications)\")\n",
    "plt.plot(range(1, len(rfecv.grid_scores_) + 1), rfecv.grid_scores_)\n",
    "plt.show()"
   ]
  },
  {
   "cell_type": "markdown",
   "metadata": {},
   "source": [
    "#### SelectFromModel"
   ]
  },
  {
   "cell_type": "code",
   "execution_count": 57,
   "metadata": {
    "ExecuteTime": {
     "end_time": "2022-05-24T17:12:22.152257Z",
     "start_time": "2022-05-24T17:12:22.133078Z"
    },
    "scrolled": true
   },
   "outputs": [
    {
     "name": "stdout",
     "output_type": "stream",
     "text": [
      ".. _diabetes_dataset:\n",
      "\n",
      "Diabetes dataset\n",
      "----------------\n",
      "\n",
      "Ten baseline variables, age, sex, body mass index, average blood\n",
      "pressure, and six blood serum measurements were obtained for each of n =\n",
      "442 diabetes patients, as well as the response of interest, a\n",
      "quantitative measure of disease progression one year after baseline.\n",
      "\n",
      "**Data Set Characteristics:**\n",
      "\n",
      "  :Number of Instances: 442\n",
      "\n",
      "  :Number of Attributes: First 10 columns are numeric predictive values\n",
      "\n",
      "  :Target: Column 11 is a quantitative measure of disease progression one year after baseline\n",
      "\n",
      "  :Attribute Information:\n",
      "      - age     age in years\n",
      "      - sex\n",
      "      - bmi     body mass index\n",
      "      - bp      average blood pressure\n",
      "      - s1      tc, total serum cholesterol\n",
      "      - s2      ldl, low-density lipoproteins\n",
      "      - s3      hdl, high-density lipoproteins\n",
      "      - s4      tch, total cholesterol / HDL\n",
      "      - s5      ltg, possibly log of serum triglycerides level\n",
      "      - s6      glu, blood sugar level\n",
      "\n",
      "Note: Each of these 10 feature variables have been mean centered and scaled by the standard deviation times the square root of `n_samples` (i.e. the sum of squares of each column totals 1).\n",
      "\n",
      "Source URL:\n",
      "https://www4.stat.ncsu.edu/~boos/var.select/diabetes.html\n",
      "\n",
      "For more information see:\n",
      "Bradley Efron, Trevor Hastie, Iain Johnstone and Robert Tibshirani (2004) \"Least Angle Regression,\" Annals of Statistics (with discussion), 407-499.\n",
      "(https://web.stanford.edu/~hastie/Papers/LARS/LeastAngle_2002.pdf)\n",
      "\n"
     ]
    }
   ],
   "source": [
    "from sklearn.datasets import load_diabetes\n",
    "\n",
    "diabetes = load_diabetes()\n",
    "X, y = diabetes.data, diabetes.target\n",
    "## 당뇨 데이터 설명\n",
    "print(diabetes.DESCR)"
   ]
  },
  {
   "cell_type": "code",
   "execution_count": 58,
   "metadata": {
    "ExecuteTime": {
     "end_time": "2022-05-24T17:12:22.499384Z",
     "start_time": "2022-05-24T17:12:22.401474Z"
    }
   },
   "outputs": [
    {
     "data": {
      "image/png": "[encoded data removed]",
      "text/plain": [
       "<Figure size 864x576 with 1 Axes>"
      ]
     },
     "metadata": {
      "needs_background": "light"
     },
     "output_type": "display_data"
    }
   ],
   "source": [
    "import matplotlib.pyplot as plt\n",
    "import numpy as np\n",
    "from sklearn.linear_model import LassoCV\n",
    "\n",
    "lasso = LassoCV().fit(X, y)\n",
    "importance = np.abs(lasso.coef_)\n",
    "feature_names = np.array(diabetes.feature_names)\n",
    "plt.figure(figsize=(12,8))\n",
    "plt.bar(height=importance, x=feature_names)\n",
    "plt.title(\"Feature importances via coefficients\")\n",
    "plt.show()"
   ]
  },
  {
   "cell_type": "code",
   "execution_count": 59,
   "metadata": {
    "ExecuteTime": {
     "end_time": "2022-05-24T17:12:22.787029Z",
     "start_time": "2022-05-24T17:12:22.781412Z"
    }
   },
   "outputs": [
    {
     "data": {
      "text/html": [
       "<div>\n",
       "<style scoped>\n",
       "    .dataframe tbody tr th:only-of-type {\n",
       "        vertical-align: middle;\n",
       "    }\n",
       "\n",
       "    .dataframe tbody tr th {\n",
       "        vertical-align: top;\n",
       "    }\n",
       "\n",
       "    .dataframe thead th {\n",
       "        text-align: right;\n",
       "    }\n",
       "</style>\n",
       "<table border=\"1\" class=\"dataframe\">\n",
       "  <thead>\n",
       "    <tr style=\"text-align: right;\">\n",
       "      <th></th>\n",
       "      <th>age</th>\n",
       "      <th>sex</th>\n",
       "      <th>bmi</th>\n",
       "      <th>bp</th>\n",
       "      <th>s1</th>\n",
       "      <th>s2</th>\n",
       "      <th>s3</th>\n",
       "      <th>s4</th>\n",
       "      <th>s5</th>\n",
       "      <th>s6</th>\n",
       "    </tr>\n",
       "  </thead>\n",
       "  <tbody>\n",
       "    <tr>\n",
       "      <th>0</th>\n",
       "      <td>6.494693</td>\n",
       "      <td>235.99308</td>\n",
       "      <td>521.744369</td>\n",
       "      <td>321.060777</td>\n",
       "      <td>569.438134</td>\n",
       "      <td>302.453193</td>\n",
       "      <td>0.0</td>\n",
       "      <td>143.698515</td>\n",
       "      <td>669.922675</td>\n",
       "      <td>66.835511</td>\n",
       "    </tr>\n",
       "  </tbody>\n",
       "</table>\n",
       "</div>"
      ],
      "text/plain": [
       "        age        sex         bmi          bp          s1          s2   s3  \\\n",
       "0  6.494693  235.99308  521.744369  321.060777  569.438134  302.453193  0.0   \n",
       "\n",
       "           s4          s5         s6  \n",
       "0  143.698515  669.922675  66.835511  "
      ]
     },
     "execution_count": 59,
     "metadata": {},
     "output_type": "execute_result"
    }
   ],
   "source": [
    "# importance와 feature_names 보기\n",
    "pd.DataFrame(data=importance.reshape(1,-1), columns=feature_names)"
   ]
  },
  {
   "cell_type": "code",
   "execution_count": 62,
   "metadata": {
    "ExecuteTime": {
     "end_time": "2022-05-24T17:13:00.088706Z",
     "start_time": "2022-05-24T17:13:00.047119Z"
    }
   },
   "outputs": [
    {
     "name": "stdout",
     "output_type": "stream",
     "text": [
      "threshold: 521.7543692954391\n",
      "Features selected by SelectFromModel: ['s1' 's5']\n"
     ]
    }
   ],
   "source": [
    "from sklearn.feature_selection import SelectFromModel\n",
    "from time import time\n",
    "\n",
    "threshold = np.sort(importance)[-3] + 0.01 # 상위 3번쨰(bmi)에서 0.01더한거를 기준 -> s1, s5만 보겠다.\n",
    "print('threshold:', threshold)\n",
    "\n",
    "sfm = SelectFromModel(lasso, threshold=threshold).fit(X, y)\n",
    "print(f\"Features selected by SelectFromModel: {feature_names[sfm.get_support()]}\")"
   ]
  },
  {
   "cell_type": "code",
   "execution_count": 63,
   "metadata": {
    "ExecuteTime": {
     "end_time": "2022-05-24T17:13:01.213267Z",
     "start_time": "2022-05-24T17:13:01.171788Z"
    }
   },
   "outputs": [
    {
     "name": "stdout",
     "output_type": "stream",
     "text": [
      "Features selected by SelectFromModel: ['bmi' 's1' 's5']\n"
     ]
    }
   ],
   "source": [
    "## threshold에 문자열로 '1.5 * median' 넣으면 중앙값 * 1.5를 기준으로 그보다 feature importance가 높은 피처 추출\n",
    "sfm = SelectFromModel(lasso, threshold='1.5 * median').fit(X, y)\n",
    "print(f\"Features selected by SelectFromModel: {feature_names[sfm.get_support()]}\")"
   ]
  },
  {
   "cell_type": "markdown",
   "metadata": {},
   "source": [
    "### Permutation Importance\n",
    "<img src=https://blog.kakaocdn.net/dn/qDbU0/btrCZSEllEu/o4H6c6oSGaEZdSYPBKzI7K/img.png width=1200>\n",
    "\n",
    "    학습 모델은 그대로 두고, 테스트 데이터 예측에서 특정 피처의 값을 랜덤으로 바꿔버리는 경우 성능이 얼마나 낮아지는지를 본다.\n",
    "    -> 특정 피처가 결과에 얼마나 영향 미치는지를 보기 위한 것.\n",
    "    \n",
    "https://scikit-learn.org/stable/modules/permutation_importance.html"
   ]
  },
  {
   "cell_type": "markdown",
   "metadata": {},
   "source": [
    "<img src=https://blog.kakaocdn.net/dn/ZRCqj/btrC3L4YTn7/Og4SWKdK8HKcZlrQe4UJmk/img.png width=1200>"
   ]
  },
  {
   "cell_type": "markdown",
   "metadata": {},
   "source": [
    "R2 Score(결정계수): 회귀 모델의 성능 지표\n",
    "-> 변수간 영향을 주는 정도 or 인과관계의 정도를 수치화한 것.\n",
    "- R2 ⇢ 1, 좋은 회귀 모델\n",
    "- R2 ⇢ 0, 나쁜 모델\n",
    "- R2 ⇢ 음수, 랜덤 데이터 이용한 경우(혹은 쓰레기모델)"
   ]
  },
  {
   "cell_type": "code",
   "execution_count": 9,
   "metadata": {
    "ExecuteTime": {
     "end_time": "2022-05-24T05:32:58.396998Z",
     "start_time": "2022-05-24T05:32:58.376647Z"
    }
   },
   "outputs": [
    {
     "name": "stdout",
     "output_type": "stream",
     "text": [
      "r2 score: 0.3566675322939421\n"
     ]
    }
   ],
   "source": [
    "from sklearn.datasets import load_diabetes\n",
    "from sklearn.model_selection import train_test_split\n",
    "from sklearn.linear_model import Ridge\n",
    "from sklearn.metrics import r2_score\n",
    "\n",
    "diabetes = load_diabetes()\n",
    "X_train, X_val, y_train, y_val = train_test_split(diabetes.data, diabetes.target, random_state=0)\n",
    "\n",
    "#학습, 예측, R2 Score 평가 \n",
    "model = Ridge(alpha=1e-2).fit(X_train, y_train)\n",
    "y_pred = model.predict(X_val)\n",
    "print('r2 score:', r2_score(y_val, y_pred))"
   ]
  },
  {
   "cell_type": "code",
   "execution_count": 66,
   "metadata": {
    "ExecuteTime": {
     "end_time": "2022-05-24T17:21:50.537372Z",
     "start_time": "2022-05-24T17:21:50.482040Z"
    }
   },
   "outputs": [
    {
     "name": "stdout",
     "output_type": "stream",
     "text": [
      "s5\tPermutation Importance : 0.2042 ± 0.04964\n",
      "bmi\tPermutation Importance : 0.1758 ± 0.0484\n",
      "bp\tPermutation Importance : 0.0884 ± 0.03284\n",
      "sex\tPermutation Importance : 0.0559 ± 0.02319\n"
     ]
    }
   ],
   "source": [
    "from sklearn.inspection import permutation_importance\n",
    "# n_repeats : Number of times to permute a feature. (한 피처에 대해 몇번 셔플링 할건지)\n",
    "# validation 세트에 대해 permutation_importance 구하기\n",
    "r = permutation_importance(model, X_val, y_val, n_repeats=30, random_state=0)\n",
    "\n",
    "# 가장 평균 permutation importance가 높은 순으로 내림차순 정렬 후 평균 permutation importance값과 표준 편차 출력\n",
    "## ex) s5 0.2042  +/-  0.04964  =>  s5의 Permutation Feature Importance가 0.2042이고 표준편차가 0.049\n",
    "for i in r.importances_mean.argsort()[::-1]: # argsort()[::-1] - 내림차순 정렬\n",
    "    if r.importances_mean[i] - 2 * r.importances_std[i] > 0:\n",
    "        print(f\"{diabetes.feature_names[i]}\\tPermutation Importance : {np.round(r.importances_mean[i],4)} ± {np.round(r.importances_std[i], 5)}\")"
   ]
  },
  {
   "cell_type": "code",
   "execution_count": 64,
   "metadata": {
    "ExecuteTime": {
     "end_time": "2022-05-24T17:15:32.015193Z",
     "start_time": "2022-05-24T17:15:31.996660Z"
    }
   },
   "outputs": [
    {
     "data": {
      "text/plain": [
       "{'importances_mean': array([-0.00199237,  0.05587285,  0.17579633,  0.08836144,  0.04219777,\n",
       "         0.00203309,  0.00203936,  0.00318738,  0.20422681,  0.00278711]),\n",
       " 'importances_std': array([0.00364617, 0.02318962, 0.04840405, 0.03283812, 0.03140805,\n",
       "        0.00261856, 0.01309411, 0.00840227, 0.04964242, 0.00315837]),\n",
       " 'importances': array([[-4.09540163e-03,  2.17350997e-03, -1.66358297e-03,\n",
       "         -2.05054036e-03,  4.89593014e-03,  3.56102837e-03,\n",
       "          3.22810661e-03,  1.24555824e-03, -1.91434047e-03,\n",
       "         -4.91810485e-03,  6.07370963e-04, -6.42118451e-03,\n",
       "         -3.43004107e-03, -1.95750559e-03,  3.18511101e-03,\n",
       "         -7.34538220e-03, -2.81039602e-04, -1.21119575e-03,\n",
       "         -3.96148739e-03, -6.65719815e-04, -1.06742403e-02,\n",
       "         -3.22537483e-03, -5.08641484e-03, -5.53070163e-03,\n",
       "          2.34598521e-03, -2.97806845e-03, -8.33552461e-03,\n",
       "         -1.51641997e-03, -1.92928464e-03, -1.82214287e-03],\n",
       "        [ 2.51745371e-02,  4.43993865e-02,  6.82589983e-02,\n",
       "          1.13351288e-01,  3.79399549e-02,  5.72964757e-02,\n",
       "          5.01969228e-02,  5.08974418e-02,  6.53633263e-02,\n",
       "          8.69375461e-02,  3.70201400e-02,  8.80736331e-02,\n",
       "          8.61798168e-03,  2.61152801e-02,  9.42957600e-02,\n",
       "          8.18557365e-02,  7.10590720e-02,  4.64741741e-02,\n",
       "          4.84626402e-02,  5.72672886e-02,  4.49819451e-02,\n",
       "          5.67347978e-02,  6.83333876e-02,  8.22458886e-02,\n",
       "          4.46485287e-02,  4.74872376e-02,  5.51648353e-02,\n",
       "          1.33600672e-02,  4.41865571e-02,  5.99845308e-02],\n",
       "        [ 1.91544247e-01,  2.34465127e-01,  1.08551323e-01,\n",
       "          1.29055267e-01,  1.59322093e-01,  1.93848583e-01,\n",
       "          1.00446032e-01,  3.30532289e-01,  1.49329654e-01,\n",
       "          1.00461924e-01,  2.12646279e-01,  1.53794429e-01,\n",
       "          2.12184256e-01,  1.92398064e-01,  2.07983813e-01,\n",
       "          1.96375338e-01,  1.60868541e-01,  2.05308606e-01,\n",
       "          1.49074114e-01,  1.59913002e-01,  1.95024665e-01,\n",
       "          1.03529178e-01,  1.87163399e-01,  1.81375349e-01,\n",
       "          1.51200827e-01,  1.76573157e-01,  2.09298604e-01,\n",
       "          1.01383498e-01,  1.88179762e-01,  2.32058393e-01],\n",
       "        [ 1.10817425e-01,  9.89174875e-02,  9.66693704e-02,\n",
       "          6.48791777e-02,  9.47604801e-02,  1.48715349e-01,\n",
       "          5.06327975e-02,  1.11393438e-01,  1.35543046e-01,\n",
       "          9.83080653e-02,  9.66528589e-02,  6.89091270e-02,\n",
       "          7.44969776e-02,  1.10145501e-01,  4.82753426e-02,\n",
       "          7.74462410e-02,  5.64466590e-02,  3.60991501e-02,\n",
       "          8.57200532e-02,  1.25618109e-01,  9.38551966e-02,\n",
       "          6.57608660e-02,  3.15913810e-02,  4.92024852e-02,\n",
       "          1.51653509e-01,  1.42550721e-01,  6.07856001e-02,\n",
       "          9.95145669e-02,  1.14198708e-01,  5.12836095e-02],\n",
       "        [ 4.31732183e-02,  7.12956269e-02,  4.81157164e-02,\n",
       "          3.66978795e-02,  8.15255811e-02,  4.93461614e-02,\n",
       "          3.45940326e-02,  3.01583730e-02,  3.59830842e-03,\n",
       "          5.53488673e-02,  3.12722867e-02,  3.50794399e-02,\n",
       "          5.84046969e-02,  3.76797628e-02,  4.88001966e-02,\n",
       "          1.89576285e-02,  7.11500613e-02,  5.76023542e-02,\n",
       "          8.61725415e-03,  4.65460907e-02, -2.65688545e-02,\n",
       "          5.98879181e-02,  3.45431984e-03,  2.12370280e-02,\n",
       "         -1.09766540e-03,  8.04394451e-02,  2.77194276e-02,\n",
       "          1.38348261e-01,  7.99361968e-02,  1.46134528e-02],\n",
       "        [ 3.75816628e-03,  9.62738078e-04,  1.27317323e-03,\n",
       "          2.16317467e-03, -1.60586846e-03,  3.04589995e-03,\n",
       "          2.51909910e-03,  2.27651696e-03,  5.10450879e-03,\n",
       "          1.07737539e-03,  1.73120837e-03,  1.75174693e-03,\n",
       "          5.27603501e-04,  2.93713519e-03,  9.16774944e-04,\n",
       "          5.20808879e-03, -9.08094402e-04,  1.80367194e-03,\n",
       "          5.38100663e-03,  2.31240874e-03,  9.11577156e-03,\n",
       "          9.21828124e-04,  4.17101768e-03,  1.54436653e-03,\n",
       "          6.63416488e-03, -2.29395377e-03,  2.56298730e-03,\n",
       "         -3.74961842e-03, -1.25783046e-03,  1.10761871e-03],\n",
       "        [ 1.45413980e-02,  1.43484438e-02, -5.08517480e-04,\n",
       "         -1.75471878e-02,  5.77893388e-03,  7.44275796e-03,\n",
       "         -1.84612143e-03,  2.72115075e-02, -9.65941255e-03,\n",
       "         -1.03710515e-02, -1.81714756e-02, -2.39417043e-03,\n",
       "          6.06080726e-03,  1.16352015e-02,  1.42137024e-02,\n",
       "          1.08839819e-02, -8.06887386e-03,  1.64222878e-02,\n",
       "         -1.31365370e-03, -7.59927938e-03, -2.65941265e-03,\n",
       "         -6.74710998e-03, -9.46468316e-03, -4.38525521e-03,\n",
       "          1.55058256e-02, -9.68855778e-03,  3.61426115e-03,\n",
       "          3.28256049e-02,  1.37387271e-02, -2.26178530e-02],\n",
       "        [ 1.14074714e-02,  2.58796693e-03, -6.96931066e-04,\n",
       "          9.44891578e-04, -6.97005342e-03,  7.99383818e-03,\n",
       "          4.72294864e-03,  1.38346662e-02,  7.71181785e-03,\n",
       "         -4.12425361e-03, -1.44006157e-03,  3.08712701e-03,\n",
       "          4.85160020e-03,  1.11799360e-02, -8.47427997e-04,\n",
       "          1.07772638e-02, -4.15796281e-03,  8.50423787e-03,\n",
       "          6.17952989e-03, -4.58822243e-03,  1.82059946e-02,\n",
       "         -6.52486239e-03,  5.93755785e-03,  4.52697436e-03,\n",
       "          2.29984185e-02, -1.80660265e-02,  5.84723148e-03,\n",
       "         -9.63332283e-03,  5.32123418e-03, -3.95017978e-03],\n",
       "        [ 1.79626103e-01,  1.88587999e-01,  1.29771466e-01,\n",
       "          1.75656189e-01,  1.74380392e-01,  1.76938043e-01,\n",
       "          2.12186587e-01,  3.27361464e-01,  2.39655156e-01,\n",
       "          1.37027865e-01,  1.27597594e-01,  2.58152342e-01,\n",
       "          1.64225121e-01,  1.86059565e-01,  2.16997424e-01,\n",
       "          2.04283705e-01,  2.40654316e-01,  2.34490871e-01,\n",
       "          1.68542498e-01,  1.33572474e-01,  2.29203105e-01,\n",
       "          1.63248257e-01,  1.68302984e-01,  2.30594382e-01,\n",
       "          2.59254699e-01,  2.16585499e-01,  2.46970771e-01,\n",
       "          1.62884789e-01,  2.86445194e-01,  2.87547402e-01],\n",
       "        [ 5.20018168e-04,  4.88807746e-03,  4.66424582e-03,\n",
       "          1.22688630e-03, -1.25373385e-03, -2.64963118e-03,\n",
       "         -3.55873788e-03,  7.90880488e-03,  4.97871474e-03,\n",
       "          3.67071386e-03,  2.05781584e-03,  3.89111639e-03,\n",
       "         -3.42708854e-03,  4.42747603e-03,  1.02797098e-03,\n",
       "          7.12119428e-03,  2.33122439e-03,  2.29162413e-03,\n",
       "          6.20859450e-03,  4.23516828e-04,  3.91280236e-03,\n",
       "          1.91075097e-03,  1.37269739e-03,  4.75127927e-03,\n",
       "          4.88548911e-03,  8.21005801e-03,  2.77930853e-03,\n",
       "         -2.00755341e-03,  6.83013850e-03,  4.21958886e-03]])}"
      ]
     },
     "execution_count": 64,
     "metadata": {},
     "output_type": "execute_result"
    }
   ],
   "source": [
    "rsdaf"
   ]
  },
  {
   "cell_type": "code",
   "execution_count": 17,
   "metadata": {
    "ExecuteTime": {
     "end_time": "2022-05-24T05:48:23.110154Z",
     "start_time": "2022-05-24T05:48:23.097859Z"
    }
   },
   "outputs": [
    {
     "data": {
      "text/plain": [
       "array([8, 2, 3, 1, 4, 7, 9, 6, 5, 0])"
      ]
     },
     "execution_count": 17,
     "metadata": {},
     "output_type": "execute_result"
    }
   ],
   "source": [
    "r.importances_mean.argsort()[::-1]"
   ]
  },
  {
   "cell_type": "code",
   "execution_count": 11,
   "metadata": {
    "ExecuteTime": {
     "end_time": "2022-05-24T05:33:21.959770Z",
     "start_time": "2022-05-24T05:33:21.949279Z"
    }
   },
   "outputs": [
    {
     "data": {
      "text/plain": [
       "array([-0.00199237,  0.05587285,  0.17579633,  0.08836144,  0.04219777,\n",
       "        0.00203309,  0.00203936,  0.00318738,  0.20422681,  0.00278711])"
      ]
     },
     "execution_count": 11,
     "metadata": {},
     "output_type": "execute_result"
    }
   ],
   "source": [
    "# 피처별 importance\n",
    "r.importances_mean"
   ]
  },
  {
   "cell_type": "markdown",
   "metadata": {},
   "source": [
    "#### Permutation Importance vs Random Forest Feature Importance\n",
    "\n",
    "**Permutation Importance와 Feature Importance의 차이 예제**<<br>\n",
    "https://scikit-learn.org/stable/auto_examples/inspection/plot_permutation_importance.html#sphx-glr-auto-examples-inspection-plot-permutation-importance-py\n",
    "<br>\n",
    "\n",
    "<img src=https://blog.kakaocdn.net/dn/qveRe/btrC0NcnZHm/58ACnG9PqNtlbmLp3Lxzk1/img.png width=1200>"
   ]
  },
  {
   "cell_type": "markdown",
   "metadata": {},
   "source": [
    "Feature importance의 참의미는 Feature importance for making optimal tree structure.<br>\n",
    "즉, **최적 트리 구조를 만들기 위한 Feature의 중요도라는 의미가 강하다.**<br>"
   ]
  },
  {
   "cell_type": "code",
   "execution_count": 71,
   "metadata": {
    "ExecuteTime": {
     "end_time": "2022-05-24T17:26:52.453182Z",
     "start_time": "2022-05-24T17:26:52.442470Z"
    }
   },
   "outputs": [],
   "source": [
    "import matplotlib.pyplot as plt\n",
    "import numpy as np\n",
    "from sklearn.datasets import fetch_openml\n",
    "from sklearn.ensemble import RandomForestClassifier\n",
    "from sklearn.impute import SimpleImputer\n",
    "from sklearn.inspection import permutation_importance\n",
    "from sklearn.compose import ColumnTransformer\n",
    "from sklearn.model_selection import train_test_split\n",
    "from sklearn.pipeline import Pipeline\n",
    "from sklearn.preprocessing import OneHotEncoder\n",
    "import warnings\n",
    "warnings.filterwarnings('ignore')"
   ]
  },
  {
   "cell_type": "markdown",
   "metadata": {},
   "source": [
    "#### Target값과 상관없는 2개의 노이즈 컬럼(피처)를 생성해서 Feature importance와 Permutation importance확인"
   ]
  },
  {
   "cell_type": "code",
   "execution_count": 68,
   "metadata": {
    "ExecuteTime": {
     "end_time": "2022-05-24T17:25:15.576918Z",
     "start_time": "2022-05-24T17:25:15.413089Z"
    }
   },
   "outputs": [
    {
     "data": {
      "text/html": [
       "<style>#sk-container-id-2 {color: black;background-color: white;}#sk-container-id-2 pre{padding: 0;}#sk-container-id-2 div.sk-toggleable {background-color: white;}#sk-container-id-2 label.sk-toggleable__label {cursor: pointer;display: block;width: 100%;margin-bottom: 0;padding: 0.3em;box-sizing: border-box;text-align: center;}#sk-container-id-2 label.sk-toggleable__label-arrow:before {content: \"▸\";float: left;margin-right: 0.25em;color: #696969;}#sk-container-id-2 label.sk-toggleable__label-arrow:hover:before {color: black;}#sk-container-id-2 div.sk-estimator:hover label.sk-toggleable__label-arrow:before {color: black;}#sk-container-id-2 div.sk-toggleable__content {max-height: 0;max-width: 0;overflow: hidden;text-align: left;background-color: #f0f8ff;}#sk-container-id-2 div.sk-toggleable__content pre {margin: 0.2em;color: black;border-radius: 0.25em;background-color: #f0f8ff;}#sk-container-id-2 input.sk-toggleable__control:checked~div.sk-toggleable__content {max-height: 200px;max-width: 100%;overflow: auto;}#sk-container-id-2 input.sk-toggleable__control:checked~label.sk-toggleable__label-arrow:before {content: \"▾\";}#sk-container-id-2 div.sk-estimator input.sk-toggleable__control:checked~label.sk-toggleable__label {background-color: #d4ebff;}#sk-container-id-2 div.sk-label input.sk-toggleable__control:checked~label.sk-toggleable__label {background-color: #d4ebff;}#sk-container-id-2 input.sk-hidden--visually {border: 0;clip: rect(1px 1px 1px 1px);clip: rect(1px, 1px, 1px, 1px);height: 1px;margin: -1px;overflow: hidden;padding: 0;position: absolute;width: 1px;}#sk-container-id-2 div.sk-estimator {font-family: monospace;background-color: #f0f8ff;border: 1px dotted black;border-radius: 0.25em;box-sizing: border-box;margin-bottom: 0.5em;}#sk-container-id-2 div.sk-estimator:hover {background-color: #d4ebff;}#sk-container-id-2 div.sk-parallel-item::after {content: \"\";width: 100%;border-bottom: 1px solid gray;flex-grow: 1;}#sk-container-id-2 div.sk-label:hover label.sk-toggleable__label {background-color: #d4ebff;}#sk-container-id-2 div.sk-serial::before {content: \"\";position: absolute;border-left: 1px solid gray;box-sizing: border-box;top: 0;bottom: 0;left: 50%;z-index: 0;}#sk-container-id-2 div.sk-serial {display: flex;flex-direction: column;align-items: center;background-color: white;padding-right: 0.2em;padding-left: 0.2em;position: relative;}#sk-container-id-2 div.sk-item {position: relative;z-index: 1;}#sk-container-id-2 div.sk-parallel {display: flex;align-items: stretch;justify-content: center;background-color: white;position: relative;}#sk-container-id-2 div.sk-item::before, #sk-container-id-2 div.sk-parallel-item::before {content: \"\";position: absolute;border-left: 1px solid gray;box-sizing: border-box;top: 0;bottom: 0;left: 50%;z-index: -1;}#sk-container-id-2 div.sk-parallel-item {display: flex;flex-direction: column;z-index: 1;position: relative;background-color: white;}#sk-container-id-2 div.sk-parallel-item:first-child::after {align-self: flex-end;width: 50%;}#sk-container-id-2 div.sk-parallel-item:last-child::after {align-self: flex-start;width: 50%;}#sk-container-id-2 div.sk-parallel-item:only-child::after {width: 0;}#sk-container-id-2 div.sk-dashed-wrapped {border: 1px dashed gray;margin: 0 0.4em 0.5em 0.4em;box-sizing: border-box;padding-bottom: 0.4em;background-color: white;}#sk-container-id-2 div.sk-label label {font-family: monospace;font-weight: bold;display: inline-block;line-height: 1.2em;}#sk-container-id-2 div.sk-label-container {text-align: center;}#sk-container-id-2 div.sk-container {/* jupyter's `normalize.less` sets `[hidden] { display: none; }` but bootstrap.min.css set `[hidden] { display: none !important; }` so we also need the `!important` here to be able to override the default hidden behavior on the sphinx rendered scikit-learn.org. See: https://github.com/scikit-learn/scikit-learn/issues/21755 */display: inline-block !important;position: relative;}#sk-container-id-2 div.sk-text-repr-fallback {display: none;}</style><div id=\"sk-container-id-2\" class=\"sk-top-container\"><div class=\"sk-text-repr-fallback\"><pre>Pipeline(steps=[(&#x27;preprocess&#x27;,\n",
       "                 ColumnTransformer(transformers=[(&#x27;cat&#x27;,\n",
       "                                                  Pipeline(steps=[(&#x27;imputer&#x27;,\n",
       "                                                                   SimpleImputer(fill_value=&#x27;missing&#x27;,\n",
       "                                                                                 strategy=&#x27;constant&#x27;)),\n",
       "                                                                  (&#x27;onehot&#x27;,\n",
       "                                                                   OneHotEncoder(handle_unknown=&#x27;ignore&#x27;))]),\n",
       "                                                  [&#x27;pclass&#x27;, &#x27;sex&#x27;, &#x27;embarked&#x27;,\n",
       "                                                   &#x27;random_cat&#x27;]),\n",
       "                                                 (&#x27;num&#x27;,\n",
       "                                                  Pipeline(steps=[(&#x27;imputer&#x27;,\n",
       "                                                                   SimpleImputer())]),\n",
       "                                                  [&#x27;age&#x27;, &#x27;sibsp&#x27;, &#x27;parch&#x27;,\n",
       "                                                   &#x27;fare&#x27;, &#x27;random_num&#x27;])])),\n",
       "                (&#x27;classifier&#x27;, RandomForestClassifier(random_state=42))])</pre><b>In a Jupyter environment, please rerun this cell to show the HTML representation or trust the notebook. <br />On GitHub, the HTML representation is unable to render, please try loading this page with nbviewer.org.</b></div><div class=\"sk-container\" hidden><div class=\"sk-item sk-dashed-wrapped\"><div class=\"sk-label-container\"><div class=\"sk-label sk-toggleable\"><input class=\"sk-toggleable__control sk-hidden--visually\" id=\"sk-estimator-id-9\" type=\"checkbox\" ><label for=\"sk-estimator-id-9\" class=\"sk-toggleable__label sk-toggleable__label-arrow\">Pipeline</label><div class=\"sk-toggleable__content\"><pre>Pipeline(steps=[(&#x27;preprocess&#x27;,\n",
       "                 ColumnTransformer(transformers=[(&#x27;cat&#x27;,\n",
       "                                                  Pipeline(steps=[(&#x27;imputer&#x27;,\n",
       "                                                                   SimpleImputer(fill_value=&#x27;missing&#x27;,\n",
       "                                                                                 strategy=&#x27;constant&#x27;)),\n",
       "                                                                  (&#x27;onehot&#x27;,\n",
       "                                                                   OneHotEncoder(handle_unknown=&#x27;ignore&#x27;))]),\n",
       "                                                  [&#x27;pclass&#x27;, &#x27;sex&#x27;, &#x27;embarked&#x27;,\n",
       "                                                   &#x27;random_cat&#x27;]),\n",
       "                                                 (&#x27;num&#x27;,\n",
       "                                                  Pipeline(steps=[(&#x27;imputer&#x27;,\n",
       "                                                                   SimpleImputer())]),\n",
       "                                                  [&#x27;age&#x27;, &#x27;sibsp&#x27;, &#x27;parch&#x27;,\n",
       "                                                   &#x27;fare&#x27;, &#x27;random_num&#x27;])])),\n",
       "                (&#x27;classifier&#x27;, RandomForestClassifier(random_state=42))])</pre></div></div></div><div class=\"sk-serial\"><div class=\"sk-item sk-dashed-wrapped\"><div class=\"sk-label-container\"><div class=\"sk-label sk-toggleable\"><input class=\"sk-toggleable__control sk-hidden--visually\" id=\"sk-estimator-id-10\" type=\"checkbox\" ><label for=\"sk-estimator-id-10\" class=\"sk-toggleable__label sk-toggleable__label-arrow\">preprocess: ColumnTransformer</label><div class=\"sk-toggleable__content\"><pre>ColumnTransformer(transformers=[(&#x27;cat&#x27;,\n",
       "                                 Pipeline(steps=[(&#x27;imputer&#x27;,\n",
       "                                                  SimpleImputer(fill_value=&#x27;missing&#x27;,\n",
       "                                                                strategy=&#x27;constant&#x27;)),\n",
       "                                                 (&#x27;onehot&#x27;,\n",
       "                                                  OneHotEncoder(handle_unknown=&#x27;ignore&#x27;))]),\n",
       "                                 [&#x27;pclass&#x27;, &#x27;sex&#x27;, &#x27;embarked&#x27;, &#x27;random_cat&#x27;]),\n",
       "                                (&#x27;num&#x27;,\n",
       "                                 Pipeline(steps=[(&#x27;imputer&#x27;, SimpleImputer())]),\n",
       "                                 [&#x27;age&#x27;, &#x27;sibsp&#x27;, &#x27;parch&#x27;, &#x27;fare&#x27;,\n",
       "                                  &#x27;random_num&#x27;])])</pre></div></div></div><div class=\"sk-parallel\"><div class=\"sk-parallel-item\"><div class=\"sk-item\"><div class=\"sk-label-container\"><div class=\"sk-label sk-toggleable\"><input class=\"sk-toggleable__control sk-hidden--visually\" id=\"sk-estimator-id-11\" type=\"checkbox\" ><label for=\"sk-estimator-id-11\" class=\"sk-toggleable__label sk-toggleable__label-arrow\">cat</label><div class=\"sk-toggleable__content\"><pre>[&#x27;pclass&#x27;, &#x27;sex&#x27;, &#x27;embarked&#x27;, &#x27;random_cat&#x27;]</pre></div></div></div><div class=\"sk-serial\"><div class=\"sk-item\"><div class=\"sk-serial\"><div class=\"sk-item\"><div class=\"sk-estimator sk-toggleable\"><input class=\"sk-toggleable__control sk-hidden--visually\" id=\"sk-estimator-id-12\" type=\"checkbox\" ><label for=\"sk-estimator-id-12\" class=\"sk-toggleable__label sk-toggleable__label-arrow\">SimpleImputer</label><div class=\"sk-toggleable__content\"><pre>SimpleImputer(fill_value=&#x27;missing&#x27;, strategy=&#x27;constant&#x27;)</pre></div></div></div><div class=\"sk-item\"><div class=\"sk-estimator sk-toggleable\"><input class=\"sk-toggleable__control sk-hidden--visually\" id=\"sk-estimator-id-13\" type=\"checkbox\" ><label for=\"sk-estimator-id-13\" class=\"sk-toggleable__label sk-toggleable__label-arrow\">OneHotEncoder</label><div class=\"sk-toggleable__content\"><pre>OneHotEncoder(handle_unknown=&#x27;ignore&#x27;)</pre></div></div></div></div></div></div></div></div><div class=\"sk-parallel-item\"><div class=\"sk-item\"><div class=\"sk-label-container\"><div class=\"sk-label sk-toggleable\"><input class=\"sk-toggleable__control sk-hidden--visually\" id=\"sk-estimator-id-14\" type=\"checkbox\" ><label for=\"sk-estimator-id-14\" class=\"sk-toggleable__label sk-toggleable__label-arrow\">num</label><div class=\"sk-toggleable__content\"><pre>[&#x27;age&#x27;, &#x27;sibsp&#x27;, &#x27;parch&#x27;, &#x27;fare&#x27;, &#x27;random_num&#x27;]</pre></div></div></div><div class=\"sk-serial\"><div class=\"sk-item\"><div class=\"sk-serial\"><div class=\"sk-item\"><div class=\"sk-estimator sk-toggleable\"><input class=\"sk-toggleable__control sk-hidden--visually\" id=\"sk-estimator-id-15\" type=\"checkbox\" ><label for=\"sk-estimator-id-15\" class=\"sk-toggleable__label sk-toggleable__label-arrow\">SimpleImputer</label><div class=\"sk-toggleable__content\"><pre>SimpleImputer()</pre></div></div></div></div></div></div></div></div></div></div><div class=\"sk-item\"><div class=\"sk-estimator sk-toggleable\"><input class=\"sk-toggleable__control sk-hidden--visually\" id=\"sk-estimator-id-16\" type=\"checkbox\" ><label for=\"sk-estimator-id-16\" class=\"sk-toggleable__label sk-toggleable__label-arrow\">RandomForestClassifier</label><div class=\"sk-toggleable__content\"><pre>RandomForestClassifier(random_state=42)</pre></div></div></div></div></div></div></div>"
      ],
      "text/plain": [
       "Pipeline(steps=[('preprocess',\n",
       "                 ColumnTransformer(transformers=[('cat',\n",
       "                                                  Pipeline(steps=[('imputer',\n",
       "                                                                   SimpleImputer(fill_value='missing',\n",
       "                                                                                 strategy='constant')),\n",
       "                                                                  ('onehot',\n",
       "                                                                   OneHotEncoder(handle_unknown='ignore'))]),\n",
       "                                                  ['pclass', 'sex', 'embarked',\n",
       "                                                   'random_cat']),\n",
       "                                                 ('num',\n",
       "                                                  Pipeline(steps=[('imputer',\n",
       "                                                                   SimpleImputer())]),\n",
       "                                                  ['age', 'sibsp', 'parch',\n",
       "                                                   'fare', 'random_num'])])),\n",
       "                ('classifier', RandomForestClassifier(random_state=42))])"
      ]
     },
     "execution_count": 68,
     "metadata": {},
     "output_type": "execute_result"
    }
   ],
   "source": [
    "# titanic 데이터 세트 로딩. \n",
    "X, y = fetch_openml(\"titanic\", version=1, as_frame=True, return_X_y=True)\n",
    "\n",
    "rng = np.random.RandomState(seed=42)\n",
    "## 노이즈 컬럼(피처) 2개 생성\n",
    "# 3가지 값으로 category값 random 설정. \n",
    "X['random_cat'] = rng.randint(3, size=X.shape[0])\n",
    "# X건수만큼 고유한 random 값 설정. \n",
    "X['random_num'] = rng.randn(X.shape[0])\n",
    "\n",
    "# 피처 종류 구분\n",
    "categorical_columns = ['pclass', 'sex', 'embarked', 'random_cat']\n",
    "numerical_columns = ['age', 'sibsp', 'parch', 'fare', 'random_num']\n",
    "X = X[categorical_columns + numerical_columns]\n",
    "\n",
    "X_train, X_test, y_train, y_test = train_test_split(\n",
    "                                    X, y, stratify=y, random_state=42)\n",
    "\n",
    "# Null 값 처리, category 값 encoding \n",
    "categorical_pipe = Pipeline([\n",
    "    ('imputer', SimpleImputer(strategy='constant', fill_value='missing')),\n",
    "    ('onehot', OneHotEncoder(handle_unknown='ignore'))\n",
    "])\n",
    "numerical_pipe = Pipeline([\n",
    "    ('imputer', SimpleImputer(strategy='mean'))\n",
    "])\n",
    "preprocessing = ColumnTransformer(\n",
    "    [('cat', categorical_pipe, categorical_columns),\n",
    "     ('num', numerical_pipe, numerical_columns)])\n",
    "# 데이터 전처리 후 RandomForest로 학습 \n",
    "rf = Pipeline([\n",
    "    ('preprocess', preprocessing),\n",
    "    ('classifier', RandomForestClassifier(random_state=42))\n",
    "])\n",
    "\n",
    "rf.fit(X_train, y_train)"
   ]
  },
  {
   "cell_type": "code",
   "execution_count": 70,
   "metadata": {
    "ExecuteTime": {
     "end_time": "2022-05-24T17:26:19.655430Z",
     "start_time": "2022-05-24T17:26:19.604876Z"
    }
   },
   "outputs": [
    {
     "name": "stdout",
     "output_type": "stream",
     "text": [
      "RF train accuracy: 100.00%\n",
      "RF test accuracy: 81.71%\n"
     ]
    }
   ],
   "source": [
    "print(f\"RF train accuracy: {rf.score(X_train, y_train):.2%}\")\n",
    "print(f\"RF test accuracy: {rf.score(X_test, y_test):.2%}\")"
   ]
  },
  {
   "cell_type": "code",
   "execution_count": 77,
   "metadata": {
    "ExecuteTime": {
     "end_time": "2022-05-24T17:28:09.334653Z",
     "start_time": "2022-05-24T17:28:09.224572Z"
    }
   },
   "outputs": [
    {
     "data": {
      "image/png": "[encoded data removed]",
      "text/plain": [
       "<Figure size 720x576 with 1 Axes>"
      ]
     },
     "metadata": {
      "needs_background": "light"
     },
     "output_type": "display_data"
    }
   ],
   "source": [
    "ohe = (rf.named_steps['preprocess']\n",
    "         .named_transformers_['cat']\n",
    "         .named_steps['onehot'])\n",
    "feature_names = ohe.get_feature_names(input_features=categorical_columns)\n",
    "feature_names = np.r_[feature_names, numerical_columns]\n",
    "\n",
    "tree_feature_importances = (\n",
    "    rf.named_steps['classifier'].feature_importances_)\n",
    "sorted_idx = tree_feature_importances.argsort()\n",
    "\n",
    "y_ticks = np.arange(0, len(feature_names))\n",
    "fig, ax = plt.subplots(figsize=(10,8))\n",
    "ax.barh(y_ticks, tree_feature_importances[sorted_idx])\n",
    "ax.set_yticklabels(feature_names[sorted_idx])\n",
    "ax.set_yticks(y_ticks)\n",
    "ax.set_title(\"Random Forest Feature Importances (MDI)\")\n",
    "fig.tight_layout()\n",
    "plt.show()"
   ]
  },
  {
   "cell_type": "markdown",
   "metadata": {},
   "source": [
    "**-> random_num은 랜덤한 수인데 피처 임포턴스에선 높게 나올 수 있다.**"
   ]
  },
  {
   "cell_type": "markdown",
   "metadata": {},
   "source": [
    "##### 검증 데이터 세트로 permutation importance 수행\n",
    "**-> Feature Importance 보다 Permutation Importance가 성능과 더 연관이 높다**  "
   ]
  },
  {
   "cell_type": "code",
   "execution_count": 80,
   "metadata": {
    "ExecuteTime": {
     "end_time": "2022-05-24T17:32:49.867860Z",
     "start_time": "2022-05-24T17:32:49.317298Z"
    }
   },
   "outputs": [
    {
     "data": {
      "image/png": "[encoded data removed]",
      "text/plain": [
       "<Figure size 720x576 with 1 Axes>"
      ]
     },
     "metadata": {
      "needs_background": "light"
     },
     "output_type": "display_data"
    }
   ],
   "source": [
    "result = permutation_importance(rf, X_test, y_test, n_repeats=10,\n",
    "                                random_state=42, n_jobs=2)\n",
    "sorted_idx = result.importances_mean.argsort()\n",
    "\n",
    "fig, ax = plt.subplots(figsize=(10,8))\n",
    "ax.boxplot(result.importances[sorted_idx].T,\n",
    "           vert=False, labels=X_test.columns[sorted_idx])\n",
    "ax.set_title(\"Permutation Importances (test set)\")\n",
    "fig.tight_layout()\n",
    "plt.show()"
   ]
  }
 ],
 "metadata": {
  "kernelspec": {
   "display_name": "Python 3",
   "language": "python",
   "name": "python3"
  },
  "language_info": {
   "codemirror_mode": {
    "name": "ipython",
    "version": 3
   },
   "file_extension": ".py",
   "mimetype": "text/x-python",
   "name": "python",
   "nbconvert_exporter": "python",
   "pygments_lexer": "ipython3",
   "version": "3.8.12"
  },
  "toc": {
   "base_numbering": 1,
   "nav_menu": {},
   "number_sections": true,
   "sideBar": true,
   "skip_h1_title": false,
   "title_cell": "Table of Contents",
   "title_sidebar": "Contents",
   "toc_cell": false,
   "toc_position": {
    "height": "calc(100% - 180px)",
    "left": "10px",
    "top": "150px",
    "width": "569.557px"
   },
   "toc_section_display": true,
   "toc_window_display": true
  }
 },
 "nbformat": 4,
 "nbformat_minor": 4
}
