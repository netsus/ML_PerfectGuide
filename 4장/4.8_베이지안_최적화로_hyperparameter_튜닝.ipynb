{
 "cells": [
  {
   "cell_type": "markdown",
   "id": "2bf44cfc",
   "metadata": {},
   "source": [
    "## 하이퍼 파라미터 튜닝"
   ]
  },
  {
   "cell_type": "markdown",
   "id": "5dabbc93",
   "metadata": {},
   "source": [
    "### 하이퍼 파라미터 튜닝 크게나누면 4가지\n",
    "1. Grid Search : params를 주고 그리드 모양으로 모두 서치\n",
    "2. Random Search : 그리드 서치를 랜덤하게 한다.\n",
    "3. Bayesian Optimization\n",
    "4. 수동 튜닝"
   ]
  },
  {
   "cell_type": "markdown",
   "id": "3c768bc7",
   "metadata": {},
   "source": [
    "### 하이퍼 파라미터 튜닝의 주요 이슈"
   ]
  },
  {
   "cell_type": "markdown",
   "id": "82d8628f",
   "metadata": {},
   "source": [
    "<img src=https://blog.kakaocdn.net/dn/cJ0vQo/btrCjFlBrse/Siw2SOMxqgGbuzKQPRAd31/img.png width=1200>"
   ]
  },
  {
   "cell_type": "markdown",
   "id": "89c72e07",
   "metadata": {},
   "source": [
    "- Gradient Boosting 기반 알고리즘은 튜닝 해야 할 하이퍼 파라미터 개수가 많고, 번위가 넓어서 가능한 개별 경우의 수가 너무 많음.\n",
    "- 이러한 경우의 수가 많은 경우 데이터가 크면 하이퍼 파라미터 튜닝 수행이 너무 오래 걸림.\n",
    "\n",
    "-> 주어진 경우의수만 다해보기보단. 성능이 좋아지는 방향으로 최소의 시도를 통해, 좋은 성능의 모델을 뽑아내는것 -> 베이지안 최적화"
   ]
  },
  {
   "cell_type": "markdown",
   "id": "48393071",
   "metadata": {},
   "source": [
    "## 베이지안 최적화"
   ]
  },
  {
   "cell_type": "markdown",
   "id": "bf845569",
   "metadata": {},
   "source": [
    "<img src=https://blog.kakaocdn.net/dn/b9Fvq7/btrCkf06S1J/feMCpi5DhoXxwMsYuuRff1/img.png width=1200>"
   ]
  },
  {
   "cell_type": "markdown",
   "id": "6b59efde",
   "metadata": {},
   "source": [
    "### 베이지안 최적화 수행 단계 4스텝"
   ]
  },
  {
   "cell_type": "markdown",
   "id": "4533a0c2",
   "metadata": {},
   "source": [
    "<img src=https://blog.kakaocdn.net/dn/cpSpoB/btrCkgyS1hR/CgOS8GJEMCvkFk2u9Buej1/img.png width1200>"
   ]
  },
  {
   "cell_type": "markdown",
   "id": "3ce74a60",
   "metadata": {},
   "source": [
    "### 베이지안 최적화를 구현한 주요 패키지\n",
    "1. HyperOpt: \n",
    "2. Bayesian optimization: \n",
    "3. Optuna: "
   ]
  },
  {
   "cell_type": "markdown",
   "id": "3941d095",
   "metadata": {},
   "source": [
    "### HyperOpt를 통한 최적화 예시"
   ]
  },
  {
   "cell_type": "markdown",
   "id": "54d7544a",
   "metadata": {},
   "source": [
    "<img src=https://blog.kakaocdn.net/dn/mjYYx/btrCebrvgeD/7wRIsVYkCpFMcxHX4TgxB1/img.png width=1200>"
   ]
  },
  {
   "cell_type": "markdown",
   "id": "d54f598a",
   "metadata": {},
   "source": [
    "**구성 요소 3가지**\n",
    "1. Search Space : 입력값 범위. x와 y의 입력값 범위를 준다.\n",
    "2. 목적 함수 : 블랙박스 함수. 내부가 어떻게 돌아가는지 모르고 입력값에 대한 반환값을 알 수 있는 함수\n",
    "3. 목적 함수 반환 최소값 유추 예시 -> **fmin**함수가 핵심\n",
    "-> objective_func함수에 search_space 범위의 입력값을 넣었을 때, max_evlas번 반복하며 베이지안 최적화로 최소값 유추하는 예시.\n",
    "\n",
    "    여기선 5번 반복하며 최소값 64.080 찾음"
   ]
  },
  {
   "cell_type": "markdown",
   "id": "dbf2d247",
   "metadata": {},
   "source": [
    "<img src=https://blog.kakaocdn.net/dn/bykjOu/btrCiQOCfIV/flkFRV5K2U8XFNLSn6aGO1/img.png width=1200>"
   ]
  },
  {
   "cell_type": "markdown",
   "id": "8904a67d",
   "metadata": {},
   "source": [
    "### 베이지안 최적화 개요와 HyperOpt 사용법"
   ]
  },
  {
   "cell_type": "code",
   "execution_count": 1,
   "id": "e2a49a55",
   "metadata": {
    "ExecuteTime": {
     "end_time": "2022-05-21T09:06:49.765364Z",
     "start_time": "2022-05-21T09:06:49.343683Z"
    }
   },
   "outputs": [
    {
     "name": "stdout",
     "output_type": "stream",
     "text": [
      "0.2.7\n"
     ]
    }
   ],
   "source": [
    "import hyperopt\n",
    "print(hyperopt.__version__)"
   ]
  },
  {
   "cell_type": "code",
   "execution_count": 2,
   "id": "f893afc6",
   "metadata": {
    "ExecuteTime": {
     "end_time": "2022-05-21T09:06:49.767670Z",
     "start_time": "2022-05-21T09:06:49.766362Z"
    }
   },
   "outputs": [],
   "source": [
    "# !pip install hyperopt==0.2.7"
   ]
  },
  {
   "cell_type": "code",
   "execution_count": 45,
   "id": "55f87bd9",
   "metadata": {
    "ExecuteTime": {
     "end_time": "2022-05-21T09:12:42.297796Z",
     "start_time": "2022-05-21T09:12:42.284023Z"
    }
   },
   "outputs": [
    {
     "name": "stdout",
     "output_type": "stream",
     "text": [
      "<class 'hyperopt.pyll.base.Apply'>\n"
     ]
    },
    {
     "data": {
      "text/plain": [
       "{'x': <hyperopt.pyll.base.Apply at 0x12a756640>,\n",
       " 'y': <hyperopt.pyll.base.Apply at 0x12a756460>}"
      ]
     },
     "execution_count": 45,
     "metadata": {},
     "output_type": "execute_result"
    }
   ],
   "source": [
    "from hyperopt import hp\n",
    "print(type(hp.quniform('x',-10, 10, 1)))\n",
    "\n",
    "# x는 -10 ~ 10 까지 1간격을 가지고, y는 -15 ~ 15까지 1간격을 가지는 입력 변수.\n",
    "# x : -10, -9, ... 9, 10    /    y: -15, -14, ... 14, 15\n",
    "search_space = {'x': hp.quniform('x', -10, 10, 1), 'y': hp.quniform('y', -15, 15, 1) }\n",
    "search_space"
   ]
  },
  {
   "cell_type": "code",
   "execution_count": 47,
   "id": "94af5743",
   "metadata": {
    "ExecuteTime": {
     "end_time": "2022-05-21T09:14:35.304837Z",
     "start_time": "2022-05-21T09:14:35.293059Z"
    }
   },
   "outputs": [
    {
     "data": {
      "text/plain": [
       "'ok'"
      ]
     },
     "execution_count": 47,
     "metadata": {},
     "output_type": "execute_result"
    }
   ],
   "source": [
    "from hyperopt import STATUS_OK\n",
    "STATUS_OK"
   ]
  },
  {
   "cell_type": "code",
   "execution_count": 50,
   "id": "2707ad99",
   "metadata": {
    "ExecuteTime": {
     "end_time": "2022-05-21T09:17:43.644258Z",
     "start_time": "2022-05-21T09:17:43.636686Z"
    }
   },
   "outputs": [],
   "source": [
    "# 목적 함수 생성\n",
    "# : 입력 변수 검색 범위를 갖는 딕셔너리 search_space(x,y)를 받고, x^2 - 20y 값을 반환\n",
    "def objective_func(search_space):\n",
    "    x = search_space['x'] # <hyperopt.pyll.base.Apply at 0x12a756640>\n",
    "    y = search_space['y'] # <hyperopt.pyll.base.Apply at 0x12a756460>\n",
    "    retval = x**2 - 20*y\n",
    "    return retval # return {'loss':retval, 'status':STATUS_OK} 해도 된다."
   ]
  },
  {
   "cell_type": "markdown",
   "id": "e10a15ee",
   "metadata": {},
   "source": [
    "#### HyperOpt에서 베이지안최적화를 진행하는 함수는 fmin"
   ]
  },
  {
   "cell_type": "code",
   "execution_count": 55,
   "id": "e9537d60",
   "metadata": {
    "ExecuteTime": {
     "end_time": "2022-05-21T09:41:05.485633Z",
     "start_time": "2022-05-21T09:41:05.463528Z"
    }
   },
   "outputs": [
    {
     "name": "stdout",
     "output_type": "stream",
     "text": [
      "100%|██████████| 5/5 [00:00<00:00, 556.42trial/s, best loss: -224.0]\n",
      "best: {'x': -4.0, 'y': 12.0}\n"
     ]
    }
   ],
   "source": [
    "from hyperopt import fmin, tpe, Trials\n",
    "import numpy as np\n",
    "\n",
    "# 최적화 과정의 결과값을 저장한 Tirals 객체 생성\n",
    "trial_val = Trials()\n",
    "\n",
    "# fmin을 활용해 목적 함수의 최소값 찾기\n",
    "# 인자\n",
    "## fn: 목적함수, space: 탐색영역\n",
    "## algo: search algorithm. 여기서 tpe.suggest를 사용 (Tree Parzen Estimator: SMBO(순차 모델 기반 최적화) 접근 방식)\n",
    "## max_evals: 반복 횟수\n",
    "## trials=trial_val : max_evals만큼 수행한 입력값과 결과값을 trail_val에 저장\n",
    "## rstate : random_state. 여기선 정수 말고, 아래처럼 np.random.default_rng(seed=정수) 형태를 사용.\n",
    "## => 경험적으로는 rstate를 따로 설정하지 않는게 성능이 더 좋은 경향.\n",
    "best_01 = fmin(fn=objective_func, space=search_space, algo=tpe.suggest, max_evals=5,\n",
    "              trials=trial_val, rstate=np.random.default_rng(seed=0))\n",
    "print(f\"best: {best_01}\")"
   ]
  },
  {
   "cell_type": "code",
   "execution_count": 56,
   "id": "2bbbd861",
   "metadata": {
    "ExecuteTime": {
     "end_time": "2022-05-21T09:41:21.728882Z",
     "start_time": "2022-05-21T09:41:21.693618Z"
    }
   },
   "outputs": [
    {
     "name": "stdout",
     "output_type": "stream",
     "text": [
      "100%|██████████| 20/20 [00:00<00:00, 941.08trial/s, best loss: -296.0]\n",
      "best: {'x': 2.0, 'y': 15.0}\n"
     ]
    }
   ],
   "source": [
    "trial_val = Trials()\n",
    "\n",
    "# max_evals를 20회로 늘려서 재테스트 -> 성능이 더 좋아진다.\n",
    "best_02 = fmin(fn=objective_func, space=search_space, algo=tpe.suggest, max_evals=20\n",
    "               , trials=trial_val, rstate=np.random.default_rng(seed=0))\n",
    "print('best:', best_02)"
   ]
  },
  {
   "cell_type": "code",
   "execution_count": 57,
   "id": "22cd2e49",
   "metadata": {
    "ExecuteTime": {
     "end_time": "2022-05-21T09:41:22.797502Z",
     "start_time": "2022-05-21T09:41:22.787226Z"
    }
   },
   "outputs": [
    {
     "data": {
      "text/plain": [
       "<hyperopt.base.Trials at 0x12a41a820>"
      ]
     },
     "execution_count": 57,
     "metadata": {},
     "output_type": "execute_result"
    }
   ],
   "source": [
    "trial_val"
   ]
  },
  {
   "cell_type": "markdown",
   "id": "ef8e06c5",
   "metadata": {},
   "source": [
    "#### Trials(): HyperOpt 수행, 입력 값들과 목적 함수 반환값 보기"
   ]
  },
  {
   "cell_type": "code",
   "execution_count": 61,
   "id": "c7003b19",
   "metadata": {
    "ExecuteTime": {
     "end_time": "2022-05-21T09:50:43.443013Z",
     "start_time": "2022-05-21T09:50:43.435966Z"
    }
   },
   "outputs": [
    {
     "name": "stdout",
     "output_type": "stream",
     "text": [
      "[{'loss': -64.0, 'status': 'ok'}, {'loss': -184.0, 'status': 'ok'}, {'loss': 56.0, 'status': 'ok'}]\n"
     ]
    }
   ],
   "source": [
    "# fmin( )에 인자로 들어가는 Trials 객체의 results 속성에 파이썬 리스트로 목적 함수 반환값들이 저장됨.\n",
    "# 리스트(results) 내부의 개별 원소는 {'loss':함수 반환값, 'status':반환 상태값}와 같은 딕셔너리.\n",
    "print(trial_val.results[:3])"
   ]
  },
  {
   "cell_type": "code",
   "execution_count": 73,
   "id": "e593817a",
   "metadata": {
    "ExecuteTime": {
     "end_time": "2022-05-21T09:55:23.053190Z",
     "start_time": "2022-05-21T09:55:23.044302Z"
    }
   },
   "outputs": [
    {
     "name": "stdout",
     "output_type": "stream",
     "text": [
      "{'x': [-6.0, -4.0, 4.0, -4.0, 9.0, 2.0, 10.0, -9.0, -8.0, -0.0, -0.0, 1.0, 9.0, 6.0, 9.0, 2.0, -2.0, -4.0, 7.0, -0.0], 'y': [5.0, 10.0, -2.0, 12.0, 1.0, 15.0, 7.0, -10.0, 0.0, -5.0, -3.0, 2.0, 4.0, 10.0, 3.0, 3.0, -14.0, -8.0, 11.0, -0.0]}\n"
     ]
    }
   ],
   "source": [
    "# Trials 객체의 vals 속성에 {'입력변수명': 개별 수행시 입력된 값들의 리스트} 형태로 저장.\n",
    "print(trial_val.vals)"
   ]
  },
  {
   "cell_type": "code",
   "execution_count": 74,
   "id": "5f657040",
   "metadata": {
    "ExecuteTime": {
     "end_time": "2022-05-21T09:56:15.551290Z",
     "start_time": "2022-05-21T09:56:01.699441Z"
    }
   },
   "outputs": [],
   "source": [
    "import pandas as pd"
   ]
  },
  {
   "cell_type": "code",
   "execution_count": 80,
   "id": "8b5b0b7e",
   "metadata": {
    "ExecuteTime": {
     "end_time": "2022-05-21T09:57:30.296466Z",
     "start_time": "2022-05-21T09:57:30.286487Z"
    }
   },
   "outputs": [
    {
     "name": "stdout",
     "output_type": "stream",
     "text": [
      "[-64.0, -184.0, 56.0, -224.0, 61.0]\n"
     ]
    }
   ],
   "source": [
    "# results에서 loss key값에 해당하는 value들을 추출하여 리스트로\n",
    "losses = [d['loss'] for d in trial_val.results]\n",
    "print(losses[:5])"
   ]
  },
  {
   "cell_type": "markdown",
   "id": "864b41eb",
   "metadata": {},
   "source": [
    "#### Trials() 결과 데이터프레임으로 보기좋게"
   ]
  },
  {
   "cell_type": "code",
   "execution_count": 99,
   "id": "dea22298",
   "metadata": {
    "ExecuteTime": {
     "end_time": "2022-05-21T10:05:23.498575Z",
     "start_time": "2022-05-21T10:05:23.480262Z"
    }
   },
   "outputs": [
    {
     "data": {
      "text/html": [
       "<div>\n",
       "<style scoped>\n",
       "    .dataframe tbody tr th:only-of-type {\n",
       "        vertical-align: middle;\n",
       "    }\n",
       "\n",
       "    .dataframe tbody tr th {\n",
       "        vertical-align: top;\n",
       "    }\n",
       "\n",
       "    .dataframe thead th {\n",
       "        text-align: right;\n",
       "    }\n",
       "</style>\n",
       "<table border=\"1\" class=\"dataframe\">\n",
       "  <thead>\n",
       "    <tr style=\"text-align: right;\">\n",
       "      <th></th>\n",
       "      <th>x</th>\n",
       "      <th>y</th>\n",
       "      <th>losses</th>\n",
       "    </tr>\n",
       "  </thead>\n",
       "  <tbody>\n",
       "    <tr>\n",
       "      <th>5</th>\n",
       "      <td>2.0</td>\n",
       "      <td>15.0</td>\n",
       "      <td>-296.0</td>\n",
       "    </tr>\n",
       "    <tr>\n",
       "      <th>3</th>\n",
       "      <td>-4.0</td>\n",
       "      <td>12.0</td>\n",
       "      <td>-224.0</td>\n",
       "    </tr>\n",
       "    <tr>\n",
       "      <th>1</th>\n",
       "      <td>-4.0</td>\n",
       "      <td>10.0</td>\n",
       "      <td>-184.0</td>\n",
       "    </tr>\n",
       "    <tr>\n",
       "      <th>18</th>\n",
       "      <td>7.0</td>\n",
       "      <td>11.0</td>\n",
       "      <td>-171.0</td>\n",
       "    </tr>\n",
       "    <tr>\n",
       "      <th>13</th>\n",
       "      <td>6.0</td>\n",
       "      <td>10.0</td>\n",
       "      <td>-164.0</td>\n",
       "    </tr>\n",
       "  </tbody>\n",
       "</table>\n",
       "</div>"
      ],
      "text/plain": [
       "      x     y  losses\n",
       "5   2.0  15.0  -296.0\n",
       "3  -4.0  12.0  -224.0\n",
       "1  -4.0  10.0  -184.0\n",
       "18  7.0  11.0  -171.0\n",
       "13  6.0  10.0  -164.0"
      ]
     },
     "execution_count": 99,
     "metadata": {},
     "output_type": "execute_result"
    }
   ],
   "source": [
    "# DataFrame으로 생성\n",
    "## trial_val.vals 딕셔너리와 {'losses':losses} 딕셔너리 합치기\n",
    "sum_dict = dict(trial_val.vals,**{'losses':losses})\n",
    "result_df = pd.DataFrame(sum_dict)\n",
    "\n",
    "# DataFrame으로 생성 (강의 버전)\n",
    "# result_df = pd.DataFrame({'x': trial_val.vals['x'],'y': trial_val.vals['y'],'losses': losses})\n",
    "result_df.sort_values('losses').head(5)"
   ]
  },
  {
   "cell_type": "markdown",
   "id": "15c74b02",
   "metadata": {},
   "source": [
    "### HyperOpt를 XGBoost 하이퍼 파라미터 튜닝에 적용"
   ]
  },
  {
   "cell_type": "code",
   "execution_count": null,
   "id": "577be02a",
   "metadata": {},
   "outputs": [],
   "source": [
    "import pandas as pd\n",
    "import numpy as np\n",
    "from sklearn.datasets import load_breast_cancer\n",
    "from sklearn.model_selection import train_test_split\n",
    "import warnings\n",
    "warnings.filterwarnings('ignore')\n",
    "\n",
    "dataset = load_breast_cancer()\n",
    "\n",
    "cancer_df = pd.DataFrame(data=dataset.data, columns=dataset.feature_names)\n",
    "cancer_df['target']= dataset.target\n",
    "X_features = cancer_df.iloc[:, :-1]\n",
    "y_label = cancer_df.iloc[:, -1]\n",
    "\n",
    "# 전체 데이터 중 80%는 학습용 데이터, 20%는 테스트용 데이터 추출\n",
    "X_train, X_test, y_train, y_test=train_test_split(X_features, y_label,\n",
    "                                         test_size=0.2, random_state=156 )\n",
    "\n",
    "# 학습 데이터를 다시 학습과 검증 데이터로 분리 \n",
    "X_tr, X_val, y_tr, y_val= train_test_split(X_train, y_train,\n",
    "                                         test_size=0.1, random_state=156 )"
   ]
  },
  {
   "cell_type": "markdown",
   "id": "52f0578d",
   "metadata": {},
   "source": [
    "![](./hyperopt.png)"
   ]
  },
  {
   "cell_type": "code",
   "execution_count": null,
   "id": "1cc93692",
   "metadata": {},
   "outputs": [],
   "source": [
    "from hyperopt import hp\n",
    "\n",
    "# max_depth는 5에서 20까지 1간격으로, min_child_weight는 1에서 2까지 1간격으로\n",
    "# colsample_bytree는 0.5에서 1사이, learning_rate는 0.01에서 0.2사이 정규 분포된 값으로 검색. \n",
    "# hp.uniform: 정의된 범위 내에서 (정규분포로)임의의 숫자를 무작위 추출\n",
    "# hp.quniform: 정의된 범위 내에서 마지막 숫자만큼의 간격을 두어 숫자를 추출 \n",
    "xgb_search_space = {'max_depth\n",
    "': hp.quniform('max_depth', 5, 20, 1),\n",
    "                    'min_child_weight': hp.quniform('min_child_weight', 1, 2, 1),\n",
    "                    'learning_rate': hp.uniform('learning_rate', 0.01, 0.2), # learning_rate는 정수형이 아닌, 정규분포 형태\n",
    "                    'colsample_bytree': hp.uniform('colsample_bytree', 0.5, 1)\n",
    "               }"
   ]
  },
  {
   "cell_type": "code",
   "execution_count": null,
   "id": "af2b0e0e",
   "metadata": {},
   "outputs": [],
   "source": [
    "from sklearn.model_selection import cross_val_score\n",
    "from xgboost import XGBClassifier\n",
    "from hyperopt import STATUS_OK\n",
    "\n",
    "# fmin()에서 입력된 search_space값으로 입력된 모든 값은 실수형임. \n",
    "# XGBClassifier의 정수형 하이퍼 파라미터는 정수형 변환을 해줘야 함. \n",
    "# 정확도는 높은 수록 더 좋은 수치임. -1* 정확도를 곱해서 큰 정확도 값일 수록 최소가 되도록 변환\n",
    "def objective_func(search_space):\n",
    "    # 수행 시간 절약을 위해 n_estimators는 100으로 축소\n",
    "    xgb_clf = XGBClassifier(n_estimators=100, max_depth=int(search_space['max_depth']),\n",
    "                            min_child_weight=int(search_space['min_child_weight']),\n",
    "                            learning_rate=search_space['learning_rate'],\n",
    "                            colsample_bytree=search_space['colsample_bytree'], \n",
    "                            eval_metric='logloss')\n",
    "    \n",
    "    accuracy = cross_val_score(xgb_clf, X_train, y_train, scoring='accuracy', cv=3)\n",
    "        \n",
    "    # accuracy는 cv=3 개수만큼의 정확도 결과를 가지므로 이를 평균해서 반환하되 -1을 곱해줌. \n",
    "    # acc는 높은게 더 좋은건데, fmin은 최소값을 찾으므로 -1 곱하기\n",
    "    return {'loss':-1 * np.mean(accuracy), 'status': STATUS_OK}"
   ]
  },
  {
   "cell_type": "code",
   "execution_count": null,
   "id": "767592d4",
   "metadata": {},
   "outputs": [],
   "source": [
    "from hyperopt import fmin, tpe, Trials\n",
    "\n",
    "trial_val = Trials()\n",
    "best = fmin(fn=objective_func,\n",
    "            space=xgb_search_space,\n",
    "            algo=tpe.suggest,\n",
    "            max_evals=50, # 최대 반복 횟수를 지정합니다.\n",
    "            trials=trial_val, rstate=np.random.default_rng(seed=9))\n",
    "print('best:', best)"
   ]
  },
  {
   "cell_type": "code",
   "execution_count": null,
   "id": "ee280368",
   "metadata": {},
   "outputs": [],
   "source": [
    "print('colsample_bytree:{0}, learning_rate:{1}, max_depth:{2}, min_child_weight:{3}'.format(\n",
    "                        round(best['colsample_bytree'], 5), round(best['learning_rate'], 5),\n",
    "                        int(best['max_depth']), int(best['min_child_weight'])))"
   ]
  },
  {
   "cell_type": "code",
   "execution_count": null,
   "id": "711de322",
   "metadata": {},
   "outputs": [],
   "source": [
    "from sklearn.metrics import confusion_matrix, accuracy_score\n",
    "from sklearn.metrics import precision_score, recall_score\n",
    "from sklearn.metrics import f1_score, roc_auc_score\n",
    "\n",
    "def get_clf_eval(y_test, pred=None, pred_proba=None):\n",
    "    confusion = confusion_matrix( y_test, pred)\n",
    "    accuracy = accuracy_score(y_test , pred)\n",
    "    precision = precision_score(y_test , pred)\n",
    "    recall = recall_score(y_test , pred)\n",
    "    f1 = f1_score(y_test,pred)\n",
    "    # ROC-AUC 추가 \n",
    "    roc_auc = roc_auc_score(y_test, pred_proba)\n",
    "    print('오차 행렬')\n",
    "    print(confusion)\n",
    "    # ROC-AUC print 추가\n",
    "    print('정확도: {0:.4f}, 정밀도: {1:.4f}, 재현율: {2:.4f},\\\n",
    "    F1: {3:.4f}, AUC:{4:.4f}'.format(accuracy, precision, recall, f1, roc_auc))"
   ]
  },
  {
   "cell_type": "code",
   "execution_count": null,
   "id": "e6aabd2b",
   "metadata": {},
   "outputs": [],
   "source": [
    "xgb_wrapper = XGBClassifier(n_estimators=400, learning_rate=round(best['learning_rate'], 5), \n",
    "                            max_depth=int(best['max_depth']), min_child_weight=int(best['min_child_weight']),\n",
    "                            colsample_bytree=round(best['colsample_bytree'], 5)\n",
    "                           )\n",
    "\n",
    "evals = [(X_tr, y_tr), (X_val, y_val)]\n",
    "xgb_wrapper.fit(X_tr, y_tr, early_stopping_rounds=50, eval_metric='logloss', \n",
    "                eval_set=evals, verbose=True)\n",
    "\n",
    "preds = xgb_wrapper.predict(X_test)\n",
    "pred_proba = xgb_wrapper.predict_proba(X_test)[:, 1]\n",
    "\n",
    "get_clf_eval(y_test, preds, pred_proba)"
   ]
  },
  {
   "cell_type": "code",
   "execution_count": null,
   "id": "363ef454",
   "metadata": {},
   "outputs": [],
   "source": [
    "losses = [loss_dict['loss'] for loss_dict in trial_val.results]\n",
    "result_df = pd.DataFrame({'max_depth': trial_val.vals['max_depth'],\n",
    "                          'min_child_weight': trial_val.vals['min_child_weight'],\n",
    "                          'colsample_bytree': trial_val.vals['colsample_bytree'],\n",
    "                          'learning_rate': trial_val.vals['learning_rate'],\n",
    "                          'losses': losses\n",
    "                         }\n",
    "                        )\n",
    "result_df"
   ]
  },
  {
   "cell_type": "code",
   "execution_count": null,
   "id": "013114eb",
   "metadata": {},
   "outputs": [],
   "source": []
  }
 ],
 "metadata": {
  "kernelspec": {
   "display_name": "Python 3",
   "language": "python",
   "name": "python3"
  },
  "language_info": {
   "codemirror_mode": {
    "name": "ipython",
    "version": 3
   },
   "file_extension": ".py",
   "mimetype": "text/x-python",
   "name": "python",
   "nbconvert_exporter": "python",
   "pygments_lexer": "ipython3",
   "version": "3.8.12"
  },
  "toc": {
   "base_numbering": 1,
   "nav_menu": {},
   "number_sections": true,
   "sideBar": true,
   "skip_h1_title": false,
   "title_cell": "Table of Contents",
   "title_sidebar": "Contents",
   "toc_cell": false,
   "toc_position": {
    "height": "calc(100% - 180px)",
    "left": "10px",
    "top": "150px",
    "width": "484.865px"
   },
   "toc_section_display": true,
   "toc_window_display": false
  }
 },
 "nbformat": 4,
 "nbformat_minor": 5
}
