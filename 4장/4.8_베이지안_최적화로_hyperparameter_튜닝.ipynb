{
 "cells": [
  {
   "cell_type": "markdown",
   "id": "5a39f32a",
   "metadata": {},
   "source": [
    "## 하이퍼 파라미터 튜닝"
   ]
  },
  {
   "cell_type": "markdown",
   "id": "5dabbc93",
   "metadata": {},
   "source": [
    "### 하이퍼 파라미터 튜닝 크게나누면 4가지\n",
    "1. Grid Search : params를 주고 그리드 모양으로 모두 서치\n",
    "2. Random Search : 그리드 서치를 랜덤하게 한다.\n",
    "3. Bayesian Optimization\n",
    "4. 수동 튜닝"
   ]
  },
  {
   "cell_type": "markdown",
   "id": "3c768bc7",
   "metadata": {},
   "source": [
    "### 하이퍼 파라미터 튜닝의 주요 이슈"
   ]
  },
  {
   "cell_type": "markdown",
   "id": "82d8628f",
   "metadata": {},
   "source": [
    "<img src=https://blog.kakaocdn.net/dn/cJ0vQo/btrCjFlBrse/Siw2SOMxqgGbuzKQPRAd31/img.png width=1200>"
   ]
  },
  {
   "cell_type": "markdown",
   "id": "89c72e07",
   "metadata": {},
   "source": [
    "- Gradient Boosting 기반 알고리즘은 튜닝 해야 할 하이퍼 파라미터 개수가 많고, 번위가 넓어서 가능한 개별 경우의 수가 너무 많음.\n",
    "- 이러한 경우의 수가 많은 경우 데이터가 크면 하이퍼 파라미터 튜닝 수행이 너무 오래 걸림.\n",
    "\n",
    "-> 주어진 경우의수만 다해보기보단. 성능이 좋아지는 방향으로 최소의 시도를 통해, 좋은 성능의 모델을 뽑아내는것 -> 베이지안 최적화"
   ]
  },
  {
   "cell_type": "markdown",
   "id": "711cd3fb",
   "metadata": {},
   "source": [
    "## 베이지안 최적화"
   ]
  },
  {
   "cell_type": "markdown",
   "id": "bf845569",
   "metadata": {},
   "source": [
    "<img src=https://blog.kakaocdn.net/dn/b9Fvq7/btrCkf06S1J/feMCpi5DhoXxwMsYuuRff1/img.png width=1200>"
   ]
  },
  {
   "cell_type": "markdown",
   "id": "6b59efde",
   "metadata": {},
   "source": [
    "### 베이지안 최적화 수행 단계 4스텝"
   ]
  },
  {
   "cell_type": "markdown",
   "id": "4533a0c2",
   "metadata": {},
   "source": [
    "<img src=https://blog.kakaocdn.net/dn/cpSpoB/btrCkgyS1hR/CgOS8GJEMCvkFk2u9Buej1/img.png width1200>"
   ]
  },
  {
   "cell_type": "markdown",
   "id": "251dca8a",
   "metadata": {},
   "source": [
    "### 베이지안 최적화를 구현한 주요 패키지\n",
    "1. HyperOpt: \n",
    "2. Bayesian optimization: \n",
    "3. Optuna: "
   ]
  },
  {
   "cell_type": "markdown",
   "id": "3941d095",
   "metadata": {},
   "source": [
    "### HyperOpt를 통한 최적화 예시"
   ]
  },
  {
   "cell_type": "markdown",
   "id": "54d7544a",
   "metadata": {},
   "source": [
    "<img src=https://blog.kakaocdn.net/dn/mjYYx/btrCebrvgeD/7wRIsVYkCpFMcxHX4TgxB1/img.png width=1200>"
   ]
  },
  {
   "cell_type": "markdown",
   "id": "d54f598a",
   "metadata": {},
   "source": [
    "**구성 요소 3가지**\n",
    "1. Search Space : 입력값 범위. x와 y의 입력값 범위를 준다.\n",
    "2. 목적 함수 : 블랙박스 함수. 내부가 어떻게 돌아가는지 모르고 입력값에 대한 반환값을 알 수 있는 함수\n",
    "3. 목적 함수 반환 최소값 유추 예시 -> **fmin**함수가 핵심\n",
    "-> objective_func함수에 search_space 범위의 입력값을 넣었을 때, max_evlas번 반복하며 베이지안 최적화로 최소값 유추하는 예시.\n",
    "\n",
    "    여기선 5번 반복하며 최소값 64.080 찾음"
   ]
  },
  {
   "cell_type": "markdown",
   "id": "dbf2d247",
   "metadata": {},
   "source": [
    "<img src=https://blog.kakaocdn.net/dn/bykjOu/btrCiQOCfIV/flkFRV5K2U8XFNLSn6aGO1/img.png width=1200>"
   ]
  },
  {
   "cell_type": "markdown",
   "id": "8904a67d",
   "metadata": {},
   "source": [
    "### 베이지안 최적화 개요와 HyperOpt 사용법"
   ]
  },
  {
   "cell_type": "code",
   "execution_count": 1,
   "id": "63b6dba8",
   "metadata": {
    "ExecuteTime": {
     "end_time": "2022-05-21T09:06:49.765364Z",
     "start_time": "2022-05-21T09:06:49.343683Z"
    }
   },
   "outputs": [
    {
     "name": "stdout",
     "output_type": "stream",
     "text": [
      "0.2.7\n"
     ]
    }
   ],
   "source": [
    "import hyperopt\n",
    "print(hyperopt.__version__)"
   ]
  },
  {
   "cell_type": "code",
   "execution_count": 2,
   "id": "f893afc6",
   "metadata": {
    "ExecuteTime": {
     "end_time": "2022-05-21T09:06:49.767670Z",
     "start_time": "2022-05-21T09:06:49.766362Z"
    }
   },
   "outputs": [],
   "source": [
    "# !pip install hyperopt==0.2.7"
   ]
  },
  {
   "cell_type": "code",
   "execution_count": 45,
   "id": "cfd6b2ec",
   "metadata": {
    "ExecuteTime": {
     "end_time": "2022-05-21T09:12:42.297796Z",
     "start_time": "2022-05-21T09:12:42.284023Z"
    }
   },
   "outputs": [
    {
     "name": "stdout",
     "output_type": "stream",
     "text": [
      "<class 'hyperopt.pyll.base.Apply'>\n"
     ]
    },
    {
     "data": {
      "text/plain": [
       "{'x': <hyperopt.pyll.base.Apply at 0x12a756640>,\n",
       " 'y': <hyperopt.pyll.base.Apply at 0x12a756460>}"
      ]
     },
     "execution_count": 45,
     "metadata": {},
     "output_type": "execute_result"
    }
   ],
   "source": [
    "from hyperopt import hp\n",
    "print(type(hp.quniform('x',-10, 10, 1)))\n",
    "\n",
    "# x는 -10 ~ 10 까지 1간격을 가지고, y는 -15 ~ 15까지 1간격을 가지는 입력 변수.\n",
    "# x : -10, -9, ... 9, 10    /    y: -15, -14, ... 14, 15\n",
    "search_space = {'x': hp.quniform('x', -10, 10, 1), 'y': hp.quniform('y', -15, 15, 1) }\n",
    "search_space"
   ]
  },
  {
   "cell_type": "code",
   "execution_count": 47,
   "id": "a05d4d70",
   "metadata": {
    "ExecuteTime": {
     "end_time": "2022-05-21T09:14:35.304837Z",
     "start_time": "2022-05-21T09:14:35.293059Z"
    }
   },
   "outputs": [
    {
     "data": {
      "text/plain": [
       "'ok'"
      ]
     },
     "execution_count": 47,
     "metadata": {},
     "output_type": "execute_result"
    }
   ],
   "source": [
    "from hyperopt import STATUS_OK\n",
    "STATUS_OK"
   ]
  },
  {
   "cell_type": "code",
   "execution_count": 50,
   "id": "e668d27c",
   "metadata": {
    "ExecuteTime": {
     "end_time": "2022-05-21T09:17:43.644258Z",
     "start_time": "2022-05-21T09:17:43.636686Z"
    }
   },
   "outputs": [],
   "source": [
    "# 목적 함수 생성\n",
    "# : 입력 변수 검색 범위를 갖는 딕셔너리 search_space(x,y)를 받고, x^2 - 20y 값을 반환\n",
    "def objective_func(search_space):\n",
    "    x = search_space['x'] # <hyperopt.pyll.base.Apply at 0x12a756640>\n",
    "    y = search_space['y'] # <hyperopt.pyll.base.Apply at 0x12a756460>\n",
    "    retval = x**2 - 20*y\n",
    "    return retval # return {'loss':retval, 'status':STATUS_OK} 해도 된다."
   ]
  },
  {
   "cell_type": "markdown",
   "id": "d798554a",
   "metadata": {},
   "source": [
    "#### HyperOpt에서 베이지안최적화를 진행하는 함수는 fmin"
   ]
  },
  {
   "cell_type": "code",
   "execution_count": 55,
   "id": "548f34d3",
   "metadata": {
    "ExecuteTime": {
     "end_time": "2022-05-21T09:41:05.485633Z",
     "start_time": "2022-05-21T09:41:05.463528Z"
    }
   },
   "outputs": [
    {
     "name": "stdout",
     "output_type": "stream",
     "text": [
      "100%|██████████| 5/5 [00:00<00:00, 556.42trial/s, best loss: -224.0]\n",
      "best: {'x': -4.0, 'y': 12.0}\n"
     ]
    }
   ],
   "source": [
    "from hyperopt import fmin, tpe, Trials\n",
    "import numpy as np\n",
    "\n",
    "# 최적화 과정의 결과값을 저장한 Tirals 객체 생성\n",
    "trial_val = Trials()\n",
    "\n",
    "# fmin을 활용해 목적 함수의 최소값 찾기\n",
    "# 인자\n",
    "## fn: 목적함수, space: 탐색영역\n",
    "## algo: search algorithm. 여기서 tpe.suggest를 사용 (Tree Parzen Estimator: SMBO(순차 모델 기반 최적화) 접근 방식)\n",
    "## max_evals: 반복 횟수\n",
    "## trials=trial_val : max_evals만큼 수행한 입력값과 결과값을 trail_val에 저장\n",
    "## rstate : random_state. 여기선 정수 말고, 아래처럼 np.random.default_rng(seed=정수) 형태를 사용.\n",
    "## => 경험적으로는 rstate를 따로 설정하지 않는게 성능이 더 좋은 경향.\n",
    "best_01 = fmin(fn=objective_func, space=search_space, algo=tpe.suggest, max_evals=5,\n",
    "              trials=trial_val, rstate=np.random.default_rng(seed=0))\n",
    "print(f\"best: {best_01}\")"
   ]
  },
  {
   "cell_type": "code",
   "execution_count": 56,
   "id": "2bbbd861",
   "metadata": {
    "ExecuteTime": {
     "end_time": "2022-05-21T09:41:21.728882Z",
     "start_time": "2022-05-21T09:41:21.693618Z"
    }
   },
   "outputs": [
    {
     "name": "stdout",
     "output_type": "stream",
     "text": [
      "100%|██████████| 20/20 [00:00<00:00, 941.08trial/s, best loss: -296.0]\n",
      "best: {'x': 2.0, 'y': 15.0}\n"
     ]
    }
   ],
   "source": [
    "trial_val = Trials()\n",
    "\n",
    "# max_evals를 20회로 늘려서 재테스트 -> 성능이 더 좋아진다.\n",
    "best_02 = fmin(fn=objective_func, space=search_space, algo=tpe.suggest, max_evals=20\n",
    "               , trials=trial_val, rstate=np.random.default_rng(seed=0))\n",
    "print('best:', best_02)"
   ]
  },
  {
   "cell_type": "code",
   "execution_count": 57,
   "id": "22cd2e49",
   "metadata": {
    "ExecuteTime": {
     "end_time": "2022-05-21T09:41:22.797502Z",
     "start_time": "2022-05-21T09:41:22.787226Z"
    }
   },
   "outputs": [
    {
     "data": {
      "text/plain": [
       "<hyperopt.base.Trials at 0x12a41a820>"
      ]
     },
     "execution_count": 57,
     "metadata": {},
     "output_type": "execute_result"
    }
   ],
   "source": [
    "trial_val"
   ]
  },
  {
   "cell_type": "markdown",
   "id": "ef8e06c5",
   "metadata": {},
   "source": [
    "#### Trials(): HyperOpt 수행, 입력 값들과 목적 함수 반환값 보기"
   ]
  },
  {
   "cell_type": "code",
   "execution_count": 61,
   "id": "695f2331",
   "metadata": {
    "ExecuteTime": {
     "end_time": "2022-05-21T09:50:43.443013Z",
     "start_time": "2022-05-21T09:50:43.435966Z"
    }
   },
   "outputs": [
    {
     "name": "stdout",
     "output_type": "stream",
     "text": [
      "[{'loss': -64.0, 'status': 'ok'}, {'loss': -184.0, 'status': 'ok'}, {'loss': 56.0, 'status': 'ok'}]\n"
     ]
    }
   ],
   "source": [
    "# fmin( )에 인자로 들어가는 Trials 객체의 results 속성에 파이썬 리스트로 목적 함수 반환값들이 저장됨.\n",
    "# 리스트(results) 내부의 개별 원소는 {'loss':함수 반환값, 'status':반환 상태값}와 같은 딕셔너리.\n",
    "print(trial_val.results[:3])"
   ]
  },
  {
   "cell_type": "code",
   "execution_count": 73,
   "id": "ba390bf1",
   "metadata": {
    "ExecuteTime": {
     "end_time": "2022-05-21T09:55:23.053190Z",
     "start_time": "2022-05-21T09:55:23.044302Z"
    }
   },
   "outputs": [
    {
     "name": "stdout",
     "output_type": "stream",
     "text": [
      "{'x': [-6.0, -4.0, 4.0, -4.0, 9.0, 2.0, 10.0, -9.0, -8.0, -0.0, -0.0, 1.0, 9.0, 6.0, 9.0, 2.0, -2.0, -4.0, 7.0, -0.0], 'y': [5.0, 10.0, -2.0, 12.0, 1.0, 15.0, 7.0, -10.0, 0.0, -5.0, -3.0, 2.0, 4.0, 10.0, 3.0, 3.0, -14.0, -8.0, 11.0, -0.0]}\n"
     ]
    }
   ],
   "source": [
    "# Trials 객체의 vals 속성에 {'입력변수명': 개별 수행시 입력된 값들의 리스트} 형태로 저장.\n",
    "print(trial_val.vals)"
   ]
  },
  {
   "cell_type": "code",
   "execution_count": 74,
   "id": "96d66ec8",
   "metadata": {
    "ExecuteTime": {
     "end_time": "2022-05-21T09:56:15.551290Z",
     "start_time": "2022-05-21T09:56:01.699441Z"
    }
   },
   "outputs": [],
   "source": [
    "import pandas as pd"
   ]
  },
  {
   "cell_type": "code",
   "execution_count": 80,
   "id": "c78ff72a",
   "metadata": {
    "ExecuteTime": {
     "end_time": "2022-05-21T09:57:30.296466Z",
     "start_time": "2022-05-21T09:57:30.286487Z"
    }
   },
   "outputs": [
    {
     "name": "stdout",
     "output_type": "stream",
     "text": [
      "[-64.0, -184.0, 56.0, -224.0, 61.0]\n"
     ]
    }
   ],
   "source": [
    "# results에서 loss key값에 해당하는 value들을 추출하여 리스트로\n",
    "losses = [d['loss'] for d in trial_val.results]\n",
    "print(losses[:5])"
   ]
  },
  {
   "cell_type": "markdown",
   "id": "7fdf5192",
   "metadata": {},
   "source": [
    "#### Trials() 결과 데이터프레임으로 보기좋게"
   ]
  },
  {
   "cell_type": "code",
   "execution_count": 99,
   "id": "ae74f688",
   "metadata": {
    "ExecuteTime": {
     "end_time": "2022-05-21T10:05:23.498575Z",
     "start_time": "2022-05-21T10:05:23.480262Z"
    }
   },
   "outputs": [
    {
     "data": {
      "text/html": [
       "<div>\n",
       "<style scoped>\n",
       "    .dataframe tbody tr th:only-of-type {\n",
       "        vertical-align: middle;\n",
       "    }\n",
       "\n",
       "    .dataframe tbody tr th {\n",
       "        vertical-align: top;\n",
       "    }\n",
       "\n",
       "    .dataframe thead th {\n",
       "        text-align: right;\n",
       "    }\n",
       "</style>\n",
       "<table border=\"1\" class=\"dataframe\">\n",
       "  <thead>\n",
       "    <tr style=\"text-align: right;\">\n",
       "      <th></th>\n",
       "      <th>x</th>\n",
       "      <th>y</th>\n",
       "      <th>losses</th>\n",
       "    </tr>\n",
       "  </thead>\n",
       "  <tbody>\n",
       "    <tr>\n",
       "      <th>5</th>\n",
       "      <td>2.0</td>\n",
       "      <td>15.0</td>\n",
       "      <td>-296.0</td>\n",
       "    </tr>\n",
       "    <tr>\n",
       "      <th>3</th>\n",
       "      <td>-4.0</td>\n",
       "      <td>12.0</td>\n",
       "      <td>-224.0</td>\n",
       "    </tr>\n",
       "    <tr>\n",
       "      <th>1</th>\n",
       "      <td>-4.0</td>\n",
       "      <td>10.0</td>\n",
       "      <td>-184.0</td>\n",
       "    </tr>\n",
       "    <tr>\n",
       "      <th>18</th>\n",
       "      <td>7.0</td>\n",
       "      <td>11.0</td>\n",
       "      <td>-171.0</td>\n",
       "    </tr>\n",
       "    <tr>\n",
       "      <th>13</th>\n",
       "      <td>6.0</td>\n",
       "      <td>10.0</td>\n",
       "      <td>-164.0</td>\n",
       "    </tr>\n",
       "  </tbody>\n",
       "</table>\n",
       "</div>"
      ],
      "text/plain": [
       "      x     y  losses\n",
       "5   2.0  15.0  -296.0\n",
       "3  -4.0  12.0  -224.0\n",
       "1  -4.0  10.0  -184.0\n",
       "18  7.0  11.0  -171.0\n",
       "13  6.0  10.0  -164.0"
      ]
     },
     "execution_count": 99,
     "metadata": {},
     "output_type": "execute_result"
    }
   ],
   "source": [
    "# DataFrame으로 생성\n",
    "## trial_val.vals 딕셔너리와 {'losses':losses} 딕셔너리 합치기\n",
    "sum_dict = dict(trial_val.vals,**{'losses':losses})\n",
    "result_df = pd.DataFrame(sum_dict)\n",
    "\n",
    "# DataFrame으로 생성 (강의 버전)\n",
    "# result_df = pd.DataFrame({'x': trial_val.vals['x'],'y': trial_val.vals['y'],'losses': losses})\n",
    "result_df.sort_values('losses').head(5)"
   ]
  },
  {
   "cell_type": "markdown",
   "id": "15c74b02",
   "metadata": {},
   "source": [
    "## HyperOpt를 XGBoost 하이퍼 파라미터 튜닝에 적용"
   ]
  },
  {
   "cell_type": "markdown",
   "id": "f6119f1e",
   "metadata": {},
   "source": [
    "<img src=https://blog.kakaocdn.net/dn/n1vi8/btrCKj3iHGe/yIL55y3g6bdCHqbiW94W3K/img.png width=1200>"
   ]
  },
  {
   "cell_type": "markdown",
   "id": "b2b52f23",
   "metadata": {},
   "source": [
    "### 위스콘신 breast cancer"
   ]
  },
  {
   "cell_type": "code",
   "execution_count": 133,
   "id": "7928f9ef",
   "metadata": {
    "ExecuteTime": {
     "end_time": "2022-05-21T12:25:36.670319Z",
     "start_time": "2022-05-21T12:25:36.648598Z"
    }
   },
   "outputs": [],
   "source": [
    "import pandas as pd\n",
    "import numpy as np\n",
    "from sklearn.datasets import load_breast_cancer\n",
    "from sklearn.model_selection import train_test_split\n",
    "import warnings\n",
    "warnings.filterwarnings('ignore')\n",
    "\n",
    "dataset = load_breast_cancer()\n",
    "\n",
    "cancer_df = pd.DataFrame(data=dataset.data, columns=dataset.feature_names)\n",
    "cancer_df['target']= dataset.target\n",
    "X_features = cancer_df.iloc[:, :-1]\n",
    "y_label = cancer_df.iloc[:, -1]\n",
    "\n",
    "# 전체 데이터 중 80%는 학습용 데이터, 20%는 테스트용 데이터 추출\n",
    "X_train, X_test, y_train, y_test=train_test_split(X_features, y_label,\n",
    "                                         test_size=0.2, random_state=156 )\n",
    "\n",
    "# 학습 데이터를 다시 학습과 검증 데이터로 분리 \n",
    "X_tr, X_val, y_tr, y_val= train_test_split(X_train, y_train,\n",
    "                                         test_size=0.1, random_state=156 )"
   ]
  },
  {
   "cell_type": "markdown",
   "id": "52f0578d",
   "metadata": {},
   "source": [
    "![](./hyperopt.png)"
   ]
  },
  {
   "cell_type": "markdown",
   "id": "b328aaa2",
   "metadata": {},
   "source": [
    "#### 하이퍼파라미터 범위 설정"
   ]
  },
  {
   "cell_type": "code",
   "execution_count": 138,
   "id": "730eb77e",
   "metadata": {
    "ExecuteTime": {
     "end_time": "2022-05-21T12:29:05.446785Z",
     "start_time": "2022-05-21T12:29:05.436531Z"
    }
   },
   "outputs": [],
   "source": [
    "from hyperopt import hp\n",
    "# max_depth는 5에서 20까지 1간격. mind_child_weight는 1에서 2까지 1간격\n",
    "# colsample_bytree는 0.5~1 사이 정규분포 랜덤값, learning_rate는 0.01~0.2 사이 정규분포 랜덤값.\n",
    "# hp.uniform: 정의된 범위 내에서 (정규분포로)랜덤 숫자 추출. (실수반환)\n",
    "# hp.quniform: 정의된 범위 내에서 마지막 숫자만큼의 간격을 두어 숫자 추출. (실수반환)\n",
    "xgb_search_space = {\n",
    "    'max_depth' : hp.quniform('max_depth', 5, 20, 1),\n",
    "    'min_child_weight': hp.quniform('min_child_weight', 1, 2, 1), # child가 되는데 필요한 최소 가중치의 합\n",
    "    'learning_rate': hp.uniform('learning_rate', 0.01, 0.2),\n",
    "    'colsample_bytree': hp.uniform('colsample_bytree', 0.5, 1) # 각 트리마다의 feature 샘플링 비율\n",
    "                    }"
   ]
  },
  {
   "cell_type": "markdown",
   "id": "040aae65",
   "metadata": {},
   "source": [
    "#### 베이지안 최적화 (tpe)"
   ]
  },
  {
   "cell_type": "code",
   "execution_count": 161,
   "id": "5b9148f7",
   "metadata": {
    "ExecuteTime": {
     "end_time": "2022-05-21T12:39:36.794940Z",
     "start_time": "2022-05-21T12:39:08.364930Z"
    }
   },
   "outputs": [
    {
     "name": "stdout",
     "output_type": "stream",
     "text": [
      "100%|██████████| 50/50 [00:28<00:00,  1.76trial/s, best loss: -0.9692401533635412]\n",
      "best: {'colsample_bytree': 0.5592831707286887, 'learning_rate': 0.16914775026625828, 'max_depth': 6.0, 'min_child_weight': 2.0}\n"
     ]
    }
   ],
   "source": [
    "from sklearn.model_selection import cross_val_score\n",
    "from xgboost import XGBClassifier\n",
    "from hyperopt import STATUS_OK, fmin, tpe, Trials\n",
    "\n",
    "def objective_func(search_space):\n",
    "    xgb_clf = XGBClassifier(n_estimators=100, max_depth=int(search_space['max_depth']), # search_space는 실수 -> int필요하면 변환\n",
    "                            min_child_weight=int(search_space['min_child_weight']), # child가 되는데 필요한 최솟 가중치\n",
    "                            learning_rate=search_space['learning_rate'],\n",
    "                            colsample_bytree=search_space['colsample_bytree'], # 각 트리마다의 feature 샘플링 비율\n",
    "                            eval_metric='logloss')\n",
    "    acc = cross_val_score(xgb_clf, X_train, y_train, scoring='accuracy', cv=3)\n",
    "    # accuracy는 cv=3 개수만큼 리스트로 나오며, fmin은 최소값을 찾으므로 -1 곱하기\n",
    "    return {'loss':-1*np.mean(acc), 'status': STATUS_OK}\n",
    "\n",
    "trial_val = Trials()\n",
    "\n",
    "best = fmin(fn=objective_func, space=xgb_search_space, algo=tpe.suggest,\n",
    "            max_evals=50, trials=trial_val#, rstate=np.random.default_rng(seed=9)\n",
    "           )\n",
    "print(f\"best: {best}\")"
   ]
  },
  {
   "cell_type": "markdown",
   "id": "b24fb8b0",
   "metadata": {},
   "source": [
    "rstate seed=9로 준 경우\n",
    "\n",
    "    100%|██████████| 50/50 [00:27<00:00,  1.80trial/s, best loss: -0.9692401533635412]\n",
    "    best: {'colsample_bytree': 0.548301545497125, 'learning_rate': 0.1840281762576621, 'max_depth': 18.0, 'min_child_weight': 2.0}\n",
    "    \n",
    "    colsample_bytree: 0.5483, learning_rate: 0.1840, max_depth: 18, min_child_weight: 2"
   ]
  },
  {
   "cell_type": "markdown",
   "id": "074786dc",
   "metadata": {},
   "source": [
    "#### 최적 하이퍼파라미터 출력"
   ]
  },
  {
   "cell_type": "code",
   "execution_count": 162,
   "id": "442aeef0",
   "metadata": {
    "ExecuteTime": {
     "end_time": "2022-05-21T12:39:36.797549Z",
     "start_time": "2022-05-21T12:39:36.795960Z"
    }
   },
   "outputs": [
    {
     "name": "stdout",
     "output_type": "stream",
     "text": [
      "colsample_bytree: 0.5593, learning_rate: 0.1691, max_depth: 6, min_child_weight: 2\n"
     ]
    }
   ],
   "source": [
    "# best일때의 하이퍼파라미터 출력\n",
    "print(f\"colsample_bytree: {best['colsample_bytree']:.4f}, learning_rate: {best['learning_rate']:.4f}, \\\n",
    "max_depth: {int(best['max_depth'])}, min_child_weight: {int(best['min_child_weight'])}\")"
   ]
  },
  {
   "cell_type": "markdown",
   "id": "501d3365",
   "metadata": {},
   "source": [
    "#### 최적 하이퍼파라미터일 때, 성능평가"
   ]
  },
  {
   "cell_type": "code",
   "execution_count": 163,
   "id": "eb22dcc8",
   "metadata": {
    "ExecuteTime": {
     "end_time": "2022-05-21T12:39:36.801220Z",
     "start_time": "2022-05-21T12:39:36.798658Z"
    }
   },
   "outputs": [],
   "source": [
    "from sklearn.metrics import confusion_matrix, accuracy_score, precision_score, recall_score, f1_score, roc_auc_score\n",
    "\n",
    "def get_clf_eval(y_test, pred=None, pred_proba=None):\n",
    "    conf_mat = confusion_matrix(y_test, pred)\n",
    "    acc = accuracy_score(y_test, pred)\n",
    "    prec = precision_score(y_test, pred)\n",
    "    recall = recall_score(y_test, pred)\n",
    "    f1 = f1_score(y_test, pred)\n",
    "    roc_auc = roc_auc_score(y_test, pred)\n",
    "    print(f\"오차 행렬(Confusion Matrix)\\n{conf_mat}\")\n",
    "    print(f\"정확도: {acc:.2%}, 정밀도: {prec:.2%}, 재현율: {recall:.2%}, F1: {f1:.4f}, AUC: {roc_auc:.4f}\")"
   ]
  },
  {
   "cell_type": "code",
   "execution_count": 164,
   "id": "93c59792",
   "metadata": {
    "ExecuteTime": {
     "end_time": "2022-05-21T12:39:37.509240Z",
     "start_time": "2022-05-21T12:39:36.802428Z"
    }
   },
   "outputs": [
    {
     "name": "stdout",
     "output_type": "stream",
     "text": [
      "[0]\tvalidation_0-logloss:0.55566\tvalidation_1-logloss:0.59434\n",
      "[1]\tvalidation_0-logloss:0.45744\tvalidation_1-logloss:0.53568\n",
      "[2]\tvalidation_0-logloss:0.38341\tvalidation_1-logloss:0.49885\n",
      "[3]\tvalidation_0-logloss:0.32623\tvalidation_1-logloss:0.46641\n",
      "[4]\tvalidation_0-logloss:0.27993\tvalidation_1-logloss:0.42616\n",
      "[5]\tvalidation_0-logloss:0.24363\tvalidation_1-logloss:0.40360\n",
      "[6]\tvalidation_0-logloss:0.21137\tvalidation_1-logloss:0.37811\n",
      "[7]\tvalidation_0-logloss:0.18540\tvalidation_1-logloss:0.35944\n",
      "[8]\tvalidation_0-logloss:0.16201\tvalidation_1-logloss:0.34360\n",
      "[9]\tvalidation_0-logloss:0.14320\tvalidation_1-logloss:0.32869\n",
      "[10]\tvalidation_0-logloss:0.12853\tvalidation_1-logloss:0.31805\n",
      "[11]\tvalidation_0-logloss:0.11572\tvalidation_1-logloss:0.31450\n",
      "[12]\tvalidation_0-logloss:0.10397\tvalidation_1-logloss:0.31169\n",
      "[13]\tvalidation_0-logloss:0.09339\tvalidation_1-logloss:0.30227\n",
      "[14]\tvalidation_0-logloss:0.08594\tvalidation_1-logloss:0.29402\n",
      "[15]\tvalidation_0-logloss:0.07875\tvalidation_1-logloss:0.29246\n",
      "[16]\tvalidation_0-logloss:0.07355\tvalidation_1-logloss:0.29133\n",
      "[17]\tvalidation_0-logloss:0.06780\tvalidation_1-logloss:0.28989\n",
      "[18]\tvalidation_0-logloss:0.06362\tvalidation_1-logloss:0.29097\n",
      "[19]\tvalidation_0-logloss:0.05908\tvalidation_1-logloss:0.28310\n",
      "[20]\tvalidation_0-logloss:0.05468\tvalidation_1-logloss:0.27976\n",
      "[21]\tvalidation_0-logloss:0.05098\tvalidation_1-logloss:0.27370\n",
      "[22]\tvalidation_0-logloss:0.04848\tvalidation_1-logloss:0.27070\n",
      "[23]\tvalidation_0-logloss:0.04631\tvalidation_1-logloss:0.26878\n",
      "[24]\tvalidation_0-logloss:0.04423\tvalidation_1-logloss:0.27198\n",
      "[25]\tvalidation_0-logloss:0.04216\tvalidation_1-logloss:0.26822\n",
      "[26]\tvalidation_0-logloss:0.04026\tvalidation_1-logloss:0.26602\n",
      "[27]\tvalidation_0-logloss:0.03860\tvalidation_1-logloss:0.26628\n",
      "[28]\tvalidation_0-logloss:0.03665\tvalidation_1-logloss:0.26818\n",
      "[29]\tvalidation_0-logloss:0.03458\tvalidation_1-logloss:0.26980\n",
      "[30]\tvalidation_0-logloss:0.03356\tvalidation_1-logloss:0.26798\n",
      "[31]\tvalidation_0-logloss:0.03205\tvalidation_1-logloss:0.27042\n",
      "[32]\tvalidation_0-logloss:0.03107\tvalidation_1-logloss:0.26958\n",
      "[33]\tvalidation_0-logloss:0.03019\tvalidation_1-logloss:0.26475\n",
      "[34]\tvalidation_0-logloss:0.02930\tvalidation_1-logloss:0.26817\n",
      "[35]\tvalidation_0-logloss:0.02852\tvalidation_1-logloss:0.27044\n",
      "[36]\tvalidation_0-logloss:0.02791\tvalidation_1-logloss:0.26824\n",
      "[37]\tvalidation_0-logloss:0.02742\tvalidation_1-logloss:0.26814\n",
      "[38]\tvalidation_0-logloss:0.02710\tvalidation_1-logloss:0.26710\n",
      "[39]\tvalidation_0-logloss:0.02635\tvalidation_1-logloss:0.26805\n",
      "[40]\tvalidation_0-logloss:0.02593\tvalidation_1-logloss:0.26575\n",
      "[41]\tvalidation_0-logloss:0.02530\tvalidation_1-logloss:0.26532\n",
      "[42]\tvalidation_0-logloss:0.02508\tvalidation_1-logloss:0.26502\n",
      "[43]\tvalidation_0-logloss:0.02451\tvalidation_1-logloss:0.26594\n",
      "[44]\tvalidation_0-logloss:0.02424\tvalidation_1-logloss:0.26412\n",
      "[45]\tvalidation_0-logloss:0.02403\tvalidation_1-logloss:0.26394\n",
      "[46]\tvalidation_0-logloss:0.02381\tvalidation_1-logloss:0.26236\n",
      "[47]\tvalidation_0-logloss:0.02332\tvalidation_1-logloss:0.26335\n",
      "[48]\tvalidation_0-logloss:0.02314\tvalidation_1-logloss:0.26191\n",
      "[49]\tvalidation_0-logloss:0.02295\tvalidation_1-logloss:0.26447\n",
      "[50]\tvalidation_0-logloss:0.02247\tvalidation_1-logloss:0.26381\n",
      "[51]\tvalidation_0-logloss:0.02203\tvalidation_1-logloss:0.26202\n",
      "[52]\tvalidation_0-logloss:0.02170\tvalidation_1-logloss:0.25977\n",
      "[53]\tvalidation_0-logloss:0.02155\tvalidation_1-logloss:0.26272\n",
      "[54]\tvalidation_0-logloss:0.02107\tvalidation_1-logloss:0.25726\n",
      "[55]\tvalidation_0-logloss:0.02092\tvalidation_1-logloss:0.25599\n",
      "[56]\tvalidation_0-logloss:0.02077\tvalidation_1-logloss:0.25575\n",
      "[57]\tvalidation_0-logloss:0.02064\tvalidation_1-logloss:0.25687\n",
      "[58]\tvalidation_0-logloss:0.02048\tvalidation_1-logloss:0.25941\n",
      "[59]\tvalidation_0-logloss:0.02034\tvalidation_1-logloss:0.25869\n",
      "[60]\tvalidation_0-logloss:0.02020\tvalidation_1-logloss:0.25515\n",
      "[61]\tvalidation_0-logloss:0.02006\tvalidation_1-logloss:0.25498\n",
      "[62]\tvalidation_0-logloss:0.01994\tvalidation_1-logloss:0.25610\n",
      "[63]\tvalidation_0-logloss:0.01980\tvalidation_1-logloss:0.25487\n",
      "[64]\tvalidation_0-logloss:0.01966\tvalidation_1-logloss:0.25732\n",
      "[65]\tvalidation_0-logloss:0.01954\tvalidation_1-logloss:0.25654\n",
      "[66]\tvalidation_0-logloss:0.01941\tvalidation_1-logloss:0.25314\n",
      "[67]\tvalidation_0-logloss:0.01929\tvalidation_1-logloss:0.25060\n",
      "[68]\tvalidation_0-logloss:0.01918\tvalidation_1-logloss:0.25178\n",
      "[69]\tvalidation_0-logloss:0.01905\tvalidation_1-logloss:0.25418\n",
      "[70]\tvalidation_0-logloss:0.01893\tvalidation_1-logloss:0.25304\n",
      "[71]\tvalidation_0-logloss:0.01882\tvalidation_1-logloss:0.25294\n",
      "[72]\tvalidation_0-logloss:0.01872\tvalidation_1-logloss:0.25335\n",
      "[73]\tvalidation_0-logloss:0.01861\tvalidation_1-logloss:0.25565\n",
      "[74]\tvalidation_0-logloss:0.01849\tvalidation_1-logloss:0.25394\n",
      "[75]\tvalidation_0-logloss:0.01838\tvalidation_1-logloss:0.25367\n",
      "[76]\tvalidation_0-logloss:0.01828\tvalidation_1-logloss:0.25585\n",
      "[77]\tvalidation_0-logloss:0.01818\tvalidation_1-logloss:0.25340\n",
      "[78]\tvalidation_0-logloss:0.01808\tvalidation_1-logloss:0.25185\n",
      "[79]\tvalidation_0-logloss:0.01798\tvalidation_1-logloss:0.25162\n",
      "[80]\tvalidation_0-logloss:0.01789\tvalidation_1-logloss:0.25374\n",
      "[81]\tvalidation_0-logloss:0.01780\tvalidation_1-logloss:0.25107\n",
      "[82]\tvalidation_0-logloss:0.01771\tvalidation_1-logloss:0.25087\n",
      "[83]\tvalidation_0-logloss:0.01761\tvalidation_1-logloss:0.24982\n",
      "[84]\tvalidation_0-logloss:0.01753\tvalidation_1-logloss:0.24893\n",
      "[85]\tvalidation_0-logloss:0.01744\tvalidation_1-logloss:0.24991\n",
      "[86]\tvalidation_0-logloss:0.01735\tvalidation_1-logloss:0.24938\n",
      "[87]\tvalidation_0-logloss:0.01727\tvalidation_1-logloss:0.25029\n",
      "[88]\tvalidation_0-logloss:0.01719\tvalidation_1-logloss:0.24980\n",
      "[89]\tvalidation_0-logloss:0.01711\tvalidation_1-logloss:0.24829\n",
      "[90]\tvalidation_0-logloss:0.01702\tvalidation_1-logloss:0.24814\n",
      "[91]\tvalidation_0-logloss:0.01695\tvalidation_1-logloss:0.24902\n",
      "[92]\tvalidation_0-logloss:0.01688\tvalidation_1-logloss:0.24757\n",
      "[93]\tvalidation_0-logloss:0.01680\tvalidation_1-logloss:0.24743\n",
      "[94]\tvalidation_0-logloss:0.01673\tvalidation_1-logloss:0.24963\n",
      "[95]\tvalidation_0-logloss:0.01665\tvalidation_1-logloss:0.24709\n",
      "[96]\tvalidation_0-logloss:0.01658\tvalidation_1-logloss:0.24688\n",
      "[97]\tvalidation_0-logloss:0.01651\tvalidation_1-logloss:0.24871\n",
      "[98]\tvalidation_0-logloss:0.01645\tvalidation_1-logloss:0.24783\n",
      "[99]\tvalidation_0-logloss:0.01639\tvalidation_1-logloss:0.24765\n",
      "[100]\tvalidation_0-logloss:0.01632\tvalidation_1-logloss:0.24851\n",
      "[101]\tvalidation_0-logloss:0.01624\tvalidation_1-logloss:0.24602\n",
      "[102]\tvalidation_0-logloss:0.01618\tvalidation_1-logloss:0.24623\n",
      "[103]\tvalidation_0-logloss:0.01611\tvalidation_1-logloss:0.24577\n",
      "[104]\tvalidation_0-logloss:0.01605\tvalidation_1-logloss:0.24642\n",
      "[105]\tvalidation_0-logloss:0.01599\tvalidation_1-logloss:0.24532\n",
      "[106]\tvalidation_0-logloss:0.01593\tvalidation_1-logloss:0.24519\n",
      "[107]\tvalidation_0-logloss:0.01587\tvalidation_1-logloss:0.24730\n",
      "[108]\tvalidation_0-logloss:0.01581\tvalidation_1-logloss:0.24509\n",
      "[109]\tvalidation_0-logloss:0.01575\tvalidation_1-logloss:0.24492\n",
      "[110]\tvalidation_0-logloss:0.01569\tvalidation_1-logloss:0.24517\n",
      "[111]\tvalidation_0-logloss:0.01563\tvalidation_1-logloss:0.24306\n",
      "[112]\tvalidation_0-logloss:0.01557\tvalidation_1-logloss:0.24333\n",
      "[113]\tvalidation_0-logloss:0.01552\tvalidation_1-logloss:0.24396\n",
      "[114]\tvalidation_0-logloss:0.01546\tvalidation_1-logloss:0.24320\n",
      "[115]\tvalidation_0-logloss:0.01541\tvalidation_1-logloss:0.24277\n",
      "[116]\tvalidation_0-logloss:0.01536\tvalidation_1-logloss:0.24478\n",
      "[117]\tvalidation_0-logloss:0.01530\tvalidation_1-logloss:0.24277\n",
      "[118]\tvalidation_0-logloss:0.01525\tvalidation_1-logloss:0.24260\n",
      "[119]\tvalidation_0-logloss:0.01520\tvalidation_1-logloss:0.24271\n",
      "[120]\tvalidation_0-logloss:0.01515\tvalidation_1-logloss:0.24079\n",
      "[121]\tvalidation_0-logloss:0.01510\tvalidation_1-logloss:0.24145\n",
      "[122]\tvalidation_0-logloss:0.01505\tvalidation_1-logloss:0.24063\n",
      "[123]\tvalidation_0-logloss:0.01501\tvalidation_1-logloss:0.24045\n",
      "[124]\tvalidation_0-logloss:0.01496\tvalidation_1-logloss:0.24076\n",
      "[125]\tvalidation_0-logloss:0.01491\tvalidation_1-logloss:0.24041\n",
      "[126]\tvalidation_0-logloss:0.01486\tvalidation_1-logloss:0.23976\n",
      "[127]\tvalidation_0-logloss:0.01482\tvalidation_1-logloss:0.24048\n",
      "[128]\tvalidation_0-logloss:0.01477\tvalidation_1-logloss:0.24239\n",
      "[129]\tvalidation_0-logloss:0.01473\tvalidation_1-logloss:0.24180\n"
     ]
    },
    {
     "name": "stdout",
     "output_type": "stream",
     "text": [
      "[130]\tvalidation_0-logloss:0.01468\tvalidation_1-logloss:0.24161\n",
      "[131]\tvalidation_0-logloss:0.01464\tvalidation_1-logloss:0.24222\n",
      "[132]\tvalidation_0-logloss:0.01460\tvalidation_1-logloss:0.24200\n",
      "[133]\tvalidation_0-logloss:0.01456\tvalidation_1-logloss:0.24230\n",
      "[134]\tvalidation_0-logloss:0.01452\tvalidation_1-logloss:0.24202\n",
      "[135]\tvalidation_0-logloss:0.01448\tvalidation_1-logloss:0.24124\n",
      "[136]\tvalidation_0-logloss:0.01444\tvalidation_1-logloss:0.24189\n",
      "[137]\tvalidation_0-logloss:0.01440\tvalidation_1-logloss:0.24172\n",
      "[138]\tvalidation_0-logloss:0.01435\tvalidation_1-logloss:0.24356\n",
      "[139]\tvalidation_0-logloss:0.01431\tvalidation_1-logloss:0.24181\n",
      "[140]\tvalidation_0-logloss:0.01427\tvalidation_1-logloss:0.24213\n",
      "[141]\tvalidation_0-logloss:0.01423\tvalidation_1-logloss:0.24155\n",
      "[142]\tvalidation_0-logloss:0.01420\tvalidation_1-logloss:0.24139\n",
      "[143]\tvalidation_0-logloss:0.01416\tvalidation_1-logloss:0.24313\n",
      "[144]\tvalidation_0-logloss:0.01412\tvalidation_1-logloss:0.24275\n",
      "[145]\tvalidation_0-logloss:0.01409\tvalidation_1-logloss:0.24263\n",
      "[146]\tvalidation_0-logloss:0.01405\tvalidation_1-logloss:0.24295\n",
      "[147]\tvalidation_0-logloss:0.01402\tvalidation_1-logloss:0.24309\n",
      "[148]\tvalidation_0-logloss:0.01398\tvalidation_1-logloss:0.24252\n",
      "[149]\tvalidation_0-logloss:0.01394\tvalidation_1-logloss:0.24318\n",
      "[150]\tvalidation_0-logloss:0.01391\tvalidation_1-logloss:0.24158\n",
      "[151]\tvalidation_0-logloss:0.01388\tvalidation_1-logloss:0.24006\n",
      "[152]\tvalidation_0-logloss:0.01384\tvalidation_1-logloss:0.24041\n",
      "[153]\tvalidation_0-logloss:0.01381\tvalidation_1-logloss:0.24209\n",
      "[154]\tvalidation_0-logloss:0.01377\tvalidation_1-logloss:0.24172\n",
      "[155]\tvalidation_0-logloss:0.01374\tvalidation_1-logloss:0.24158\n",
      "[156]\tvalidation_0-logloss:0.01371\tvalidation_1-logloss:0.24109\n",
      "[157]\tvalidation_0-logloss:0.01368\tvalidation_1-logloss:0.24173\n",
      "[158]\tvalidation_0-logloss:0.01365\tvalidation_1-logloss:0.24160\n",
      "[159]\tvalidation_0-logloss:0.01362\tvalidation_1-logloss:0.24195\n",
      "[160]\tvalidation_0-logloss:0.01359\tvalidation_1-logloss:0.24128\n",
      "[161]\tvalidation_0-logloss:0.01356\tvalidation_1-logloss:0.24162\n",
      "[162]\tvalidation_0-logloss:0.01353\tvalidation_1-logloss:0.24114\n",
      "[163]\tvalidation_0-logloss:0.01351\tvalidation_1-logloss:0.24101\n",
      "[164]\tvalidation_0-logloss:0.01348\tvalidation_1-logloss:0.24162\n",
      "[165]\tvalidation_0-logloss:0.01345\tvalidation_1-logloss:0.24127\n",
      "[166]\tvalidation_0-logloss:0.01343\tvalidation_1-logloss:0.24083\n",
      "[167]\tvalidation_0-logloss:0.01340\tvalidation_1-logloss:0.24083\n",
      "[168]\tvalidation_0-logloss:0.01338\tvalidation_1-logloss:0.24071\n",
      "[169]\tvalidation_0-logloss:0.01335\tvalidation_1-logloss:0.24012\n",
      "[170]\tvalidation_0-logloss:0.01333\tvalidation_1-logloss:0.24047\n",
      "[171]\tvalidation_0-logloss:0.01330\tvalidation_1-logloss:0.24079\n",
      "[172]\tvalidation_0-logloss:0.01328\tvalidation_1-logloss:0.24038\n",
      "[173]\tvalidation_0-logloss:0.01325\tvalidation_1-logloss:0.24026\n",
      "[174]\tvalidation_0-logloss:0.01323\tvalidation_1-logloss:0.24096\n",
      "[175]\tvalidation_0-logloss:0.01321\tvalidation_1-logloss:0.24152\n",
      "[176]\tvalidation_0-logloss:0.01318\tvalidation_1-logloss:0.24118\n",
      "오차 행렬(Confusion Matrix)\n",
      "[[34  3]\n",
      " [ 3 74]]\n",
      "정확도: 94.74%, 정밀도: 96.10%, 재현율: 96.10%, F1: 0.9610, AUC: 0.9400\n"
     ]
    }
   ],
   "source": [
    "xgb_wrapper = XGBClassifier(n_estimators=400, learning_rate=round(best['learning_rate'],5),\n",
    "                           max_depth=int(best['max_depth']), min_child_weight=int(best['min_child_weight']),\n",
    "                           colsample_bytree=round(best['colsample_bytree'],5))\n",
    "evals = [(X_tr,y_tr), (X_val, y_val)]\n",
    "xgb_wrapper.fit(X_tr, y_tr, early_stopping_rounds=50, eval_metric='logloss',\n",
    "               eval_set=evals, verbose=True)\n",
    "pred = xgb_wrapper.predict(X_test)\n",
    "pred_proba = xgb_wrapper.predict_proba(X_test)[:, 1] # 1일 확률값만\n",
    "\n",
    "get_clf_eval(y_test, preds, pred_proba)"
   ]
  },
  {
   "cell_type": "code",
   "execution_count": 165,
   "id": "c5310f5a",
   "metadata": {
    "ExecuteTime": {
     "end_time": "2022-05-21T12:39:37.515563Z",
     "start_time": "2022-05-21T12:39:37.510056Z"
    }
   },
   "outputs": [
    {
     "data": {
      "text/html": [
       "<div>\n",
       "<style scoped>\n",
       "    .dataframe tbody tr th:only-of-type {\n",
       "        vertical-align: middle;\n",
       "    }\n",
       "\n",
       "    .dataframe tbody tr th {\n",
       "        vertical-align: top;\n",
       "    }\n",
       "\n",
       "    .dataframe thead th {\n",
       "        text-align: right;\n",
       "    }\n",
       "</style>\n",
       "<table border=\"1\" class=\"dataframe\">\n",
       "  <thead>\n",
       "    <tr style=\"text-align: right;\">\n",
       "      <th></th>\n",
       "      <th>colsample_bytree</th>\n",
       "      <th>learning_rate</th>\n",
       "      <th>max_depth</th>\n",
       "      <th>min_child_weight</th>\n",
       "      <th>losses</th>\n",
       "    </tr>\n",
       "  </thead>\n",
       "  <tbody>\n",
       "    <tr>\n",
       "      <th>44</th>\n",
       "      <td>0.559283</td>\n",
       "      <td>0.169148</td>\n",
       "      <td>6.0</td>\n",
       "      <td>2.0</td>\n",
       "      <td>-0.969240</td>\n",
       "    </tr>\n",
       "    <tr>\n",
       "      <th>49</th>\n",
       "      <td>0.524788</td>\n",
       "      <td>0.114782</td>\n",
       "      <td>5.0</td>\n",
       "      <td>2.0</td>\n",
       "      <td>-0.967076</td>\n",
       "    </tr>\n",
       "    <tr>\n",
       "      <th>33</th>\n",
       "      <td>0.626205</td>\n",
       "      <td>0.197200</td>\n",
       "      <td>20.0</td>\n",
       "      <td>2.0</td>\n",
       "      <td>-0.967047</td>\n",
       "    </tr>\n",
       "    <tr>\n",
       "      <th>48</th>\n",
       "      <td>0.523249</td>\n",
       "      <td>0.167108</td>\n",
       "      <td>7.0</td>\n",
       "      <td>2.0</td>\n",
       "      <td>-0.967047</td>\n",
       "    </tr>\n",
       "    <tr>\n",
       "      <th>36</th>\n",
       "      <td>0.644208</td>\n",
       "      <td>0.174260</td>\n",
       "      <td>10.0</td>\n",
       "      <td>2.0</td>\n",
       "      <td>-0.967033</td>\n",
       "    </tr>\n",
       "  </tbody>\n",
       "</table>\n",
       "</div>"
      ],
      "text/plain": [
       "    colsample_bytree  learning_rate  max_depth  min_child_weight    losses\n",
       "44          0.559283       0.169148        6.0               2.0 -0.969240\n",
       "49          0.524788       0.114782        5.0               2.0 -0.967076\n",
       "33          0.626205       0.197200       20.0               2.0 -0.967047\n",
       "48          0.523249       0.167108        7.0               2.0 -0.967047\n",
       "36          0.644208       0.174260       10.0               2.0 -0.967033"
      ]
     },
     "execution_count": 165,
     "metadata": {},
     "output_type": "execute_result"
    }
   ],
   "source": [
    "losses=[d['loss'] for d in trial_val.results]\n",
    "## 내 df 만들기\n",
    "result_dict = dict(trial_val.vals, **{'losses':losses})\n",
    "result_df = pd.DataFrame(result_dict)\n",
    "\n",
    "## 강의에서 df 만들기\n",
    "# result_df = pd.DataFrame({'max_depth': trial_val.vals['max_depth'],\n",
    "#                           'min_child_weight': trial_val.vals['min_child_weight'],\n",
    "#                           'colsample_bytree': trial_val.vals['colsample_bytree'],\n",
    "#                           'learning_rate': trial_val.vals['learning_rate'],\n",
    "#                           'losses': losses\n",
    "#                          }\n",
    "#                         )\n",
    "\n",
    "result_df.sort_values('losses').head(5)"
   ]
  }
 ],
 "metadata": {
  "kernelspec": {
   "display_name": "Python 3",
   "language": "python",
   "name": "python3"
  },
  "language_info": {
   "codemirror_mode": {
    "name": "ipython",
    "version": 3
   },
   "file_extension": ".py",
   "mimetype": "text/x-python",
   "name": "python",
   "nbconvert_exporter": "python",
   "pygments_lexer": "ipython3",
   "version": "3.8.12"
  },
  "toc": {
   "base_numbering": 1,
   "nav_menu": {},
   "number_sections": true,
   "sideBar": true,
   "skip_h1_title": false,
   "title_cell": "Table of Contents",
   "title_sidebar": "Contents",
   "toc_cell": false,
   "toc_position": {
    "height": "calc(100% - 180px)",
    "left": "10px",
    "top": "150px",
    "width": "484.865px"
   },
   "toc_section_display": true,
   "toc_window_display": true
  }
 },
 "nbformat": 4,
 "nbformat_minor": 5
}
