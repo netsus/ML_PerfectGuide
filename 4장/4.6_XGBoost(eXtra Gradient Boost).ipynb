{
 "cells": [
  {
   "cell_type": "markdown",
   "metadata": {},
   "source": [
    "* XGBoost 버전 확인"
   ]
  },
  {
   "cell_type": "code",
   "execution_count": 4,
   "metadata": {
    "ExecuteTime": {
     "end_time": "2022-05-11T15:25:09.979994Z",
     "start_time": "2022-05-11T15:25:03.874431Z"
    },
    "collapsed": true
   },
   "outputs": [
    {
     "name": "stdout",
     "output_type": "stream",
     "text": [
      "Collecting package metadata (current_repodata.json): done\n",
      "Solving environment: done\n",
      "\n",
      "\n",
      "==> WARNING: A newer version of conda exists. <==\n",
      "  current version: 4.11.0\n",
      "  latest version: 4.12.0\n",
      "\n",
      "Please update conda by running\n",
      "\n",
      "    $ conda update -n base -c defaults conda\n",
      "\n",
      "\n",
      "\n",
      "## Package Plan ##\n",
      "\n",
      "  environment location: /Users/cwj/miniconda3/envs/tf25\n",
      "\n",
      "  added / updated specs:\n",
      "    - py-xgboost\n",
      "\n",
      "\n",
      "The following packages will be downloaded:\n",
      "\n",
      "    package                    |            build\n",
      "    ---------------------------|-----------------\n",
      "    ca-certificates-2022.4.26  |       hca03da5_0         127 KB  anaconda\n",
      "    certifi-2021.10.8          |   py38hca03da5_2         146 KB  anaconda\n",
      "    openssl-1.1.1n             |       h1a28f6b_0         3.3 MB  anaconda\n",
      "    py-xgboost-1.5.0           |   py38hca03da5_1         153 KB  anaconda\n",
      "    ------------------------------------------------------------\n",
      "                                           Total:         3.7 MB\n",
      "\n",
      "The following packages will be UPDATED:\n",
      "\n",
      "  ca-certificates    conda-forge::ca-certificates-2021.10.~ --> anaconda::ca-certificates-2022.4.26-hca03da5_0\n",
      "\n",
      "The following packages will be SUPERSEDED by a higher-priority channel:\n",
      "\n",
      "  certifi            conda-forge::certifi-2021.10.8-py38h1~ --> anaconda::certifi-2021.10.8-py38hca03da5_2\n",
      "  openssl            conda-forge::openssl-1.1.1n-h90dfc92_0 --> anaconda::openssl-1.1.1n-h1a28f6b_0\n",
      "  py-xgboost                                      pkgs/main --> anaconda\n",
      "\n",
      "\n",
      "\n",
      "Downloading and Extracting Packages\n",
      "certifi-2021.10.8    | 146 KB    | ##################################### | 100% \n",
      "ca-certificates-2022 | 127 KB    | ##################################### | 100% \n",
      "py-xgboost-1.5.0     | 153 KB    | ##################################### | 100% \n",
      "openssl-1.1.1n       | 3.3 MB    | ##################################### | 100% \n",
      "Preparing transaction: done\n",
      "Verifying transaction: done\n",
      "Executing transaction: done\n"
     ]
    }
   ],
   "source": [
    "#conda install -c anaconda py-xgboost -y"
   ]
  },
  {
   "cell_type": "code",
   "execution_count": 35,
   "metadata": {
    "ExecuteTime": {
     "end_time": "2022-05-13T12:38:23.937075Z",
     "start_time": "2022-05-13T12:38:23.930828Z"
    }
   },
   "outputs": [
    {
     "name": "stdout",
     "output_type": "stream",
     "text": [
      "1.5.0\n"
     ]
    }
   ],
   "source": [
    "import xgboost\n",
    "print(xgboost.__version__)"
   ]
  },
  {
   "cell_type": "markdown",
   "metadata": {},
   "source": [
    "### 위스콘신 Breast Cancer 데이터 셋"
   ]
  },
  {
   "cell_type": "markdown",
   "metadata": {},
   "source": [
    "**데이터 세트 로딩 하기**"
   ]
  },
  {
   "cell_type": "code",
   "execution_count": 58,
   "metadata": {
    "ExecuteTime": {
     "end_time": "2022-05-13T12:50:09.333267Z",
     "start_time": "2022-05-13T12:50:09.303805Z"
    }
   },
   "outputs": [
    {
     "data": {
      "text/html": [
       "<div>\n",
       "<style scoped>\n",
       "    .dataframe tbody tr th:only-of-type {\n",
       "        vertical-align: middle;\n",
       "    }\n",
       "\n",
       "    .dataframe tbody tr th {\n",
       "        vertical-align: top;\n",
       "    }\n",
       "\n",
       "    .dataframe thead th {\n",
       "        text-align: right;\n",
       "    }\n",
       "</style>\n",
       "<table border=\"1\" class=\"dataframe\">\n",
       "  <thead>\n",
       "    <tr style=\"text-align: right;\">\n",
       "      <th></th>\n",
       "      <th>mean radius</th>\n",
       "      <th>mean texture</th>\n",
       "      <th>mean perimeter</th>\n",
       "      <th>mean area</th>\n",
       "      <th>mean smoothness</th>\n",
       "      <th>mean compactness</th>\n",
       "      <th>mean concavity</th>\n",
       "      <th>mean concave points</th>\n",
       "      <th>mean symmetry</th>\n",
       "      <th>mean fractal dimension</th>\n",
       "      <th>...</th>\n",
       "      <th>worst texture</th>\n",
       "      <th>worst perimeter</th>\n",
       "      <th>worst area</th>\n",
       "      <th>worst smoothness</th>\n",
       "      <th>worst compactness</th>\n",
       "      <th>worst concavity</th>\n",
       "      <th>worst concave points</th>\n",
       "      <th>worst symmetry</th>\n",
       "      <th>worst fractal dimension</th>\n",
       "      <th>target</th>\n",
       "    </tr>\n",
       "  </thead>\n",
       "  <tbody>\n",
       "    <tr>\n",
       "      <th>0</th>\n",
       "      <td>17.99</td>\n",
       "      <td>10.38</td>\n",
       "      <td>122.8</td>\n",
       "      <td>1001.0</td>\n",
       "      <td>0.11840</td>\n",
       "      <td>0.27760</td>\n",
       "      <td>0.3001</td>\n",
       "      <td>0.14710</td>\n",
       "      <td>0.2419</td>\n",
       "      <td>0.07871</td>\n",
       "      <td>...</td>\n",
       "      <td>17.33</td>\n",
       "      <td>184.6</td>\n",
       "      <td>2019.0</td>\n",
       "      <td>0.1622</td>\n",
       "      <td>0.6656</td>\n",
       "      <td>0.7119</td>\n",
       "      <td>0.2654</td>\n",
       "      <td>0.4601</td>\n",
       "      <td>0.11890</td>\n",
       "      <td>0</td>\n",
       "    </tr>\n",
       "    <tr>\n",
       "      <th>1</th>\n",
       "      <td>20.57</td>\n",
       "      <td>17.77</td>\n",
       "      <td>132.9</td>\n",
       "      <td>1326.0</td>\n",
       "      <td>0.08474</td>\n",
       "      <td>0.07864</td>\n",
       "      <td>0.0869</td>\n",
       "      <td>0.07017</td>\n",
       "      <td>0.1812</td>\n",
       "      <td>0.05667</td>\n",
       "      <td>...</td>\n",
       "      <td>23.41</td>\n",
       "      <td>158.8</td>\n",
       "      <td>1956.0</td>\n",
       "      <td>0.1238</td>\n",
       "      <td>0.1866</td>\n",
       "      <td>0.2416</td>\n",
       "      <td>0.1860</td>\n",
       "      <td>0.2750</td>\n",
       "      <td>0.08902</td>\n",
       "      <td>0</td>\n",
       "    </tr>\n",
       "    <tr>\n",
       "      <th>2</th>\n",
       "      <td>19.69</td>\n",
       "      <td>21.25</td>\n",
       "      <td>130.0</td>\n",
       "      <td>1203.0</td>\n",
       "      <td>0.10960</td>\n",
       "      <td>0.15990</td>\n",
       "      <td>0.1974</td>\n",
       "      <td>0.12790</td>\n",
       "      <td>0.2069</td>\n",
       "      <td>0.05999</td>\n",
       "      <td>...</td>\n",
       "      <td>25.53</td>\n",
       "      <td>152.5</td>\n",
       "      <td>1709.0</td>\n",
       "      <td>0.1444</td>\n",
       "      <td>0.4245</td>\n",
       "      <td>0.4504</td>\n",
       "      <td>0.2430</td>\n",
       "      <td>0.3613</td>\n",
       "      <td>0.08758</td>\n",
       "      <td>0</td>\n",
       "    </tr>\n",
       "  </tbody>\n",
       "</table>\n",
       "<p>3 rows × 31 columns</p>\n",
       "</div>"
      ],
      "text/plain": [
       "   mean radius  mean texture  mean perimeter  mean area  mean smoothness  \\\n",
       "0        17.99         10.38           122.8     1001.0          0.11840   \n",
       "1        20.57         17.77           132.9     1326.0          0.08474   \n",
       "2        19.69         21.25           130.0     1203.0          0.10960   \n",
       "\n",
       "   mean compactness  mean concavity  mean concave points  mean symmetry  \\\n",
       "0           0.27760          0.3001              0.14710         0.2419   \n",
       "1           0.07864          0.0869              0.07017         0.1812   \n",
       "2           0.15990          0.1974              0.12790         0.2069   \n",
       "\n",
       "   mean fractal dimension  ...  worst texture  worst perimeter  worst area  \\\n",
       "0                 0.07871  ...          17.33            184.6      2019.0   \n",
       "1                 0.05667  ...          23.41            158.8      1956.0   \n",
       "2                 0.05999  ...          25.53            152.5      1709.0   \n",
       "\n",
       "   worst smoothness  worst compactness  worst concavity  worst concave points  \\\n",
       "0            0.1622             0.6656           0.7119                0.2654   \n",
       "1            0.1238             0.1866           0.2416                0.1860   \n",
       "2            0.1444             0.4245           0.4504                0.2430   \n",
       "\n",
       "   worst symmetry  worst fractal dimension  target  \n",
       "0          0.4601                  0.11890       0  \n",
       "1          0.2750                  0.08902       0  \n",
       "2          0.3613                  0.08758       0  \n",
       "\n",
       "[3 rows x 31 columns]"
      ]
     },
     "execution_count": 58,
     "metadata": {},
     "output_type": "execute_result"
    }
   ],
   "source": [
    "import pandas as pd\n",
    "import numpy as np\n",
    "from sklearn.datasets import load_breast_cancer\n",
    "from sklearn.model_selection import train_test_split\n",
    "import warnings\n",
    "warnings.filterwarnings('ignore')\n",
    "\n",
    "dataset = load_breast_cancer()\n",
    "\n",
    "cancer_df = pd.DataFrame(data=dataset.data, columns=dataset.feature_names)\n",
    "cancer_df['target']= dataset.target\n",
    "cancer_df.head(3)"
   ]
  },
  {
   "cell_type": "markdown",
   "metadata": {},
   "source": [
    "### 파이썬 Native XGBoost 적용"
   ]
  },
  {
   "cell_type": "code",
   "execution_count": 59,
   "metadata": {
    "ExecuteTime": {
     "end_time": "2022-05-13T12:50:20.781353Z",
     "start_time": "2022-05-13T12:50:20.773073Z"
    }
   },
   "outputs": [],
   "source": [
    "# xgboost 패키지 로딩하기\n",
    "import xgboost as xgb # python wrapper - xgboost\n",
    "from xgboost import plot_importance"
   ]
  },
  {
   "cell_type": "markdown",
   "metadata": {},
   "source": [
    "#### 데이터 확인 및 train_test_split"
   ]
  },
  {
   "cell_type": "code",
   "execution_count": 60,
   "metadata": {
    "ExecuteTime": {
     "end_time": "2022-05-13T12:51:04.187148Z",
     "start_time": "2022-05-13T12:51:04.170862Z"
    }
   },
   "outputs": [
    {
     "name": "stdout",
     "output_type": "stream",
     "text": [
      "['malignant' 'benign']\n"
     ]
    },
    {
     "data": {
      "text/html": [
       "<div>\n",
       "<style scoped>\n",
       "    .dataframe tbody tr th:only-of-type {\n",
       "        vertical-align: middle;\n",
       "    }\n",
       "\n",
       "    .dataframe tbody tr th {\n",
       "        vertical-align: top;\n",
       "    }\n",
       "\n",
       "    .dataframe thead th {\n",
       "        text-align: right;\n",
       "    }\n",
       "</style>\n",
       "<table border=\"1\" class=\"dataframe\">\n",
       "  <thead>\n",
       "    <tr style=\"text-align: right;\">\n",
       "      <th></th>\n",
       "      <th>target</th>\n",
       "    </tr>\n",
       "  </thead>\n",
       "  <tbody>\n",
       "    <tr>\n",
       "      <th>1</th>\n",
       "      <td>357</td>\n",
       "    </tr>\n",
       "    <tr>\n",
       "      <th>0</th>\n",
       "      <td>212</td>\n",
       "    </tr>\n",
       "  </tbody>\n",
       "</table>\n",
       "</div>"
      ],
      "text/plain": [
       "   target\n",
       "1     357\n",
       "0     212"
      ]
     },
     "execution_count": 60,
     "metadata": {},
     "output_type": "execute_result"
    }
   ],
   "source": [
    "# 0: malignant(악성 종양), 1: benign(양성 종양)\n",
    "print(dataset.target_names)\n",
    "cancer_df['target'].value_counts().to_frame()"
   ]
  },
  {
   "cell_type": "code",
   "execution_count": 55,
   "metadata": {
    "ExecuteTime": {
     "end_time": "2022-05-13T12:44:54.540018Z",
     "start_time": "2022-05-13T12:44:54.523245Z"
    }
   },
   "outputs": [
    {
     "name": "stdout",
     "output_type": "stream",
     "text": [
      "((455, 30), (455,))이 아래와 같이 쪼개짐\n",
      "(409, 30) (46, 30) (409,) (46,)\n"
     ]
    }
   ],
   "source": [
    "# cancer_df에서 feature용 DataFrame과 Label용 Series 객체 추출\n",
    "# 맨 마지막 칼럼이 Label이므로 Feature용 DataFrame은 cancer_df의 첫번째 칼럼에서 맨 마지막 두번째 컬럼까지를 :-1 슬라이싱으로 추출.\n",
    "X_features = cancer_df.iloc[:, :-1]\n",
    "y_label = cancer_df.iloc[:, -1]\n",
    "\n",
    "# 전체 데이터 중 80%는 학습용 데이터, 20%는 테스트용 데이터 추출 -> 즉, 학습/테스트 쪼개기\n",
    "X_train, X_test, y_train, y_test=train_test_split(X_features, y_label, test_size=0.2, random_state=156 )\n",
    "\n",
    "# 위에서 만든 X_train, y_train을 다시 쪼개서 90%는 학습, 10%는 검증 데이터로 분리\n",
    "X_tr, X_val, y_tr, y_val = train_test_split(X_train,y_train, test_size=0.1, random_state=156)\n",
    "\n",
    "print(f\"{X_train.shape, y_train.shape}이 아래와 같이 쪼개짐\")\n",
    "print(X_tr.shape, X_val.shape, y_tr.shape, y_val.shape)"
   ]
  },
  {
   "cell_type": "code",
   "execution_count": null,
   "metadata": {},
   "outputs": [],
   "source": [
    "#### "
   ]
  },
  {
   "cell_type": "markdown",
   "metadata": {},
   "source": [
    "#### XGBoost를 위한 DMatrix 변환\n",
    "**학습과 검증, 예측 데이터 세트를 DMatrix로 변환**\n",
    "* DMatrix는 넘파이 array, DataFrame에서도 변환 가능"
   ]
  },
  {
   "cell_type": "code",
   "execution_count": 57,
   "metadata": {
    "ExecuteTime": {
     "end_time": "2022-05-13T12:47:56.049921Z",
     "start_time": "2022-05-13T12:47:56.030573Z"
    }
   },
   "outputs": [],
   "source": [
    "# 만약 구버전 XGBoost에서 DataFrame으로 DMatrix 생성이 안될 경우 X_train.values로 넘파이 변환. \n",
    "# 학습, 검증, 테스트용 DMatrix를 생성.\n",
    "# 아래 X_tr, X_val, X_test는 모두 데이터프레임, y_tr, y_val, y_test는 모두 시리즈\n",
    "dtr = xgb.DMatrix(data=X_tr, label=y_tr) # 학습 데이터/타겟 -> DMatrix\n",
    "dval = xgb.DMatrix(data=X_val, label=y_val) # 검증 데이터/타겟 -> DMatrix\n",
    "dtest = xgb.DMatrix(data=X_test, label=y_test) # 테스트 데이터/타겟 -> DMatrix"
   ]
  },
  {
   "cell_type": "markdown",
   "metadata": {},
   "source": [
    "#### 하이퍼 파라미터, early stopping 설정"
   ]
  },
  {
   "cell_type": "markdown",
   "metadata": {},
   "source": [
    "**하이퍼 파라미터 설정**"
   ]
  },
  {
   "cell_type": "code",
   "execution_count": 62,
   "metadata": {
    "ExecuteTime": {
     "end_time": "2022-05-14T15:00:08.127217Z",
     "start_time": "2022-05-14T15:00:08.119651Z"
    }
   },
   "outputs": [],
   "source": [
    "# xgboost의 하이퍼 파라미터 설정 \n",
    "params = {\n",
    "    'max_depth': 3, # DecisionTree기반 이기 때문에 max_depth 설정\n",
    "    'eta': 0.05, # learning rate\n",
    "    'objective':'binary:logistic', # “binary:logistic“: XGBoost loss function for binary classification.\n",
    "    'eval_metric':'logloss', # 학습할 때, 검증데이터 기반으로 log(loss)를 구한다.\n",
    "}\n",
    "num_rounds = 400 # Number of Boosting Iteration (학습 반복횟수)"
   ]
  },
  {
   "cell_type": "markdown",
   "metadata": {},
   "source": [
    "#### xgb.train()"
   ]
  },
  {
   "cell_type": "markdown",
   "metadata": {},
   "source": [
    "**주어진 하이퍼 파라미터와 early stopping 파라미터를 train( ) 함수의 파라미터로 전달하고 학습**"
   ]
  },
  {
   "cell_type": "code",
   "execution_count": 64,
   "metadata": {
    "ExecuteTime": {
     "end_time": "2022-05-14T15:09:17.810566Z",
     "start_time": "2022-05-14T15:09:17.106728Z"
    }
   },
   "outputs": [
    {
     "name": "stdout",
     "output_type": "stream",
     "text": [
      "[0]\teval-logloss:0.66183\n",
      "[1]\teval-logloss:0.63609\n",
      "[2]\teval-logloss:0.61144\n",
      "[3]\teval-logloss:0.59204\n",
      "[4]\teval-logloss:0.57329\n",
      "[5]\teval-logloss:0.55037\n",
      "[6]\teval-logloss:0.52929\n",
      "[7]\teval-logloss:0.51534\n",
      "[8]\teval-logloss:0.49718\n",
      "[9]\teval-logloss:0.48154\n",
      "[10]\teval-logloss:0.46990\n",
      "[11]\teval-logloss:0.45474\n",
      "[12]\teval-logloss:0.44229\n",
      "[13]\teval-logloss:0.42961\n",
      "[14]\teval-logloss:0.42065\n",
      "[15]\teval-logloss:0.40958\n",
      "[16]\teval-logloss:0.39887\n",
      "[17]\teval-logloss:0.39050\n",
      "[18]\teval-logloss:0.38254\n",
      "[19]\teval-logloss:0.37393\n",
      "[20]\teval-logloss:0.36789\n",
      "[21]\teval-logloss:0.36017\n",
      "[22]\teval-logloss:0.35421\n",
      "[23]\teval-logloss:0.34683\n",
      "[24]\teval-logloss:0.34111\n",
      "[25]\teval-logloss:0.33634\n",
      "[26]\teval-logloss:0.33082\n",
      "[27]\teval-logloss:0.32675\n",
      "[28]\teval-logloss:0.32099\n",
      "[29]\teval-logloss:0.31671\n",
      "[30]\teval-logloss:0.31277\n",
      "[31]\teval-logloss:0.30882\n",
      "[32]\teval-logloss:0.30437\n",
      "[33]\teval-logloss:0.30103\n",
      "[34]\teval-logloss:0.29794\n",
      "[35]\teval-logloss:0.29499\n",
      "[36]\teval-logloss:0.29295\n",
      "[37]\teval-logloss:0.29043\n",
      "[38]\teval-logloss:0.28927\n",
      "[39]\teval-logloss:0.28578\n",
      "[40]\teval-logloss:0.28364\n",
      "[41]\teval-logloss:0.28183\n",
      "[42]\teval-logloss:0.28005\n",
      "[43]\teval-logloss:0.27972\n",
      "[44]\teval-logloss:0.27744\n",
      "[45]\teval-logloss:0.27542\n",
      "[46]\teval-logloss:0.27504\n",
      "[47]\teval-logloss:0.27458\n",
      "[48]\teval-logloss:0.27348\n",
      "[49]\teval-logloss:0.27247\n",
      "[50]\teval-logloss:0.27163\n",
      "[51]\teval-logloss:0.27094\n",
      "[52]\teval-logloss:0.26967\n",
      "[53]\teval-logloss:0.27008\n",
      "[54]\teval-logloss:0.26890\n",
      "[55]\teval-logloss:0.26854\n",
      "[56]\teval-logloss:0.26900\n",
      "[57]\teval-logloss:0.26790\n",
      "[58]\teval-logloss:0.26663\n",
      "[59]\teval-logloss:0.26743\n",
      "[60]\teval-logloss:0.26610\n",
      "[61]\teval-logloss:0.26644\n",
      "[62]\teval-logloss:0.26673\n",
      "[63]\teval-logloss:0.26550\n",
      "[64]\teval-logloss:0.26443\n",
      "[65]\teval-logloss:0.26500\n",
      "[66]\teval-logloss:0.26591\n",
      "[67]\teval-logloss:0.26501\n",
      "[68]\teval-logloss:0.26435\n",
      "[69]\teval-logloss:0.26360\n",
      "[70]\teval-logloss:0.26319\n",
      "[71]\teval-logloss:0.26255\n",
      "[72]\teval-logloss:0.26204\n",
      "[73]\teval-logloss:0.26254\n",
      "[74]\teval-logloss:0.26289\n",
      "[75]\teval-logloss:0.26249\n",
      "[76]\teval-logloss:0.26217\n",
      "[77]\teval-logloss:0.26166\n",
      "[78]\teval-logloss:0.26179\n",
      "[79]\teval-logloss:0.26103\n",
      "[80]\teval-logloss:0.26094\n",
      "[81]\teval-logloss:0.26148\n",
      "[82]\teval-logloss:0.26054\n",
      "[83]\teval-logloss:0.25967\n",
      "[84]\teval-logloss:0.25905\n",
      "[85]\teval-logloss:0.26007\n",
      "[86]\teval-logloss:0.25984\n",
      "[87]\teval-logloss:0.25933\n",
      "[88]\teval-logloss:0.25932\n",
      "[89]\teval-logloss:0.26002\n",
      "[90]\teval-logloss:0.25936\n",
      "[91]\teval-logloss:0.25886\n",
      "[92]\teval-logloss:0.25918\n",
      "[93]\teval-logloss:0.25865\n",
      "[94]\teval-logloss:0.25951\n",
      "[95]\teval-logloss:0.26091\n",
      "[96]\teval-logloss:0.26014\n",
      "[97]\teval-logloss:0.25974\n",
      "[98]\teval-logloss:0.25937\n",
      "[99]\teval-logloss:0.25893\n",
      "[100]\teval-logloss:0.25928\n",
      "[101]\teval-logloss:0.25955\n",
      "[102]\teval-logloss:0.25901\n",
      "[103]\teval-logloss:0.25991\n",
      "[104]\teval-logloss:0.25950\n",
      "[105]\teval-logloss:0.25924\n",
      "[106]\teval-logloss:0.25901\n",
      "[107]\teval-logloss:0.25738\n",
      "[108]\teval-logloss:0.25702\n",
      "[109]\teval-logloss:0.25789\n",
      "[110]\teval-logloss:0.25770\n",
      "[111]\teval-logloss:0.25842\n",
      "[112]\teval-logloss:0.25810\n",
      "[113]\teval-logloss:0.25848\n",
      "[114]\teval-logloss:0.25833\n",
      "[115]\teval-logloss:0.25820\n",
      "[116]\teval-logloss:0.25905\n",
      "[117]\teval-logloss:0.25878\n",
      "[118]\teval-logloss:0.25728\n",
      "[119]\teval-logloss:0.25722\n",
      "[120]\teval-logloss:0.25764\n",
      "[121]\teval-logloss:0.25761\n",
      "[122]\teval-logloss:0.25832\n",
      "[123]\teval-logloss:0.25808\n",
      "[124]\teval-logloss:0.25855\n",
      "[125]\teval-logloss:0.25714\n",
      "[126]\teval-logloss:0.25587\n",
      "[127]\teval-logloss:0.25640\n",
      "[128]\teval-logloss:0.25685\n",
      "[129]\teval-logloss:0.25665\n",
      "[130]\teval-logloss:0.25712\n",
      "[131]\teval-logloss:0.25609\n",
      "[132]\teval-logloss:0.25649\n",
      "[133]\teval-logloss:0.25789\n",
      "[134]\teval-logloss:0.25811\n",
      "[135]\teval-logloss:0.25794\n",
      "[136]\teval-logloss:0.25876\n",
      "[137]\teval-logloss:0.25884\n",
      "[138]\teval-logloss:0.25867\n",
      "[139]\teval-logloss:0.25876\n",
      "[140]\teval-logloss:0.25987\n",
      "[141]\teval-logloss:0.25960\n",
      "[142]\teval-logloss:0.25982\n",
      "[143]\teval-logloss:0.25992\n",
      "[144]\teval-logloss:0.26035\n",
      "[145]\teval-logloss:0.26055\n",
      "[146]\teval-logloss:0.26092\n",
      "[147]\teval-logloss:0.26137\n",
      "[148]\teval-logloss:0.25999\n",
      "[149]\teval-logloss:0.26028\n",
      "[150]\teval-logloss:0.26048\n",
      "[151]\teval-logloss:0.26142\n",
      "[152]\teval-logloss:0.26188\n",
      "[153]\teval-logloss:0.26227\n",
      "[154]\teval-logloss:0.26287\n",
      "[155]\teval-logloss:0.26299\n",
      "[156]\teval-logloss:0.26346\n",
      "[157]\teval-logloss:0.26379\n",
      "[158]\teval-logloss:0.26306\n",
      "[159]\teval-logloss:0.26237\n",
      "[160]\teval-logloss:0.26251\n",
      "[161]\teval-logloss:0.26265\n",
      "[162]\teval-logloss:0.26264\n",
      "[163]\teval-logloss:0.26250\n",
      "[164]\teval-logloss:0.26264\n",
      "[165]\teval-logloss:0.26255\n",
      "[166]\teval-logloss:0.26188\n",
      "[167]\teval-logloss:0.26203\n",
      "[168]\teval-logloss:0.26190\n",
      "[169]\teval-logloss:0.26184\n",
      "[170]\teval-logloss:0.26133\n",
      "[171]\teval-logloss:0.26148\n",
      "[172]\teval-logloss:0.26157\n",
      "[173]\teval-logloss:0.26253\n",
      "[174]\teval-logloss:0.26229\n",
      "[175]\teval-logloss:0.26086\n",
      "[176]\teval-logloss:0.26103\n"
     ]
    }
   ],
   "source": [
    "# 학습 데이터 셋은 'train', 평가 데이터셋은 'eval'로 명기합니다.\n",
    "eval_list = [(dval,'eval')] # 또는 eval_list = [(dtr,'train'),(dval,'eval')] 로 작성해도 무방.\n",
    "\n",
    "# 하이퍼 파라미터와 early stopping 파라미터를 trian( ) 함수의 파라미터로 전달\n",
    "# dtrain (DMatrix) :  Data to be trained.\n",
    "# num_boost_round(int):  Number of boosting iterations.\n",
    "# early_stopping_rounds(int) : Validation metric needs to improve at least once in every early_stopping_rounds round(s) to continue training.\n",
    "xgb_model = xgb.train(params = params, dtrain=dtr, num_boost_round=num_rounds, \\\n",
    "                     early_stopping_rounds=50, evals=eval_list) # 아래에서 176번까지 했다 -> 126번째의 eval-logloss이후에 이것보다 작은값이 50번에 걸쳐 나오지 않았다."
   ]
  },
  {
   "cell_type": "markdown",
   "metadata": {},
   "source": [
    "#### xgb.predict( )"
   ]
  },
  {
   "cell_type": "markdown",
   "metadata": {},
   "source": [
    "**predict()를 통해 예측 확률값을 반환하고 예측 값으로 변환**"
   ]
  },
  {
   "cell_type": "code",
   "execution_count": 67,
   "metadata": {
    "ExecuteTime": {
     "end_time": "2022-05-14T15:11:26.729490Z",
     "start_time": "2022-05-14T15:11:26.711738Z"
    }
   },
   "outputs": [
    {
     "name": "stdout",
     "output_type": "stream",
     "text": [
      "predict( ) 수행 결과값을 10개만 표시, 예측 확률 값으로 표시됨\n",
      "pred_probs : [0.845 0.008 0.68  0.081 0.975 0.999 0.998 0.998 0.996 0.001]\n",
      "preds(예측값) 10개만 표시: [1, 0, 1, 0, 1, 1, 1, 1, 1, 0]\n"
     ]
    }
   ],
   "source": [
    "# xgb.predict()하면 결과가 1일 확률값의 리스트가 반환된다.\n",
    "pred_probs = xgb_model.predict(dtest)\n",
    "print('predict( ) 수행 결과값을 10개만 표시, 예측 확률 값으로 표시됨')\n",
    "print(f\"pred_probs : {np.round(pred_probs[:10],3)}\")\n",
    "\n",
    "# 예측 확률이 0.5 보다 크면 1 , 그렇지 않으면 0 으로 예측값 결정하여 List 객체인 preds에 저장 \n",
    "preds = [ 1 if x > 0.5 else 0 for x in pred_probs ]\n",
    "print('preds(예측값) 10개만 표시:',preds[:10])"
   ]
  },
  {
   "cell_type": "code",
   "execution_count": 24,
   "metadata": {
    "ExecuteTime": {
     "end_time": "2022-05-12T16:58:11.560529Z",
     "start_time": "2022-05-12T16:58:11.546900Z"
    }
   },
   "outputs": [
    {
     "data": {
      "text/plain": [
       "(114, (114,))"
      ]
     },
     "execution_count": 24,
     "metadata": {},
     "output_type": "execute_result"
    }
   ],
   "source": [
    "dtest.num_row(), pred_probs.shape"
   ]
  },
  {
   "cell_type": "markdown",
   "metadata": {},
   "source": [
    "#### 예측평가"
   ]
  },
  {
   "cell_type": "markdown",
   "metadata": {},
   "source": [
    "**get_clf_eval( )을 통해 예측 평가**"
   ]
  },
  {
   "cell_type": "code",
   "execution_count": 68,
   "metadata": {
    "ExecuteTime": {
     "end_time": "2022-05-14T15:13:06.798639Z",
     "start_time": "2022-05-14T15:13:06.785446Z"
    }
   },
   "outputs": [],
   "source": [
    "from sklearn.metrics import confusion_matrix, accuracy_score\n",
    "from sklearn.metrics import precision_score, recall_score\n",
    "from sklearn.metrics import f1_score, roc_auc_score\n",
    "\n",
    "def get_clf_eval(y_test, pred=None, pred_proba=None):\n",
    "    confusion = confusion_matrix( y_test, pred)\n",
    "    accuracy = accuracy_score(y_test , pred)\n",
    "    precision = precision_score(y_test , pred)\n",
    "    recall = recall_score(y_test , pred)\n",
    "    f1 = f1_score(y_test,pred)\n",
    "    roc_auc = roc_auc_score(y_test, pred_proba)\n",
    "    print('오차 행렬')\n",
    "    print(confusion)\n",
    "    # ROC-AUC print 추가\n",
    "    print('정확도: {0:.4f}, 정밀도: {1:.4f}, 재현율: {2:.4f},\\\n",
    "    F1: {3:.4f}, AUC:{4:.4f}'.format(accuracy, precision, recall, f1, roc_auc))"
   ]
  },
  {
   "cell_type": "code",
   "execution_count": 69,
   "metadata": {
    "ExecuteTime": {
     "end_time": "2022-05-14T15:13:08.272951Z",
     "start_time": "2022-05-14T15:13:08.251334Z"
    }
   },
   "outputs": [
    {
     "name": "stdout",
     "output_type": "stream",
     "text": [
      "오차 행렬\n",
      "[[34  3]\n",
      " [ 2 75]]\n",
      "정확도: 0.9561, 정밀도: 0.9615, 재현율: 0.9740,    F1: 0.9677, AUC:0.9937\n"
     ]
    }
   ],
   "source": [
    "get_clf_eval(y_test , preds, pred_probs)"
   ]
  },
  {
   "cell_type": "markdown",
   "metadata": {},
   "source": [
    "#### **Feature Importance 시각화**"
   ]
  },
  {
   "cell_type": "code",
   "execution_count": 91,
   "metadata": {
    "ExecuteTime": {
     "end_time": "2022-05-14T15:33:01.710790Z",
     "start_time": "2022-05-14T15:33:01.533105Z"
    }
   },
   "outputs": [
    {
     "data": {
      "image/png": "[encoded data removed]",
      "text/plain": [
       "<Figure size 1008x1152 with 1 Axes>"
      ]
     },
     "metadata": {},
     "output_type": "display_data"
    }
   ],
   "source": [
    "import matplotlib.pyplot as plt\n",
    "%matplotlib inline\n",
    "\n",
    "plt.style.use('seaborn') # 그래프 스타일\n",
    "fig, ax = plt.subplots(figsize=(14, 16)) # ax가 그림그리는 부분이다.\n",
    "ax.tick_params(labelsize=14)\n",
    "plot_importance(xgb_model, ax=ax, height=0.5)\n",
    "plt.show()"
   ]
  },
  {
   "cell_type": "markdown",
   "metadata": {},
   "source": [
    "### 사이킷런 Wrapper XGBoost 개요 및 적용 "
   ]
  },
  {
   "cell_type": "markdown",
   "metadata": {},
   "source": [
    "#### **사이킷런 래퍼 클래스 임포트, 학습 및 예측**<br>\n",
    "-> 앞(파이썬 래퍼)과 다르게 DMatrix 쓸 필요없음"
   ]
  },
  {
   "cell_type": "code",
   "execution_count": 92,
   "metadata": {
    "ExecuteTime": {
     "end_time": "2022-05-14T15:36:05.019552Z",
     "start_time": "2022-05-14T15:36:05.014195Z"
    }
   },
   "outputs": [],
   "source": [
    "# 사이킷런 래퍼 XGBoost 클래스인 XGBClassifier 임포트\n",
    "from xgboost import XGBClassifier"
   ]
  },
  {
   "cell_type": "code",
   "execution_count": 96,
   "metadata": {
    "ExecuteTime": {
     "end_time": "2022-05-14T15:39:32.134853Z",
     "start_time": "2022-05-14T15:39:31.319459Z"
    }
   },
   "outputs": [],
   "source": [
    "# Warning 메시지를 없애기 위해 eval_metric 값을 XGBClassifier 생성 인자로 입력. 미입력해도 수행에 문제 없음.\n",
    "# n_estimators(int) :  Number of boosting rounds\n",
    "xgb_wrapper = XGBClassifier(n_estimators=400, learning_rate=0.05, max_depth=3, eval_metric='logloss')\n",
    "xgb_wrapper.fit(X_train, y_train, verbose=1)\n",
    "w_preds = xgb_wrapper.predict(X_test)\n",
    "w_pred_proba = xgb_wrapper.predict_proba(X_test)[:,1] # [:,1]해서 1일떄의 확률값만 저장"
   ]
  },
  {
   "cell_type": "code",
   "execution_count": 97,
   "metadata": {
    "ExecuteTime": {
     "end_time": "2022-05-14T15:40:35.833893Z",
     "start_time": "2022-05-14T15:40:35.817862Z"
    }
   },
   "outputs": [
    {
     "name": "stdout",
     "output_type": "stream",
     "text": [
      "오차 행렬\n",
      "[[34  3]\n",
      " [ 1 76]]\n",
      "정확도: 0.9649, 정밀도: 0.9620, 재현율: 0.9870,    F1: 0.9744, AUC:0.9954\n"
     ]
    }
   ],
   "source": [
    "# 데이터가 작기 떄문에 위에서 얼리스타핑한게 성능이 더 안좋게 나오고, 지금한게 성능이 더 좋게 나옴\n",
    "# 일반적으론 얼리스타핑한 것의 성능이 더 좋다. 여기서 반대로 나온 이유는 데이터 크기가 작아서\n",
    "get_clf_eval(y_test, w_preds, w_pred_proba)"
   ]
  },
  {
   "cell_type": "markdown",
   "metadata": {},
   "source": [
    "#### **early stopping을 50으로 설정하고 재 학습/예측/평가**"
   ]
  },
  {
   "cell_type": "code",
   "execution_count": 98,
   "metadata": {
    "ExecuteTime": {
     "end_time": "2022-05-14T15:44:27.094367Z",
     "start_time": "2022-05-14T15:44:27.085843Z"
    }
   },
   "outputs": [],
   "source": [
    "from xgboost import XGBClassifier"
   ]
  },
  {
   "cell_type": "code",
   "execution_count": 102,
   "metadata": {
    "ExecuteTime": {
     "end_time": "2022-05-14T15:49:25.653252Z",
     "start_time": "2022-05-14T15:49:24.989067Z"
    }
   },
   "outputs": [
    {
     "name": "stdout",
     "output_type": "stream",
     "text": [
      "[0]\tvalidation_0-logloss:0.65016\tvalidation_1-logloss:0.66183\n",
      "[1]\tvalidation_0-logloss:0.61131\tvalidation_1-logloss:0.63609\n",
      "[2]\tvalidation_0-logloss:0.57563\tvalidation_1-logloss:0.61144\n",
      "[3]\tvalidation_0-logloss:0.54310\tvalidation_1-logloss:0.59204\n",
      "[4]\tvalidation_0-logloss:0.51323\tvalidation_1-logloss:0.57329\n",
      "[5]\tvalidation_0-logloss:0.48447\tvalidation_1-logloss:0.55037\n",
      "[6]\tvalidation_0-logloss:0.45796\tvalidation_1-logloss:0.52929\n",
      "[7]\tvalidation_0-logloss:0.43436\tvalidation_1-logloss:0.51534\n",
      "[8]\tvalidation_0-logloss:0.41150\tvalidation_1-logloss:0.49718\n",
      "[9]\tvalidation_0-logloss:0.39027\tvalidation_1-logloss:0.48154\n",
      "[10]\tvalidation_0-logloss:0.37128\tvalidation_1-logloss:0.46990\n",
      "[11]\tvalidation_0-logloss:0.35254\tvalidation_1-logloss:0.45474\n",
      "[12]\tvalidation_0-logloss:0.33528\tvalidation_1-logloss:0.44229\n",
      "[13]\tvalidation_0-logloss:0.31893\tvalidation_1-logloss:0.42961\n",
      "[14]\tvalidation_0-logloss:0.30439\tvalidation_1-logloss:0.42065\n",
      "[15]\tvalidation_0-logloss:0.29000\tvalidation_1-logloss:0.40958\n",
      "[16]\tvalidation_0-logloss:0.27651\tvalidation_1-logloss:0.39887\n",
      "[17]\tvalidation_0-logloss:0.26389\tvalidation_1-logloss:0.39050\n",
      "[18]\tvalidation_0-logloss:0.25210\tvalidation_1-logloss:0.38254\n",
      "[19]\tvalidation_0-logloss:0.24123\tvalidation_1-logloss:0.37393\n",
      "[20]\tvalidation_0-logloss:0.23076\tvalidation_1-logloss:0.36789\n",
      "[21]\tvalidation_0-logloss:0.22091\tvalidation_1-logloss:0.36017\n",
      "[22]\tvalidation_0-logloss:0.21155\tvalidation_1-logloss:0.35421\n",
      "[23]\tvalidation_0-logloss:0.20263\tvalidation_1-logloss:0.34683\n",
      "[24]\tvalidation_0-logloss:0.19434\tvalidation_1-logloss:0.34111\n",
      "[25]\tvalidation_0-logloss:0.18637\tvalidation_1-logloss:0.33634\n",
      "[26]\tvalidation_0-logloss:0.17875\tvalidation_1-logloss:0.33082\n",
      "[27]\tvalidation_0-logloss:0.17167\tvalidation_1-logloss:0.32675\n",
      "[28]\tvalidation_0-logloss:0.16481\tvalidation_1-logloss:0.32099\n",
      "[29]\tvalidation_0-logloss:0.15835\tvalidation_1-logloss:0.31671\n",
      "[30]\tvalidation_0-logloss:0.15225\tvalidation_1-logloss:0.31277\n",
      "[31]\tvalidation_0-logloss:0.14650\tvalidation_1-logloss:0.30882\n",
      "[32]\tvalidation_0-logloss:0.14102\tvalidation_1-logloss:0.30437\n",
      "[33]\tvalidation_0-logloss:0.13590\tvalidation_1-logloss:0.30103\n",
      "[34]\tvalidation_0-logloss:0.13109\tvalidation_1-logloss:0.29794\n",
      "[35]\tvalidation_0-logloss:0.12647\tvalidation_1-logloss:0.29499\n",
      "[36]\tvalidation_0-logloss:0.12197\tvalidation_1-logloss:0.29295\n",
      "[37]\tvalidation_0-logloss:0.11784\tvalidation_1-logloss:0.29043\n",
      "[38]\tvalidation_0-logloss:0.11379\tvalidation_1-logloss:0.28927\n",
      "[39]\tvalidation_0-logloss:0.10994\tvalidation_1-logloss:0.28578\n",
      "[40]\tvalidation_0-logloss:0.10638\tvalidation_1-logloss:0.28364\n",
      "[41]\tvalidation_0-logloss:0.10302\tvalidation_1-logloss:0.28183\n",
      "[42]\tvalidation_0-logloss:0.09963\tvalidation_1-logloss:0.28005\n",
      "[43]\tvalidation_0-logloss:0.09649\tvalidation_1-logloss:0.27972\n",
      "[44]\tvalidation_0-logloss:0.09359\tvalidation_1-logloss:0.27744\n",
      "[45]\tvalidation_0-logloss:0.09080\tvalidation_1-logloss:0.27542\n",
      "[46]\tvalidation_0-logloss:0.08807\tvalidation_1-logloss:0.27504\n",
      "[47]\tvalidation_0-logloss:0.08541\tvalidation_1-logloss:0.27458\n",
      "[48]\tvalidation_0-logloss:0.08299\tvalidation_1-logloss:0.27348\n",
      "[49]\tvalidation_0-logloss:0.08035\tvalidation_1-logloss:0.27247\n",
      "[50]\tvalidation_0-logloss:0.07786\tvalidation_1-logloss:0.27163\n",
      "[51]\tvalidation_0-logloss:0.07550\tvalidation_1-logloss:0.27094\n",
      "[52]\tvalidation_0-logloss:0.07344\tvalidation_1-logloss:0.26967\n",
      "[53]\tvalidation_0-logloss:0.07147\tvalidation_1-logloss:0.27008\n",
      "[54]\tvalidation_0-logloss:0.06964\tvalidation_1-logloss:0.26890\n",
      "[55]\tvalidation_0-logloss:0.06766\tvalidation_1-logloss:0.26854\n",
      "[56]\tvalidation_0-logloss:0.06592\tvalidation_1-logloss:0.26900\n",
      "[57]\tvalidation_0-logloss:0.06433\tvalidation_1-logloss:0.26790\n",
      "[58]\tvalidation_0-logloss:0.06259\tvalidation_1-logloss:0.26663\n",
      "[59]\tvalidation_0-logloss:0.06107\tvalidation_1-logloss:0.26743\n",
      "[60]\tvalidation_0-logloss:0.05957\tvalidation_1-logloss:0.26610\n",
      "[61]\tvalidation_0-logloss:0.05817\tvalidation_1-logloss:0.26644\n",
      "[62]\tvalidation_0-logloss:0.05691\tvalidation_1-logloss:0.26673\n",
      "[63]\tvalidation_0-logloss:0.05550\tvalidation_1-logloss:0.26550\n",
      "[64]\tvalidation_0-logloss:0.05422\tvalidation_1-logloss:0.26443\n",
      "[65]\tvalidation_0-logloss:0.05311\tvalidation_1-logloss:0.26500\n",
      "[66]\tvalidation_0-logloss:0.05207\tvalidation_1-logloss:0.26591\n",
      "[67]\tvalidation_0-logloss:0.05093\tvalidation_1-logloss:0.26501\n",
      "[68]\tvalidation_0-logloss:0.04976\tvalidation_1-logloss:0.26435\n",
      "[69]\tvalidation_0-logloss:0.04872\tvalidation_1-logloss:0.26360\n",
      "[70]\tvalidation_0-logloss:0.04776\tvalidation_1-logloss:0.26319\n",
      "[71]\tvalidation_0-logloss:0.04680\tvalidation_1-logloss:0.26255\n",
      "[72]\tvalidation_0-logloss:0.04580\tvalidation_1-logloss:0.26204\n",
      "[73]\tvalidation_0-logloss:0.04484\tvalidation_1-logloss:0.26254\n",
      "[74]\tvalidation_0-logloss:0.04388\tvalidation_1-logloss:0.26289\n",
      "[75]\tvalidation_0-logloss:0.04309\tvalidation_1-logloss:0.26249\n",
      "[76]\tvalidation_0-logloss:0.04224\tvalidation_1-logloss:0.26217\n",
      "[77]\tvalidation_0-logloss:0.04133\tvalidation_1-logloss:0.26166\n",
      "[78]\tvalidation_0-logloss:0.04050\tvalidation_1-logloss:0.26179\n",
      "[79]\tvalidation_0-logloss:0.03967\tvalidation_1-logloss:0.26103\n",
      "[80]\tvalidation_0-logloss:0.03877\tvalidation_1-logloss:0.26094\n",
      "[81]\tvalidation_0-logloss:0.03806\tvalidation_1-logloss:0.26148\n",
      "[82]\tvalidation_0-logloss:0.03740\tvalidation_1-logloss:0.26054\n",
      "[83]\tvalidation_0-logloss:0.03676\tvalidation_1-logloss:0.25967\n",
      "[84]\tvalidation_0-logloss:0.03605\tvalidation_1-logloss:0.25905\n",
      "[85]\tvalidation_0-logloss:0.03545\tvalidation_1-logloss:0.26007\n",
      "[86]\tvalidation_0-logloss:0.03488\tvalidation_1-logloss:0.25984\n",
      "[87]\tvalidation_0-logloss:0.03425\tvalidation_1-logloss:0.25933\n",
      "[88]\tvalidation_0-logloss:0.03361\tvalidation_1-logloss:0.25932\n",
      "[89]\tvalidation_0-logloss:0.03311\tvalidation_1-logloss:0.26002\n",
      "[90]\tvalidation_0-logloss:0.03260\tvalidation_1-logloss:0.25936\n",
      "[91]\tvalidation_0-logloss:0.03202\tvalidation_1-logloss:0.25886\n",
      "[92]\tvalidation_0-logloss:0.03152\tvalidation_1-logloss:0.25918\n",
      "[93]\tvalidation_0-logloss:0.03107\tvalidation_1-logloss:0.25865\n",
      "[94]\tvalidation_0-logloss:0.03049\tvalidation_1-logloss:0.25951\n",
      "[95]\tvalidation_0-logloss:0.03007\tvalidation_1-logloss:0.26091\n",
      "[96]\tvalidation_0-logloss:0.02963\tvalidation_1-logloss:0.26014\n",
      "[97]\tvalidation_0-logloss:0.02913\tvalidation_1-logloss:0.25974\n",
      "[98]\tvalidation_0-logloss:0.02866\tvalidation_1-logloss:0.25937\n",
      "[99]\tvalidation_0-logloss:0.02829\tvalidation_1-logloss:0.25893\n",
      "[100]\tvalidation_0-logloss:0.02789\tvalidation_1-logloss:0.25928\n",
      "[101]\tvalidation_0-logloss:0.02751\tvalidation_1-logloss:0.25955\n",
      "[102]\tvalidation_0-logloss:0.02714\tvalidation_1-logloss:0.25901\n",
      "[103]\tvalidation_0-logloss:0.02668\tvalidation_1-logloss:0.25991\n",
      "[104]\tvalidation_0-logloss:0.02634\tvalidation_1-logloss:0.25950\n",
      "[105]\tvalidation_0-logloss:0.02594\tvalidation_1-logloss:0.25924\n",
      "[106]\tvalidation_0-logloss:0.02556\tvalidation_1-logloss:0.25901\n",
      "[107]\tvalidation_0-logloss:0.02522\tvalidation_1-logloss:0.25738\n",
      "[108]\tvalidation_0-logloss:0.02492\tvalidation_1-logloss:0.25702\n",
      "[109]\tvalidation_0-logloss:0.02453\tvalidation_1-logloss:0.25789\n",
      "[110]\tvalidation_0-logloss:0.02418\tvalidation_1-logloss:0.25770\n",
      "[111]\tvalidation_0-logloss:0.02384\tvalidation_1-logloss:0.25842\n",
      "[112]\tvalidation_0-logloss:0.02356\tvalidation_1-logloss:0.25810\n",
      "[113]\tvalidation_0-logloss:0.02322\tvalidation_1-logloss:0.25848\n",
      "[114]\tvalidation_0-logloss:0.02290\tvalidation_1-logloss:0.25833\n",
      "[115]\tvalidation_0-logloss:0.02260\tvalidation_1-logloss:0.25820\n",
      "[116]\tvalidation_0-logloss:0.02229\tvalidation_1-logloss:0.25905\n",
      "[117]\tvalidation_0-logloss:0.02204\tvalidation_1-logloss:0.25878\n",
      "[118]\tvalidation_0-logloss:0.02176\tvalidation_1-logloss:0.25728\n",
      "[119]\tvalidation_0-logloss:0.02149\tvalidation_1-logloss:0.25722\n",
      "[120]\tvalidation_0-logloss:0.02119\tvalidation_1-logloss:0.25764\n",
      "[121]\tvalidation_0-logloss:0.02095\tvalidation_1-logloss:0.25761\n",
      "[122]\tvalidation_0-logloss:0.02067\tvalidation_1-logloss:0.25832\n",
      "[123]\tvalidation_0-logloss:0.02045\tvalidation_1-logloss:0.25808\n",
      "[124]\tvalidation_0-logloss:0.02023\tvalidation_1-logloss:0.25855\n",
      "[125]\tvalidation_0-logloss:0.01998\tvalidation_1-logloss:0.25714\n",
      "[126]\tvalidation_0-logloss:0.01973\tvalidation_1-logloss:0.25587\n",
      "[127]\tvalidation_0-logloss:0.01946\tvalidation_1-logloss:0.25640\n",
      "[128]\tvalidation_0-logloss:0.01927\tvalidation_1-logloss:0.25685\n",
      "[129]\tvalidation_0-logloss:0.01908\tvalidation_1-logloss:0.25665\n"
     ]
    },
    {
     "name": "stdout",
     "output_type": "stream",
     "text": [
      "[130]\tvalidation_0-logloss:0.01886\tvalidation_1-logloss:0.25712\n",
      "[131]\tvalidation_0-logloss:0.01863\tvalidation_1-logloss:0.25609\n",
      "[132]\tvalidation_0-logloss:0.01839\tvalidation_1-logloss:0.25649\n",
      "[133]\tvalidation_0-logloss:0.01816\tvalidation_1-logloss:0.25789\n",
      "[134]\tvalidation_0-logloss:0.01802\tvalidation_1-logloss:0.25811\n",
      "[135]\tvalidation_0-logloss:0.01785\tvalidation_1-logloss:0.25794\n",
      "[136]\tvalidation_0-logloss:0.01763\tvalidation_1-logloss:0.25876\n",
      "[137]\tvalidation_0-logloss:0.01748\tvalidation_1-logloss:0.25884\n",
      "[138]\tvalidation_0-logloss:0.01732\tvalidation_1-logloss:0.25867\n",
      "[139]\tvalidation_0-logloss:0.01719\tvalidation_1-logloss:0.25876\n",
      "[140]\tvalidation_0-logloss:0.01696\tvalidation_1-logloss:0.25987\n",
      "[141]\tvalidation_0-logloss:0.01681\tvalidation_1-logloss:0.25960\n",
      "[142]\tvalidation_0-logloss:0.01669\tvalidation_1-logloss:0.25982\n",
      "[143]\tvalidation_0-logloss:0.01656\tvalidation_1-logloss:0.25992\n",
      "[144]\tvalidation_0-logloss:0.01638\tvalidation_1-logloss:0.26035\n",
      "[145]\tvalidation_0-logloss:0.01623\tvalidation_1-logloss:0.26055\n",
      "[146]\tvalidation_0-logloss:0.01606\tvalidation_1-logloss:0.26092\n",
      "[147]\tvalidation_0-logloss:0.01589\tvalidation_1-logloss:0.26137\n",
      "[148]\tvalidation_0-logloss:0.01572\tvalidation_1-logloss:0.25999\n",
      "[149]\tvalidation_0-logloss:0.01557\tvalidation_1-logloss:0.26028\n",
      "[150]\tvalidation_0-logloss:0.01546\tvalidation_1-logloss:0.26048\n",
      "[151]\tvalidation_0-logloss:0.01531\tvalidation_1-logloss:0.26142\n",
      "[152]\tvalidation_0-logloss:0.01515\tvalidation_1-logloss:0.26188\n",
      "[153]\tvalidation_0-logloss:0.01501\tvalidation_1-logloss:0.26227\n",
      "[154]\tvalidation_0-logloss:0.01486\tvalidation_1-logloss:0.26287\n",
      "[155]\tvalidation_0-logloss:0.01476\tvalidation_1-logloss:0.26299\n",
      "[156]\tvalidation_0-logloss:0.01461\tvalidation_1-logloss:0.26346\n",
      "[157]\tvalidation_0-logloss:0.01448\tvalidation_1-logloss:0.26379\n",
      "[158]\tvalidation_0-logloss:0.01434\tvalidation_1-logloss:0.26306\n",
      "[159]\tvalidation_0-logloss:0.01424\tvalidation_1-logloss:0.26237\n",
      "[160]\tvalidation_0-logloss:0.01410\tvalidation_1-logloss:0.26251\n",
      "[161]\tvalidation_0-logloss:0.01401\tvalidation_1-logloss:0.26265\n",
      "[162]\tvalidation_0-logloss:0.01392\tvalidation_1-logloss:0.26264\n",
      "[163]\tvalidation_0-logloss:0.01380\tvalidation_1-logloss:0.26250\n",
      "[164]\tvalidation_0-logloss:0.01372\tvalidation_1-logloss:0.26264\n",
      "[165]\tvalidation_0-logloss:0.01359\tvalidation_1-logloss:0.26255\n",
      "[166]\tvalidation_0-logloss:0.01350\tvalidation_1-logloss:0.26188\n",
      "[167]\tvalidation_0-logloss:0.01342\tvalidation_1-logloss:0.26203\n",
      "[168]\tvalidation_0-logloss:0.01331\tvalidation_1-logloss:0.26190\n",
      "[169]\tvalidation_0-logloss:0.01319\tvalidation_1-logloss:0.26184\n",
      "[170]\tvalidation_0-logloss:0.01312\tvalidation_1-logloss:0.26133\n",
      "[171]\tvalidation_0-logloss:0.01304\tvalidation_1-logloss:0.26148\n",
      "[172]\tvalidation_0-logloss:0.01297\tvalidation_1-logloss:0.26157\n",
      "[173]\tvalidation_0-logloss:0.01285\tvalidation_1-logloss:0.26253\n",
      "[174]\tvalidation_0-logloss:0.01278\tvalidation_1-logloss:0.26229\n",
      "[175]\tvalidation_0-logloss:0.01267\tvalidation_1-logloss:0.26086\n",
      "[176]\tvalidation_0-logloss:0.01258\tvalidation_1-logloss:0.26103\n"
     ]
    },
    {
     "data": {
      "text/plain": [
       "XGBClassifier(base_score=0.5, booster='gbtree', colsample_bylevel=1,\n",
       "              colsample_bynode=1, colsample_bytree=1, enable_categorical=False,\n",
       "              gamma=0, gpu_id=-1, importance_type=None,\n",
       "              interaction_constraints='', learning_rate=0.05, max_delta_step=0,\n",
       "              max_depth=3, min_child_weight=1, missing=nan,\n",
       "              monotone_constraints='()', n_estimators=400, n_jobs=10,\n",
       "              num_parallel_tree=1, predictor='auto', random_state=0,\n",
       "              reg_alpha=0, reg_lambda=1, scale_pos_weight=1, subsample=1,\n",
       "              tree_method='exact', validate_parameters=1, verbosity=None)"
      ]
     },
     "execution_count": 102,
     "metadata": {},
     "output_type": "execute_result"
    }
   ],
   "source": [
    "# eval_set :  A list of (X, y) tuple pairs to use as validation sets\n",
    "# eval_metric :  If a str, should be a built-in evaluation metric to use\n",
    "xgb_wrapper = XGBClassifier(n_estimators=400, learning_rate=0.05, max_depth=3)\n",
    "evals = [(X_tr,y_tr), (X_val, y_val)] # 검증 데이터셋\n",
    "xgb_wrapper.fit(X_tr, y_tr, early_stopping_rounds=50, eval_metric=\"logloss\",\n",
    "               eval_set=evals, verbose=1) #위와 마찬가지로 0~176번까지만 학습"
   ]
  },
  {
   "cell_type": "code",
   "execution_count": 104,
   "metadata": {
    "ExecuteTime": {
     "end_time": "2022-05-14T15:49:50.908859Z",
     "start_time": "2022-05-14T15:49:50.881501Z"
    }
   },
   "outputs": [
    {
     "name": "stdout",
     "output_type": "stream",
     "text": [
      "오차 행렬\n",
      "[[34  3]\n",
      " [ 2 75]]\n",
      "정확도: 0.9561, 정밀도: 0.9615, 재현율: 0.9740,    F1: 0.9677, AUC:0.9933\n"
     ]
    }
   ],
   "source": [
    "ws50_preds = xgb_wrapper.predict(X_test)\n",
    "ws50_pred_proba = xgb_wrapper.predict_proba(X_test)[:,1] # 1일 때의 확률만\n",
    "\n",
    "get_clf_eval(y_test , ws50_preds, ws50_pred_proba)\n",
    "## python wrapper와 성능이 정확히 일치"
   ]
  },
  {
   "cell_type": "markdown",
   "metadata": {},
   "source": [
    "#### early stopping을 너무 작게하면 성능이 떨어질수있다.\n",
    "**early stopping을 10으로 설정하고 재 학습/예측/평가**"
   ]
  },
  {
   "cell_type": "code",
   "execution_count": 33,
   "metadata": {
    "ExecuteTime": {
     "end_time": "2022-05-12T17:08:17.268864Z",
     "start_time": "2022-05-12T17:08:16.814703Z"
    }
   },
   "outputs": [
    {
     "name": "stdout",
     "output_type": "stream",
     "text": [
      "[0]\tvalidation_0-logloss:0.65016\tvalidation_1-logloss:0.66183\n",
      "[1]\tvalidation_0-logloss:0.61131\tvalidation_1-logloss:0.63609\n",
      "[2]\tvalidation_0-logloss:0.57563\tvalidation_1-logloss:0.61144\n",
      "[3]\tvalidation_0-logloss:0.54310\tvalidation_1-logloss:0.59204\n",
      "[4]\tvalidation_0-logloss:0.51323\tvalidation_1-logloss:0.57329\n",
      "[5]\tvalidation_0-logloss:0.48447\tvalidation_1-logloss:0.55037\n",
      "[6]\tvalidation_0-logloss:0.45796\tvalidation_1-logloss:0.52929\n",
      "[7]\tvalidation_0-logloss:0.43436\tvalidation_1-logloss:0.51534\n",
      "[8]\tvalidation_0-logloss:0.41150\tvalidation_1-logloss:0.49718\n",
      "[9]\tvalidation_0-logloss:0.39027\tvalidation_1-logloss:0.48154\n",
      "[10]\tvalidation_0-logloss:0.37128\tvalidation_1-logloss:0.46990\n",
      "[11]\tvalidation_0-logloss:0.35254\tvalidation_1-logloss:0.45474\n",
      "[12]\tvalidation_0-logloss:0.33528\tvalidation_1-logloss:0.44229\n",
      "[13]\tvalidation_0-logloss:0.31893\tvalidation_1-logloss:0.42961\n",
      "[14]\tvalidation_0-logloss:0.30439\tvalidation_1-logloss:0.42065\n",
      "[15]\tvalidation_0-logloss:0.29000\tvalidation_1-logloss:0.40958\n",
      "[16]\tvalidation_0-logloss:0.27651\tvalidation_1-logloss:0.39887\n",
      "[17]\tvalidation_0-logloss:0.26389\tvalidation_1-logloss:0.39050\n",
      "[18]\tvalidation_0-logloss:0.25210\tvalidation_1-logloss:0.38254\n",
      "[19]\tvalidation_0-logloss:0.24123\tvalidation_1-logloss:0.37393\n",
      "[20]\tvalidation_0-logloss:0.23076\tvalidation_1-logloss:0.36789\n",
      "[21]\tvalidation_0-logloss:0.22091\tvalidation_1-logloss:0.36017\n",
      "[22]\tvalidation_0-logloss:0.21155\tvalidation_1-logloss:0.35421\n",
      "[23]\tvalidation_0-logloss:0.20263\tvalidation_1-logloss:0.34683\n",
      "[24]\tvalidation_0-logloss:0.19434\tvalidation_1-logloss:0.34111\n",
      "[25]\tvalidation_0-logloss:0.18637\tvalidation_1-logloss:0.33634\n",
      "[26]\tvalidation_0-logloss:0.17875\tvalidation_1-logloss:0.33082\n",
      "[27]\tvalidation_0-logloss:0.17167\tvalidation_1-logloss:0.32675\n",
      "[28]\tvalidation_0-logloss:0.16481\tvalidation_1-logloss:0.32099\n",
      "[29]\tvalidation_0-logloss:0.15835\tvalidation_1-logloss:0.31671\n",
      "[30]\tvalidation_0-logloss:0.15225\tvalidation_1-logloss:0.31277\n",
      "[31]\tvalidation_0-logloss:0.14650\tvalidation_1-logloss:0.30882\n",
      "[32]\tvalidation_0-logloss:0.14102\tvalidation_1-logloss:0.30437\n",
      "[33]\tvalidation_0-logloss:0.13590\tvalidation_1-logloss:0.30103\n",
      "[34]\tvalidation_0-logloss:0.13109\tvalidation_1-logloss:0.29794\n",
      "[35]\tvalidation_0-logloss:0.12647\tvalidation_1-logloss:0.29499\n",
      "[36]\tvalidation_0-logloss:0.12197\tvalidation_1-logloss:0.29295\n",
      "[37]\tvalidation_0-logloss:0.11784\tvalidation_1-logloss:0.29043\n",
      "[38]\tvalidation_0-logloss:0.11379\tvalidation_1-logloss:0.28927\n",
      "[39]\tvalidation_0-logloss:0.10994\tvalidation_1-logloss:0.28578\n",
      "[40]\tvalidation_0-logloss:0.10638\tvalidation_1-logloss:0.28364\n",
      "[41]\tvalidation_0-logloss:0.10302\tvalidation_1-logloss:0.28183\n",
      "[42]\tvalidation_0-logloss:0.09963\tvalidation_1-logloss:0.28005\n",
      "[43]\tvalidation_0-logloss:0.09649\tvalidation_1-logloss:0.27972\n",
      "[44]\tvalidation_0-logloss:0.09359\tvalidation_1-logloss:0.27744\n",
      "[45]\tvalidation_0-logloss:0.09080\tvalidation_1-logloss:0.27542\n",
      "[46]\tvalidation_0-logloss:0.08807\tvalidation_1-logloss:0.27504\n",
      "[47]\tvalidation_0-logloss:0.08541\tvalidation_1-logloss:0.27458\n",
      "[48]\tvalidation_0-logloss:0.08299\tvalidation_1-logloss:0.27348\n",
      "[49]\tvalidation_0-logloss:0.08035\tvalidation_1-logloss:0.27247\n",
      "[50]\tvalidation_0-logloss:0.07786\tvalidation_1-logloss:0.27163\n",
      "[51]\tvalidation_0-logloss:0.07550\tvalidation_1-logloss:0.27094\n",
      "[52]\tvalidation_0-logloss:0.07344\tvalidation_1-logloss:0.26967\n",
      "[53]\tvalidation_0-logloss:0.07147\tvalidation_1-logloss:0.27008\n",
      "[54]\tvalidation_0-logloss:0.06964\tvalidation_1-logloss:0.26890\n",
      "[55]\tvalidation_0-logloss:0.06766\tvalidation_1-logloss:0.26854\n",
      "[56]\tvalidation_0-logloss:0.06592\tvalidation_1-logloss:0.26900\n",
      "[57]\tvalidation_0-logloss:0.06433\tvalidation_1-logloss:0.26790\n",
      "[58]\tvalidation_0-logloss:0.06259\tvalidation_1-logloss:0.26663\n",
      "[59]\tvalidation_0-logloss:0.06107\tvalidation_1-logloss:0.26743\n",
      "[60]\tvalidation_0-logloss:0.05957\tvalidation_1-logloss:0.26610\n",
      "[61]\tvalidation_0-logloss:0.05817\tvalidation_1-logloss:0.26644\n",
      "[62]\tvalidation_0-logloss:0.05691\tvalidation_1-logloss:0.26673\n",
      "[63]\tvalidation_0-logloss:0.05550\tvalidation_1-logloss:0.26550\n",
      "[64]\tvalidation_0-logloss:0.05422\tvalidation_1-logloss:0.26443\n",
      "[65]\tvalidation_0-logloss:0.05311\tvalidation_1-logloss:0.26500\n",
      "[66]\tvalidation_0-logloss:0.05207\tvalidation_1-logloss:0.26591\n",
      "[67]\tvalidation_0-logloss:0.05093\tvalidation_1-logloss:0.26501\n",
      "[68]\tvalidation_0-logloss:0.04976\tvalidation_1-logloss:0.26435\n",
      "[69]\tvalidation_0-logloss:0.04872\tvalidation_1-logloss:0.26360\n",
      "[70]\tvalidation_0-logloss:0.04776\tvalidation_1-logloss:0.26319\n",
      "[71]\tvalidation_0-logloss:0.04680\tvalidation_1-logloss:0.26255\n",
      "[72]\tvalidation_0-logloss:0.04580\tvalidation_1-logloss:0.26204\n",
      "[73]\tvalidation_0-logloss:0.04484\tvalidation_1-logloss:0.26254\n",
      "[74]\tvalidation_0-logloss:0.04388\tvalidation_1-logloss:0.26289\n",
      "[75]\tvalidation_0-logloss:0.04309\tvalidation_1-logloss:0.26249\n",
      "[76]\tvalidation_0-logloss:0.04224\tvalidation_1-logloss:0.26217\n",
      "[77]\tvalidation_0-logloss:0.04133\tvalidation_1-logloss:0.26166\n",
      "[78]\tvalidation_0-logloss:0.04050\tvalidation_1-logloss:0.26179\n",
      "[79]\tvalidation_0-logloss:0.03967\tvalidation_1-logloss:0.26103\n",
      "[80]\tvalidation_0-logloss:0.03877\tvalidation_1-logloss:0.26094\n",
      "[81]\tvalidation_0-logloss:0.03806\tvalidation_1-logloss:0.26148\n",
      "[82]\tvalidation_0-logloss:0.03740\tvalidation_1-logloss:0.26054\n",
      "[83]\tvalidation_0-logloss:0.03676\tvalidation_1-logloss:0.25967\n",
      "[84]\tvalidation_0-logloss:0.03605\tvalidation_1-logloss:0.25905\n",
      "[85]\tvalidation_0-logloss:0.03545\tvalidation_1-logloss:0.26007\n",
      "[86]\tvalidation_0-logloss:0.03488\tvalidation_1-logloss:0.25984\n",
      "[87]\tvalidation_0-logloss:0.03425\tvalidation_1-logloss:0.25933\n",
      "[88]\tvalidation_0-logloss:0.03361\tvalidation_1-logloss:0.25932\n",
      "[89]\tvalidation_0-logloss:0.03311\tvalidation_1-logloss:0.26002\n",
      "[90]\tvalidation_0-logloss:0.03260\tvalidation_1-logloss:0.25936\n",
      "[91]\tvalidation_0-logloss:0.03202\tvalidation_1-logloss:0.25886\n",
      "[92]\tvalidation_0-logloss:0.03152\tvalidation_1-logloss:0.25918\n",
      "[93]\tvalidation_0-logloss:0.03107\tvalidation_1-logloss:0.25865\n",
      "[94]\tvalidation_0-logloss:0.03049\tvalidation_1-logloss:0.25951\n",
      "[95]\tvalidation_0-logloss:0.03007\tvalidation_1-logloss:0.26091\n",
      "[96]\tvalidation_0-logloss:0.02963\tvalidation_1-logloss:0.26014\n",
      "[97]\tvalidation_0-logloss:0.02913\tvalidation_1-logloss:0.25974\n",
      "[98]\tvalidation_0-logloss:0.02866\tvalidation_1-logloss:0.25937\n",
      "[99]\tvalidation_0-logloss:0.02829\tvalidation_1-logloss:0.25893\n",
      "[100]\tvalidation_0-logloss:0.02789\tvalidation_1-logloss:0.25928\n",
      "[101]\tvalidation_0-logloss:0.02751\tvalidation_1-logloss:0.25955\n",
      "[102]\tvalidation_0-logloss:0.02714\tvalidation_1-logloss:0.25901\n",
      "[103]\tvalidation_0-logloss:0.02668\tvalidation_1-logloss:0.25991\n",
      "오차 행렬\n",
      "[[34  3]\n",
      " [ 3 74]]\n",
      "정확도: 0.9474, 정밀도: 0.9610, 재현율: 0.9610,    F1: 0.9610, AUC:0.9933\n"
     ]
    }
   ],
   "source": [
    "# early_stopping_rounds를 10으로 설정하고 재 학습. \n",
    "xgb_wrapper.fit(X_tr, y_tr, early_stopping_rounds=10, \n",
    "                eval_metric=\"logloss\", eval_set=evals,verbose=True)\n",
    "\n",
    "ws10_preds = xgb_wrapper.predict(X_test)\n",
    "ws10_pred_proba = xgb_wrapper.predict_proba(X_test)[:, 1]\n",
    "get_clf_eval(y_test , ws10_preds, ws10_pred_proba)"
   ]
  },
  {
   "cell_type": "markdown",
   "metadata": {},
   "source": [
    "#### 사이킷런 래퍼 클래스 -> Feature Importance 시각화"
   ]
  },
  {
   "cell_type": "code",
   "execution_count": 106,
   "metadata": {
    "ExecuteTime": {
     "end_time": "2022-05-14T15:51:21.884179Z",
     "start_time": "2022-05-14T15:51:21.700755Z"
    }
   },
   "outputs": [
    {
     "data": {
      "image/png": "[encoded data removed]",
      "text/plain": [
       "<Figure size 1008x1152 with 1 Axes>"
      ]
     },
     "metadata": {},
     "output_type": "display_data"
    }
   ],
   "source": [
    "from xgboost import plot_importance\n",
    "import matplotlib.pyplot as plt\n",
    "%matplotlib inline\n",
    "plt.style.use(\"ggplot\")\n",
    "fig, ax = plt.subplots(figsize=(14, 16)) # 그림그리는건 ax가 담당한다.\n",
    "ax.tick_params(labelsize=15)\n",
    "# 사이킷런 래퍼 클래스를 입력해도 무방. \n",
    "plot_importance(xgb_wrapper, ax=ax,height=0.5)\n",
    "plt.show()"
   ]
  }
 ],
 "metadata": {
  "kernelspec": {
   "display_name": "Python 3",
   "language": "python",
   "name": "python3"
  },
  "language_info": {
   "codemirror_mode": {
    "name": "ipython",
    "version": 3
   },
   "file_extension": ".py",
   "mimetype": "text/x-python",
   "name": "python",
   "nbconvert_exporter": "python",
   "pygments_lexer": "ipython3",
   "version": "3.8.12"
  },
  "toc": {
   "base_numbering": 1,
   "nav_menu": {},
   "number_sections": true,
   "sideBar": true,
   "skip_h1_title": false,
   "title_cell": "Table of Contents",
   "title_sidebar": "Contents",
   "toc_cell": false,
   "toc_position": {
    "height": "calc(100% - 180px)",
    "left": "10px",
    "top": "150px",
    "width": "554.557px"
   },
   "toc_section_display": true,
   "toc_window_display": true
  }
 },
 "nbformat": 4,
 "nbformat_minor": 2
}
