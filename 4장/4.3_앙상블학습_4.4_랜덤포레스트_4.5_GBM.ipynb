{
 "cells": [
  {
   "cell_type": "markdown",
   "metadata": {},
   "source": [
    "## 4.3 앙상블 학습 개요"
   ]
  },
  {
   "cell_type": "markdown",
   "metadata": {},
   "source": [
    "1. 앙상블 학습 : 여러개의 분류기(Classifier)를 생성하고 그 **예측들을 결합함으로써 보다 정확한 예측을 도출**하는 기법\n",
    "-> 넓은 의미로는 서로 다른 모델을 결합한 것들을 앙상블로 지칭하기도 한다.\n",
    "<br><br>\n",
    "2. 앙상블의 유형: **보팅, 배깅, 부스팅 그리고, 스태킹** 등의 기법이 존재\n",
    " 1) 대표적인 유형\n",
    "\n",
    "    대표적으로 배깅은 랜덤 포레스트,\n",
    "    부스팅은 에이다 부스팅, 그래디언트 부스팅, XGBoost, LightGBM 등이 있다.\n",
    "    * 데이터 분류나 회귀에서는 GBM부스팅 계열의 앙상블이 전반적으로 높은 예측 성능을 나타낸다.\n",
    "* 뛰어난 성능을 가진 모델들로만 구성하는것 보다, 성능이 떨어지더라도 서로 다른 유형의 모델을 섞는것이 오히려 좋을 수 있다.\n",
    "* 랜덤 포레스트 및 GBM 부스팅 알고리즘은 모두 결정 트리 알고리즘을 기반으로 한다.\n",
    "* 결정 트리의 단점인 과적합을 수십~수천개의 많은 분류기를 결합해 보완. 장점인 직관적 분류 기준은 강화."
   ]
  },
  {
   "cell_type": "markdown",
   "metadata": {},
   "source": [
    "<img src=\"https://blog.kakaocdn.net/dn/r2AwS/btrBQDoQ8rw/sJQsQFV7RtiCam243xQwt0/img.png\" width=\"1200\">"
   ]
  },
  {
   "cell_type": "markdown",
   "metadata": {},
   "source": [
    "### **보팅과 배깅의 차이점**\n",
    "\n",
    "- **보팅**은 서로 다른 알고리즘을 가진 분류기를 결합하는 것이고,\n",
    "- **배깅**은 같은 유형의 알고리즘을 가진 분류기에 대해 데이터 샘플링을 서로 다르게 하는 것이다.\n",
    "\n",
    "**참고**\n",
    "- **부스팅**은 여러개의 약한 학습기(weak learner)를 순차적으로 학습-예측하면서 **잘못 예측한 데이터나 학습 트리에 가중치 부여를 통해 오류를 개선**해 나가면서 학습하는 방식.\n",
    "- **스태킹**은 개별 알고리즘이 예측한 결과 -> 메타 데이터 세트 생성 -> 메타모델로 최종 학습 및 예측하는 방식.\n",
    "    - 스태킹 예시)\n",
    "```python\n",
    "# 개별 ML 모델 객체 생성 (기반모델)\n",
    "knn_clf = KNeighborsClassifier(n_neighbors=4)\n",
    "rf_clf = RandomForestClassifier(n_estimators=100, random_state=30)\n",
    "dt_clf = DecisionTreeClassifier()\n",
    "ada_clf = AdaBoostClassifier(n_estimators=100)\n",
    "# 메타모델(스태킹으로 만들어진 데이터 학습 및 예측)\n",
    "lr_final = LogisticRegression(C=10)\n",
    "```"
   ]
  },
  {
   "cell_type": "markdown",
   "metadata": {},
   "source": [
    "### 하드보팅과 소프트보팅"
   ]
  },
  {
   "cell_type": "markdown",
   "metadata": {},
   "source": [
    "<img src=\"https://blog.kakaocdn.net/dn/CKXdR/btrBT3TxdoA/WYKdgjidZlQ7DhEDwALTu0/img.png\" width=\"1200\">"
   ]
  },
  {
   "cell_type": "markdown",
   "metadata": {},
   "source": [
    "* 하드 보팅: 다수의 분류기의 결과에 대해 민주주의\n",
    "* 소프트 보팅: 다수의 분류기들의 결과 확률을 평균하여 결정"
   ]
  },
  {
   "cell_type": "markdown",
   "metadata": {},
   "source": [
    "### Voting Classifier - 예시\n",
    "- 위스콘신 유방암 데이터 로드"
   ]
  },
  {
   "cell_type": "code",
   "execution_count": 1,
   "metadata": {
    "ExecuteTime": {
     "end_time": "2022-05-10T17:59:37.459825Z",
     "start_time": "2022-05-10T17:59:36.810890Z"
    }
   },
   "outputs": [
    {
     "data": {
      "text/html": [
       "<div>\n",
       "<style scoped>\n",
       "    .dataframe tbody tr th:only-of-type {\n",
       "        vertical-align: middle;\n",
       "    }\n",
       "\n",
       "    .dataframe tbody tr th {\n",
       "        vertical-align: top;\n",
       "    }\n",
       "\n",
       "    .dataframe thead th {\n",
       "        text-align: right;\n",
       "    }\n",
       "</style>\n",
       "<table border=\"1\" class=\"dataframe\">\n",
       "  <thead>\n",
       "    <tr style=\"text-align: right;\">\n",
       "      <th></th>\n",
       "      <th>mean radius</th>\n",
       "      <th>mean texture</th>\n",
       "      <th>mean perimeter</th>\n",
       "      <th>mean area</th>\n",
       "      <th>mean smoothness</th>\n",
       "      <th>mean compactness</th>\n",
       "      <th>mean concavity</th>\n",
       "      <th>mean concave points</th>\n",
       "      <th>mean symmetry</th>\n",
       "      <th>mean fractal dimension</th>\n",
       "      <th>...</th>\n",
       "      <th>worst radius</th>\n",
       "      <th>worst texture</th>\n",
       "      <th>worst perimeter</th>\n",
       "      <th>worst area</th>\n",
       "      <th>worst smoothness</th>\n",
       "      <th>worst compactness</th>\n",
       "      <th>worst concavity</th>\n",
       "      <th>worst concave points</th>\n",
       "      <th>worst symmetry</th>\n",
       "      <th>worst fractal dimension</th>\n",
       "    </tr>\n",
       "  </thead>\n",
       "  <tbody>\n",
       "    <tr>\n",
       "      <th>0</th>\n",
       "      <td>17.99</td>\n",
       "      <td>10.38</td>\n",
       "      <td>122.8</td>\n",
       "      <td>1001.0</td>\n",
       "      <td>0.11840</td>\n",
       "      <td>0.27760</td>\n",
       "      <td>0.3001</td>\n",
       "      <td>0.14710</td>\n",
       "      <td>0.2419</td>\n",
       "      <td>0.07871</td>\n",
       "      <td>...</td>\n",
       "      <td>25.38</td>\n",
       "      <td>17.33</td>\n",
       "      <td>184.6</td>\n",
       "      <td>2019.0</td>\n",
       "      <td>0.1622</td>\n",
       "      <td>0.6656</td>\n",
       "      <td>0.7119</td>\n",
       "      <td>0.2654</td>\n",
       "      <td>0.4601</td>\n",
       "      <td>0.11890</td>\n",
       "    </tr>\n",
       "    <tr>\n",
       "      <th>1</th>\n",
       "      <td>20.57</td>\n",
       "      <td>17.77</td>\n",
       "      <td>132.9</td>\n",
       "      <td>1326.0</td>\n",
       "      <td>0.08474</td>\n",
       "      <td>0.07864</td>\n",
       "      <td>0.0869</td>\n",
       "      <td>0.07017</td>\n",
       "      <td>0.1812</td>\n",
       "      <td>0.05667</td>\n",
       "      <td>...</td>\n",
       "      <td>24.99</td>\n",
       "      <td>23.41</td>\n",
       "      <td>158.8</td>\n",
       "      <td>1956.0</td>\n",
       "      <td>0.1238</td>\n",
       "      <td>0.1866</td>\n",
       "      <td>0.2416</td>\n",
       "      <td>0.1860</td>\n",
       "      <td>0.2750</td>\n",
       "      <td>0.08902</td>\n",
       "    </tr>\n",
       "    <tr>\n",
       "      <th>2</th>\n",
       "      <td>19.69</td>\n",
       "      <td>21.25</td>\n",
       "      <td>130.0</td>\n",
       "      <td>1203.0</td>\n",
       "      <td>0.10960</td>\n",
       "      <td>0.15990</td>\n",
       "      <td>0.1974</td>\n",
       "      <td>0.12790</td>\n",
       "      <td>0.2069</td>\n",
       "      <td>0.05999</td>\n",
       "      <td>...</td>\n",
       "      <td>23.57</td>\n",
       "      <td>25.53</td>\n",
       "      <td>152.5</td>\n",
       "      <td>1709.0</td>\n",
       "      <td>0.1444</td>\n",
       "      <td>0.4245</td>\n",
       "      <td>0.4504</td>\n",
       "      <td>0.2430</td>\n",
       "      <td>0.3613</td>\n",
       "      <td>0.08758</td>\n",
       "    </tr>\n",
       "  </tbody>\n",
       "</table>\n",
       "<p>3 rows × 30 columns</p>\n",
       "</div>"
      ],
      "text/plain": [
       "   mean radius  mean texture  mean perimeter  mean area  mean smoothness  \\\n",
       "0        17.99         10.38           122.8     1001.0          0.11840   \n",
       "1        20.57         17.77           132.9     1326.0          0.08474   \n",
       "2        19.69         21.25           130.0     1203.0          0.10960   \n",
       "\n",
       "   mean compactness  mean concavity  mean concave points  mean symmetry  \\\n",
       "0           0.27760          0.3001              0.14710         0.2419   \n",
       "1           0.07864          0.0869              0.07017         0.1812   \n",
       "2           0.15990          0.1974              0.12790         0.2069   \n",
       "\n",
       "   mean fractal dimension  ...  worst radius  worst texture  worst perimeter  \\\n",
       "0                 0.07871  ...         25.38          17.33            184.6   \n",
       "1                 0.05667  ...         24.99          23.41            158.8   \n",
       "2                 0.05999  ...         23.57          25.53            152.5   \n",
       "\n",
       "   worst area  worst smoothness  worst compactness  worst concavity  \\\n",
       "0      2019.0            0.1622             0.6656           0.7119   \n",
       "1      1956.0            0.1238             0.1866           0.2416   \n",
       "2      1709.0            0.1444             0.4245           0.4504   \n",
       "\n",
       "   worst concave points  worst symmetry  worst fractal dimension  \n",
       "0                0.2654          0.4601                  0.11890  \n",
       "1                0.1860          0.2750                  0.08902  \n",
       "2                0.2430          0.3613                  0.08758  \n",
       "\n",
       "[3 rows x 30 columns]"
      ]
     },
     "execution_count": 1,
     "metadata": {},
     "output_type": "execute_result"
    }
   ],
   "source": [
    "import pandas as pd\n",
    "\n",
    "from sklearn.ensemble import VotingClassifier\n",
    "from sklearn.linear_model import LogisticRegression\n",
    "from sklearn.neighbors import KNeighborsClassifier\n",
    "from sklearn.datasets import load_breast_cancer\n",
    "from sklearn.model_selection import train_test_split\n",
    "from sklearn.metrics import accuracy_score\n",
    "import warnings \n",
    "warnings.filterwarnings('ignore')\n",
    "\n",
    "cancer = load_breast_cancer()\n",
    "\n",
    "data_df = pd.DataFrame(cancer.data, columns=cancer.feature_names)\n",
    "data_df.head(3)"
   ]
  },
  {
   "cell_type": "markdown",
   "metadata": {},
   "source": [
    "#### 로지스틱회귀와 KNN의 소프트보팅"
   ]
  },
  {
   "cell_type": "code",
   "execution_count": 16,
   "metadata": {
    "ExecuteTime": {
     "end_time": "2022-05-11T12:49:43.592324Z",
     "start_time": "2022-05-11T12:49:43.548388Z"
    }
   },
   "outputs": [
    {
     "name": "stdout",
     "output_type": "stream",
     "text": [
      "Voting 분류기의 정확도: 95.61%\n",
      "LogisticRegression의 정확도: 94.74%\n",
      "KNeighborsClassifier의 정확도: 93.86%\n"
     ]
    }
   ],
   "source": [
    "# 개별 모델은 로지스틱 회귀와 KNN 임.\n",
    "lr_clf = LogisticRegression(solver='liblinear')\n",
    "knn_clf = KNeighborsClassifier(n_neighbors=8)\n",
    "\n",
    "# 개별 모델을 소프트 보팅 기반의 앙상블 모델로 구현한 분류기\n",
    "vo_clf = VotingClassifier( estimators=[ ('LR',lr_clf), ('KNN',knn_clf) ], voting='soft') # 소프트보팅 사용 (default는 하드보팅)\n",
    "# data_df대신, cancer.data 써도 된다\n",
    "X_train, X_test, y_train, y_test = train_test_split(data_df, cancer.target, \n",
    "                test_size=0.2, random_state=156)\n",
    "# VotingClassifier 학습/예측/평가\n",
    "vo_clf.fit(X_train, y_train)\n",
    "pred = vo_clf.predict(X_test)\n",
    "print(f\"Voting 분류기의 정확도: {accuracy_score(y_test, pred):.2%}\")\n",
    "\n",
    "# 개별 모델의 학습/예측/평가\n",
    "clsfs = [lr_clf, knn_clf]\n",
    "for clsf in clsfs:\n",
    "    clsf.fit(X_train,y_train)\n",
    "    pred = clsf.predict(X_test)\n",
    "    clsf_name = clsf.__class__.__name__\n",
    "    print(f\"{clsf_name}의 정확도: {accuracy_score(y_test,pred):.2%}\")"
   ]
  },
  {
   "cell_type": "markdown",
   "metadata": {},
   "source": [
    "## 4.4 Random Forest"
   ]
  },
  {
   "cell_type": "markdown",
   "metadata": {
    "ExecuteTime": {
     "end_time": "2022-05-10T18:05:24.150074Z",
     "start_time": "2022-05-10T18:05:24.140700Z"
    }
   },
   "source": [
    "<img src=\"https://blog.kakaocdn.net/dn/UI4mz/btrBLUQUi85/4ZkFowKkm2rDabKMjkIrw0/img.png\" width=\"1200\">"
   ]
  },
  {
   "cell_type": "markdown",
   "metadata": {},
   "source": [
    "### Random Forest의 하이퍼 파라미터"
   ]
  },
  {
   "cell_type": "markdown",
   "metadata": {},
   "source": [
    "<img src=\"https://blog.kakaocdn.net/dn/ccsAkQ/btrBS0C9bny/wCEcsLRE7l5uKfBKmS88J1/img.png\" width=\"1200\">"
   ]
  },
  {
   "cell_type": "markdown",
   "metadata": {},
   "source": [
    "- 기본적으로 n_estimators와 max_features, max_depth, min_samples_leaf만 튜닝해줘도 어느정도 성능 올릴 수 있다. "
   ]
  },
  {
   "cell_type": "markdown",
   "metadata": {},
   "source": [
    "#### Random Forest의 Bootstraping 분할"
   ]
  },
  {
   "cell_type": "markdown",
   "metadata": {},
   "source": [
    "<img src=\"https://blog.kakaocdn.net/dn/HmGie/btrBR9t43hD/KJ6k1bNU4nY5UkCc6D9Sy0/img.png\" width=\"1200\">"
   ]
  },
  {
   "cell_type": "markdown",
   "metadata": {},
   "source": [
    "- 랜덤포레스트 부트스트래핑 분할 : 일부가 중첩되게 서브샘플링으로 나누는 것 - 나머지가 검증 데이터로 쓰임"
   ]
  },
  {
   "cell_type": "markdown",
   "metadata": {},
   "source": [
    "### Random Forest 이용한 human data"
   ]
  },
  {
   "cell_type": "code",
   "execution_count": 71,
   "metadata": {
    "ExecuteTime": {
     "end_time": "2022-05-15T06:23:35.707517Z",
     "start_time": "2022-05-15T06:23:35.691519Z"
    }
   },
   "outputs": [],
   "source": [
    "import pandas as pd\n",
    "# 중복된 피처이름 처리\n",
    "def get_new_feature_name_df(old_feature_name_df):\n",
    "    feature_dup_df = pd.DataFrame(data=old_feature_name_df.groupby('column_name').cumcount(),\n",
    "                                  columns=['dup_cnt'])\n",
    "    feature_dup_df = feature_dup_df.reset_index()\n",
    "    new_feature_name_df = pd.merge(old_feature_name_df.reset_index(), feature_dup_df, how='outer')\n",
    "    new_feature_name_df['column_name'] = new_feature_name_df[['column_name', 'dup_cnt']].apply(lambda x : x[0]+'_'+str(x[1]) \n",
    "                                                                                         if x[1] >0 else x[0] ,  axis=1)\n",
    "    new_feature_name_df = new_feature_name_df.drop(['index'], axis=1)\n",
    "    return new_feature_name_df\n",
    "\n",
    "#human 데이터셋 불러와서 피처중복 처리하고 Train, Test 데이터셋 나누기\n",
    "def get_human_dataset( ):\n",
    "    \n",
    "    # 각 데이터 파일들은 공백으로 분리되어 있으므로 read_csv에서 공백 문자를 sep으로 할당.\n",
    "    feature_name_df = pd.read_csv('./human_activity/features.txt',sep='\\s+',\n",
    "                        header=None,names=['column_index','column_name'])\n",
    "    \n",
    "    # 중복된 피처명을 수정하는 get_new_feature_name_df()를 이용, 신규 피처명 DataFrame생성. \n",
    "    new_feature_name_df = get_new_feature_name_df(feature_name_df)\n",
    "    \n",
    "    # DataFrame에 피처명을 컬럼으로 부여하기 위해 리스트 객체로 다시 변환\n",
    "    feature_name = new_feature_name_df.iloc[:, 1].values.tolist()\n",
    "    \n",
    "    # 학습 피처 데이터 셋과 테스트 피처 데이터을 DataFrame으로 로딩. 컬럼명은 feature_name 적용\n",
    "    X_train = pd.read_csv('./human_activity/train/X_train.txt',sep='\\s+', names=feature_name )\n",
    "    X_test = pd.read_csv('./human_activity/test/X_test.txt',sep='\\s+', names=feature_name)\n",
    "    \n",
    "    # 학습 레이블과 테스트 레이블 데이터을 DataFrame으로 로딩하고 컬럼명은 action으로 부여\n",
    "    y_train = pd.read_csv('./human_activity/train/y_train.txt',sep='\\s+',header=None,names=['action'])\n",
    "    y_test = pd.read_csv('./human_activity/test/y_test.txt',sep='\\s+',header=None,names=['action'])\n",
    "    \n",
    "    # 로드된 학습/테스트용 DataFrame을 모두 반환 \n",
    "    return X_train, X_test, y_train, y_test"
   ]
  },
  {
   "cell_type": "code",
   "execution_count": 72,
   "metadata": {
    "ExecuteTime": {
     "end_time": "2022-05-15T06:23:47.075609Z",
     "start_time": "2022-05-15T06:23:46.495337Z"
    }
   },
   "outputs": [],
   "source": [
    "from sklearn.ensemble import RandomForestClassifier\n",
    "from sklearn.metrics import accuracy_score\n",
    "import pandas as pd\n",
    "import warnings\n",
    "warnings.filterwarnings('ignore')\n",
    "\n",
    "# 결정 트리에서 사용한 get_human_dataset( )을 이용해 학습/테스트용 DataFrame 반환\n",
    "X_train, X_test, y_train, y_test = get_human_dataset()"
   ]
  },
  {
   "cell_type": "code",
   "execution_count": 76,
   "metadata": {
    "ExecuteTime": {
     "end_time": "2022-05-15T06:24:45.569311Z",
     "start_time": "2022-05-15T06:24:40.423008Z"
    }
   },
   "outputs": [
    {
     "name": "stdout",
     "output_type": "stream",
     "text": [
      "랜덤 포레스트 정확도: 91.96%\n"
     ]
    }
   ],
   "source": [
    "# 랜덤 포레스트 학습 및 별도의 테스트 셋으로 예측 성능 평가\n",
    "rf_clf = RandomForestClassifier(n_estimators=100, random_state=0, max_depth=8)\n",
    "rf_clf.fit(X_train, y_train)\n",
    "pred = rf_clf.predict(X_test)\n",
    "acc = accuracy_score(y_test,pred)\n",
    "print(f\"랜덤 포레스트 정확도: {acc:.2%}\")"
   ]
  },
  {
   "cell_type": "markdown",
   "metadata": {},
   "source": [
    "#### GridSearchCV를 통한 최적 하이퍼파라미터 찾기"
   ]
  },
  {
   "cell_type": "code",
   "execution_count": 60,
   "metadata": {
    "ExecuteTime": {
     "end_time": "2022-05-11T15:10:58.412495Z",
     "start_time": "2022-05-11T15:10:41.532026Z"
    }
   },
   "outputs": [
    {
     "name": "stdout",
     "output_type": "stream",
     "text": [
      "최적 하이퍼 파라미터:\n",
      "{'max_depth': 16, 'min_samples_leaf': 6, 'min_samples_split': 2, 'n_estimators': 100}\n",
      "최고 예측 정확도: 91.65%\n"
     ]
    }
   ],
   "source": [
    "from sklearn.model_selection import GridSearchCV\n",
    "params = {\n",
    "    'n_estimators' : [100, 110, 120],\n",
    "    'max_depth' : [8, 16],\n",
    "    'min_samples_leaf' : [1, 6], # leaf가 되기위해 필요한 최소한 샘플 개수\n",
    "    'min_samples_split' : [2, 8]\n",
    "}\n",
    "\n",
    "# RandomForestClassifier 객체 생성 후 GridSearchCV 수행\n",
    "rf_clf = RandomForestClassifier(n_estimators=100, random_state=0, n_jobs=-1)\n",
    "grid_cv = GridSearchCV(rf_clf, param_grid=params, cv=2, n_jobs=-1)\n",
    "grid_cv.fit(X_train, y_train)\n",
    "\n",
    "print(f\"최적 하이퍼 파라미터:\\n{grid_cv.best_params_}\")\n",
    "print(f\"최고 예측 정확도: {grid_cv.best_score_:.2%}\")"
   ]
  },
  {
   "cell_type": "code",
   "execution_count": 37,
   "metadata": {
    "ExecuteTime": {
     "end_time": "2022-05-11T13:41:58.760355Z",
     "start_time": "2022-05-11T13:41:58.716264Z"
    }
   },
   "outputs": [
    {
     "name": "stdout",
     "output_type": "stream",
     "text": [
      "RandomForestClassifier(max_depth=16, min_samples_leaf=6, n_jobs=-1,\n",
      "                       random_state=0)\n",
      "예측 정확도 : 92.60%\n"
     ]
    }
   ],
   "source": [
    "# n_estimators 100개 일때\n",
    "best_rf_clf = grid_cv.best_estimator_\n",
    "pred = best_rf_clf.predict(X_test)\n",
    "print(best_rf_clf)\n",
    "print(f\"예측 정확도 : {accuracy_score(y_test, pred):.2%}\")"
   ]
  },
  {
   "cell_type": "markdown",
   "metadata": {},
   "source": [
    "#### Feature Importance 그리기"
   ]
  },
  {
   "cell_type": "code",
   "execution_count": 42,
   "metadata": {
    "ExecuteTime": {
     "end_time": "2022-05-11T13:46:03.077788Z",
     "start_time": "2022-05-11T13:46:03.049772Z"
    }
   },
   "outputs": [
    {
     "data": {
      "text/plain": [
       "angle(X,gravityMean)    0.035312\n",
       "tGravityAcc-mean()-Y    0.033729\n",
       "tGravityAcc-min()-X     0.030276\n",
       "angle(Y,gravityMean)    0.029013\n",
       "tGravityAcc-max()-X     0.027538\n",
       "dtype: float64"
      ]
     },
     "execution_count": 42,
     "metadata": {},
     "output_type": "execute_result"
    }
   ],
   "source": [
    "# featrue importance 높은 것부터 5개 보기\n",
    "ftr_import = pd.Series(best_rf_clf.feature_importances_, index=X_train.columns)\n",
    "ftr_import.sort_values(ascending=False)[:5]"
   ]
  },
  {
   "cell_type": "code",
   "execution_count": 47,
   "metadata": {
    "ExecuteTime": {
     "end_time": "2022-05-11T13:48:17.996551Z",
     "start_time": "2022-05-11T13:48:17.853895Z"
    }
   },
   "outputs": [
    {
     "data": {
      "image/png": "[encoded data removed]",
      "text/plain": [
       "<Figure size 1008x720 with 1 Axes>"
      ]
     },
     "metadata": {
      "needs_background": "light"
     },
     "output_type": "display_data"
    }
   ],
   "source": [
    "import matplotlib.pyplot as plt\n",
    "import seaborn as sns\n",
    "%matplotlib inline\n",
    "# Feature importances 상위 20개\n",
    "ftr_tp20 = ftr_import.sort_values(ascending=False)[:20]\n",
    "\n",
    "plt.figure(figsize=(14,10))\n",
    "plt.title(\"Feature Importances Top 20\")\n",
    "sns.barplot(x=ftr_tp20.values, y=ftr_tp20.index)\n",
    "plt.show()"
   ]
  },
  {
   "cell_type": "markdown",
   "metadata": {},
   "source": [
    "## 부스팅\n",
    "- 부스팅 알고리즘은 여러개의 약한 학습기(weak learner)를 순차적으로 학습-예측하면서 잘못 예측한 데이터나 학습 트리에 가중치 부여를 통해 오류를 개선해 나가면서 학습하는 방식.\n",
    "- 부스팅의 대표적인 구현은 AdaBoost(Adaptive boosting)와 그래디언트 부스트가 있습니다."
   ]
  },
  {
   "cell_type": "markdown",
   "metadata": {},
   "source": [
    "### 에이다 부스팅의 학습/예측 프로세스\n",
    "- 분류하고, 남은 애들에게 가중치 주고 또 분류하고 반복"
   ]
  },
  {
   "cell_type": "markdown",
   "metadata": {
    "ExecuteTime": {
     "end_time": "2022-05-15T04:30:26.804336Z",
     "start_time": "2022-05-15T04:30:26.787826Z"
    }
   },
   "source": [
    "<img src=\"https://blog.kakaocdn.net/dn/ck4ZeB/btrB67v2SCF/NLMbiFW1Bqy7sWj9ZmaE6K/img.png\" width=1200>"
   ]
  },
  {
   "cell_type": "markdown",
   "metadata": {},
   "source": [
    "### 4.5 GBM(Gradient Boosting Machine)\n",
    "- GBM은 에이다부스트와 유사하지만, **가중치 업데이트를 경사 하강법(Gradient Descent)를 이용한 것이 큰 차이**"
   ]
  },
  {
   "cell_type": "markdown",
   "metadata": {},
   "source": [
    "<img src=\"https://blog.kakaocdn.net/dn/u8g1q/btrCbopQi8G/nqrKSTemdNkXdHo1K9Z9Ak/img.png\" width=1200>"
   ]
  },
  {
   "cell_type": "markdown",
   "metadata": {},
   "source": [
    "#### GBM 주요 하이퍼 파라미터"
   ]
  },
  {
   "cell_type": "markdown",
   "metadata": {},
   "source": [
    "<img src=https://blog.kakaocdn.net/dn/bSp60O/btrCcEFYr1V/TfeLSFKIxRQI0KPssZamak/img.png width=1200>"
   ]
  },
  {
   "cell_type": "code",
   "execution_count": 48,
   "metadata": {
    "ExecuteTime": {
     "end_time": "2022-05-11T14:54:54.424583Z",
     "start_time": "2022-05-11T14:47:04.922843Z"
    }
   },
   "outputs": [
    {
     "name": "stdout",
     "output_type": "stream",
     "text": [
      "GBM 정확도: 0.9386\n",
      "GBM 수행 시간: 469.0 초 \n"
     ]
    }
   ],
   "source": [
    "from sklearn.ensemble import GradientBoostingClassifier\n",
    "import time\n",
    "import warnings\n",
    "warnings.filterwarnings('ignore')\n",
    "\n",
    "X_train, X_test, y_train, y_test = get_human_dataset()\n",
    "\n",
    "# GBM 수행시간 측정을 위함. 시작 시간 설정.\n",
    "start = time.time()\n",
    "\n",
    "gb_clf = GradientBoostingClassifier(random_state=0)\n",
    "gb_clf.fit(X_train, y_train)\n",
    "gb_pred = gb_clf.predict(X_test)\n",
    "acc = accuracy_score(y_test, gb_pred)\n",
    "\n",
    "print(f\"GBM 정확도: {acc:.2%}\")\n",
    "print(f\"GBM 수행 시간: {time.time() - start:.1f}초\")"
   ]
  },
  {
   "cell_type": "code",
   "execution_count": 69,
   "metadata": {
    "ExecuteTime": {
     "end_time": "2022-05-12T23:49:46.375264Z",
     "start_time": "2022-05-12T17:11:07.435137Z"
    }
   },
   "outputs": [
    {
     "name": "stdout",
     "output_type": "stream",
     "text": [
      "Fitting 2 folds for each of 4 candidates, totalling 8 fits\n",
      "최적 하이퍼 파라미터:\n",
      "{'learning_rate': 0.05, 'n_estimators': 500}\n",
      "학습데이터 최고 예측 정확도: 0.9001632208922742\n",
      "GBM 정확도: 93.96%\n"
     ]
    }
   ],
   "source": [
    "### 아래는 GridSearchCV로 GBM의 하이퍼 파라미터 튜닝 수행 예제\n",
    "## 사이킷런 1.X 업데이트되면서 속도가 매우 오래걸림, 아래 예제는 약 1시간 20분정도 걸림\n",
    "\n",
    "from sklearn.model_selection import GridSearchCV\n",
    "\n",
    "params = {\n",
    "    'n_estimators': [100,500],\n",
    "    'learning_rate': [0.05, 0.1]\n",
    "}\n",
    "gb_clf = GradientBoostingClassifier(random_state=0)\n",
    "g_cv = GridSearchCV(gb_clf, param_grid=params, cv=2, verbose=1)\n",
    "g_cv.fit(X_train, y_train)\n",
    "print(f\"최적 하이퍼 파라미터:\\n{g_cv.best_params_}\")\n",
    "print(f\"학습데이터 최고 예측 정확도: {g_cv.best_score_}\")\n",
    "gb_pred = g_cv.best_estimator_.predict(X_test)\n",
    "gb_acc = accuracy_score(y_test, gb_pred)\n",
    "print(f\"GBM 정확도: {gb_acc:.2%}\")"
   ]
  }
 ],
 "metadata": {
  "kernelspec": {
   "display_name": "Python 3",
   "language": "python",
   "name": "python3"
  },
  "language_info": {
   "codemirror_mode": {
    "name": "ipython",
    "version": 3
   },
   "file_extension": ".py",
   "mimetype": "text/x-python",
   "name": "python",
   "nbconvert_exporter": "python",
   "pygments_lexer": "ipython3",
   "version": "3.8.12"
  },
  "toc": {
   "base_numbering": 1,
   "nav_menu": {},
   "number_sections": true,
   "sideBar": true,
   "skip_h1_title": false,
   "title_cell": "Table of Contents",
   "title_sidebar": "Contents",
   "toc_cell": false,
   "toc_position": {
    "height": "calc(100% - 180px)",
    "left": "10px",
    "top": "150px",
    "width": "443.547px"
   },
   "toc_section_display": true,
   "toc_window_display": true
  }
 },
 "nbformat": 4,
 "nbformat_minor": 2
}
