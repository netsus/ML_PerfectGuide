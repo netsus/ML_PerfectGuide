{
 "cells": [
  {
   "cell_type": "markdown",
   "metadata": {},
   "source": [
    "## GMM"
   ]
  },
  {
   "cell_type": "markdown",
   "metadata": {},
   "source": [
    "### K-Means의 문제점\n",
    ": 오른쪽 그래프를 보면 빨간 동그라미처럼 군집화 해야 하는 경우로, 중심점으로 부터 거리기반인 K-Means로는 군집화 어렵다.<br>\n",
    "<img src=https://blog.kakaocdn.net/dn/3chpW/btrFEZHJa2k/L0THxMN8NPoKbLpO5hVIM1/img.png width=1000>"
   ]
  },
  {
   "cell_type": "markdown",
   "metadata": {},
   "source": [
    "### GMM 개요\n",
    ": GMM 군집화는 데이터가 여러개의 다른 가우시안 분포를 가지는 모델이라고 가정하고 군집화 수행<br>\n",
    "\n",
    "<img src=https://blog.kakaocdn.net/dn/bDlZSN/btrFFPxwwMc/kLllpGmxIRgwWuEaBCLWu1/img.png width=1000>"
   ]
  },
  {
   "cell_type": "markdown",
   "metadata": {},
   "source": [
    "즉, 군집화하려는 데이터 분포가 평균과 표준편차가 다른 여러 정규분포로 결합된 분포로 가정.<br>\n",
    "-> 이런 개별 정규분포들을 찾아야 한다.<br>\n",
    "> -> 이런 개별 정규분포들을 찾으려면 GMM 모수 추정을 해야한다.<br>\n",
    "\n",
    "<img src=https://blog.kakaocdn.net/dn/PN6vb/btrFGAfzb6z/mTNHTDFf0qKbWPN9rC2XHK/img.png width=1000>"
   ]
  },
  {
   "cell_type": "markdown",
   "metadata": {},
   "source": [
    "### GMM 모수 추정\n",
    ": 개별 정규 분포들의 평균과 분산, 그리고 데이터가 특정 정규 분포에 해당 될 확률을 추정하는 것.<br>\n",
    "<img src=https://blog.kakaocdn.net/dn/2LlAn/btrFGlW8R3x/qBGddkEYWlJkeKRIgUTeB0/img.png width=1000>"
   ]
  },
  {
   "cell_type": "markdown",
   "metadata": {},
   "source": [
    "### EM 방식\n",
    ": 개별 정규분포의 평균과 분산이 더이상 변경되지 않을 떄 까지, E와 M을 반복 수행\n",
    "<br>\n",
    "1. Expectation: 개별 데이터 각각에 대해 특정 정규 분포에 소속될 확률을 구하고, 가장 높은 확률을 가진 정규 분포에 소속을 시키는 것.\n",
    "2. Maximization: 위에서 데이터가 이동하였으니, 각 정규 분포별로 평균과 분산을 다시 계산.\n",
    "-> 데이터들의 정규 분포 소속이 더 이상 변경되지 않을 때 까지, E와 M을 계속 반복\n",
    "<br>\n",
    "<img src=https://blog.kakaocdn.net/dn/l5XAY/btrFEWLdjeQ/rIwEZ9xx4JSoPDZ5EDLVP0/img.png width=1000>"
   ]
  },
  {
   "cell_type": "markdown",
   "metadata": {},
   "source": [
    "## GMM 을 이용한 붓꽃 데이터 셋 클러스터링"
   ]
  },
  {
   "cell_type": "markdown",
   "metadata": {},
   "source": [
    "### 사이킷런 GMM 개요\n",
    "<img src=https://blog.kakaocdn.net/dn/dTPECB/btrFFhVJKH9/fF5JUitZrC7KPh9oIdAF00/img.png width=1000>"
   ]
  },
  {
   "cell_type": "code",
   "execution_count": 3,
   "metadata": {
    "ExecuteTime": {
     "end_time": "2022-06-24T08:37:46.217701Z",
     "start_time": "2022-06-24T08:37:46.188948Z"
    }
   },
   "outputs": [
    {
     "data": {
      "text/html": [
       "<div>\n",
       "<style scoped>\n",
       "    .dataframe tbody tr th:only-of-type {\n",
       "        vertical-align: middle;\n",
       "    }\n",
       "\n",
       "    .dataframe tbody tr th {\n",
       "        vertical-align: top;\n",
       "    }\n",
       "\n",
       "    .dataframe thead th {\n",
       "        text-align: right;\n",
       "    }\n",
       "</style>\n",
       "<table border=\"1\" class=\"dataframe\">\n",
       "  <thead>\n",
       "    <tr style=\"text-align: right;\">\n",
       "      <th></th>\n",
       "      <th>sepal_length</th>\n",
       "      <th>sepal_width</th>\n",
       "      <th>petal_length</th>\n",
       "      <th>petal_width</th>\n",
       "      <th>target</th>\n",
       "    </tr>\n",
       "  </thead>\n",
       "  <tbody>\n",
       "    <tr>\n",
       "      <th>0</th>\n",
       "      <td>5.1</td>\n",
       "      <td>3.5</td>\n",
       "      <td>1.4</td>\n",
       "      <td>0.2</td>\n",
       "      <td>0</td>\n",
       "    </tr>\n",
       "    <tr>\n",
       "      <th>1</th>\n",
       "      <td>4.9</td>\n",
       "      <td>3.0</td>\n",
       "      <td>1.4</td>\n",
       "      <td>0.2</td>\n",
       "      <td>0</td>\n",
       "    </tr>\n",
       "    <tr>\n",
       "      <th>2</th>\n",
       "      <td>4.7</td>\n",
       "      <td>3.2</td>\n",
       "      <td>1.3</td>\n",
       "      <td>0.2</td>\n",
       "      <td>0</td>\n",
       "    </tr>\n",
       "  </tbody>\n",
       "</table>\n",
       "</div>"
      ],
      "text/plain": [
       "   sepal_length  sepal_width  petal_length  petal_width  target\n",
       "0           5.1          3.5           1.4          0.2       0\n",
       "1           4.9          3.0           1.4          0.2       0\n",
       "2           4.7          3.2           1.3          0.2       0"
      ]
     },
     "execution_count": 3,
     "metadata": {},
     "output_type": "execute_result"
    }
   ],
   "source": [
    "from sklearn.datasets import load_iris\n",
    "from sklearn.cluster import KMeans\n",
    "\n",
    "import matplotlib.pyplot as plt\n",
    "import numpy as np\n",
    "import pandas as pd\n",
    "%matplotlib inline\n",
    "\n",
    "iris = load_iris()\n",
    "feature_names = ['sepal_length','sepal_width','petal_length','petal_width']\n",
    "\n",
    "# 보다 편리한 데이타 Handling을 위해 DataFrame으로 변환\n",
    "irisDF = pd.DataFrame(data=iris.data, columns=feature_names)\n",
    "irisDF['target'] = iris.target\n",
    "irisDF.head(3)"
   ]
  },
  {
   "cell_type": "markdown",
   "metadata": {},
   "source": [
    "### **GaussianMixture를 이용하여 붓꽃 데이터 군집화**"
   ]
  },
  {
   "cell_type": "code",
   "execution_count": 4,
   "metadata": {
    "ExecuteTime": {
     "end_time": "2022-06-24T08:40:34.185383Z",
     "start_time": "2022-06-24T08:40:34.158595Z"
    }
   },
   "outputs": [
    {
     "name": "stdout",
     "output_type": "stream",
     "text": [
      "target  gmm_cluster\n",
      "0       0              50\n",
      "1       2              45\n",
      "        1               5\n",
      "2       1              50\n",
      "Name: gmm_cluster, dtype: int64\n"
     ]
    }
   ],
   "source": [
    "from sklearn.mixture import GaussianMixture\n",
    "\n",
    "gmm = GaussianMixture(n_components=3, random_state=0).fit(iris.data)\n",
    "gmm_cluster_labels = gmm.predict(iris.data)\n",
    "\n",
    "# 클러스터링 결과를 irisDF 의 'gmm_cluster' 컬럼명으로 저장\n",
    "irisDF['gmm_cluster'] = gmm_cluster_labels\n",
    "\n",
    "\n",
    "# target 값에 따라서 gmm_cluster 값이 어떻게 매핑되었는지 확인. \n",
    "iris_result = irisDF.groupby(['target'])['gmm_cluster'].value_counts()\n",
    "print(iris_result)"
   ]
  },
  {
   "cell_type": "markdown",
   "metadata": {},
   "source": [
    "### **붓꽃 데이터 K-Means 군집화 결과와 비교**"
   ]
  },
  {
   "cell_type": "code",
   "execution_count": 6,
   "metadata": {
    "ExecuteTime": {
     "end_time": "2022-06-24T08:42:00.923908Z",
     "start_time": "2022-06-24T08:42:00.888497Z"
    }
   },
   "outputs": [
    {
     "name": "stdout",
     "output_type": "stream",
     "text": [
      "target: ['setosa' 'versicolor' 'virginica']\n",
      "target  kmeans_cluster\n",
      "0       1                 50\n",
      "1       0                 48\n",
      "        2                  2\n",
      "2       2                 36\n",
      "        0                 14\n",
      "Name: kmeans_cluster, dtype: int64\n"
     ]
    }
   ],
   "source": [
    "kmeans = KMeans(n_clusters=3, init='k-means++', max_iter=300,random_state=0).fit(iris.data)\n",
    "kmeans_cluster_labels = kmeans.predict(iris.data)\n",
    "irisDF['kmeans_cluster'] = kmeans_cluster_labels\n",
    "iris_result = irisDF.groupby(['target'])['kmeans_cluster'].value_counts()\n",
    "print(f\"target: {iris.target_names}\")\n",
    "print(iris_result)"
   ]
  },
  {
   "cell_type": "markdown",
   "metadata": {},
   "source": [
    "### **클러스터링 결과를 시각화하는 함수 생성**"
   ]
  },
  {
   "cell_type": "code",
   "execution_count": 23,
   "metadata": {
    "ExecuteTime": {
     "end_time": "2022-06-24T09:01:18.773781Z",
     "start_time": "2022-06-24T09:01:18.759027Z"
    }
   },
   "outputs": [],
   "source": [
    "### 클러스터 결과를 담은 DataFrame과 사이킷런의 Cluster 객체등을 인자로 받아 클러스터링 결과를 시각화하는 함수  \n",
    "def visualize_cluster_plot(clusterobj, dataframe, label_name, iscenter=True):\n",
    "    if iscenter :\n",
    "        centers = clusterobj.cluster_centers_\n",
    "        \n",
    "    unique_labels = np.unique(dataframe[label_name].values)\n",
    "    markers=['o', 's', '^', 'x', '*']\n",
    "    isNoise=False\n",
    "\n",
    "    for label in unique_labels:\n",
    "        label_cluster = dataframe[dataframe[label_name]==label]\n",
    "        if label == -1:\n",
    "            cluster_legend = 'Noise'\n",
    "            isNoise=True\n",
    "        else :\n",
    "            cluster_legend = 'Cluster '+str(label)\n",
    "        \n",
    "        plt.scatter(x=label_cluster['ftr1'], y=label_cluster['ftr2'], s=70,\\\n",
    "                    edgecolor='k', marker=markers[label], label=cluster_legend)\n",
    "        \n",
    "        if iscenter:\n",
    "            center_x_y = centers[label]\n",
    "            plt.scatter(x=center_x_y[0], y=center_x_y[1], s=700, color='white',\n",
    "                        alpha=0.9, edgecolor='k', marker=markers[label])\n",
    "            plt.scatter(x=center_x_y[0], y=center_x_y[1], s=70, color='k',\\\n",
    "                        edgecolor='k', marker='$%d$' % label)\n",
    "    if isNoise:\n",
    "        legend_loc='upper center'\n",
    "    else: legend_loc='upper right'\n",
    "    \n",
    "    plt.legend(loc=legend_loc)\n",
    "    plt.show()"
   ]
  },
  {
   "cell_type": "markdown",
   "metadata": {},
   "source": [
    "### 타원형 임의 데이터셋 생성\n",
    "**GMM군집화와 K-Means군집화를 비교하기 위해 타원형으로 늘어선 임의의 데이터 세트를 생성**"
   ]
  },
  {
   "cell_type": "code",
   "execution_count": 18,
   "metadata": {
    "ExecuteTime": {
     "end_time": "2022-06-24T09:01:05.566446Z",
     "start_time": "2022-06-24T09:01:05.555186Z"
    }
   },
   "outputs": [],
   "source": [
    "from sklearn.datasets import make_blobs\n",
    "\n",
    "# make_blobs() 로 300개의 데이터 셋, 3개의 cluster 셋, cluster_std=0.5 을 만듬. \n",
    "X, y = make_blobs(n_samples=300, n_features=2, centers=3, cluster_std=0.5, random_state=0)\n",
    "\n",
    "# 길게 늘어난 타원형의 데이터 셋을 생성하기 위해 변환함. \n",
    "transformation = [[0.60834549, -0.63667341], [-0.40887718, 0.85253229]]\n",
    "X_aniso = np.dot(X, transformation)\n",
    "# feature 데이터 셋과 make_blobs( ) 의 y 결과 값을 DataFrame으로 저장\n",
    "clusterDF = pd.DataFrame(data=X_aniso, columns=['ftr1', 'ftr2'])\n",
    "clusterDF['target'] = y"
   ]
  },
  {
   "cell_type": "code",
   "execution_count": 19,
   "metadata": {
    "ExecuteTime": {
     "end_time": "2022-06-24T09:01:05.943633Z",
     "start_time": "2022-06-24T09:01:05.935035Z"
    }
   },
   "outputs": [],
   "source": [
    "## 그래프 스타일 설정\n",
    "plt.rcParams['xtick.color'] = 'white';plt.rcParams['xtick.labelsize']=15\n",
    "plt.rcParams['ytick.color'] = 'white';plt.rcParams['ytick.labelsize']=15\n",
    "plt.rcParams['axes.labelcolor'] = 'white';plt.rcParams['axes.labelsize']= 17\n",
    "plt.rcParams['axes.titlecolor']= 'white';plt.rcParams['axes.titlesize']= 20\n",
    "plt.rcParams['figure.figsize'] = (10,6)"
   ]
  },
  {
   "cell_type": "code",
   "execution_count": 20,
   "metadata": {
    "ExecuteTime": {
     "end_time": "2022-06-24T09:01:06.313881Z",
     "start_time": "2022-06-24T09:01:06.301392Z"
    }
   },
   "outputs": [
    {
     "data": {
      "text/html": [
       "<div>\n",
       "<style scoped>\n",
       "    .dataframe tbody tr th:only-of-type {\n",
       "        vertical-align: middle;\n",
       "    }\n",
       "\n",
       "    .dataframe tbody tr th {\n",
       "        vertical-align: top;\n",
       "    }\n",
       "\n",
       "    .dataframe thead th {\n",
       "        text-align: right;\n",
       "    }\n",
       "</style>\n",
       "<table border=\"1\" class=\"dataframe\">\n",
       "  <thead>\n",
       "    <tr style=\"text-align: right;\">\n",
       "      <th></th>\n",
       "      <th>ftr1</th>\n",
       "      <th>ftr2</th>\n",
       "      <th>target</th>\n",
       "    </tr>\n",
       "  </thead>\n",
       "  <tbody>\n",
       "    <tr>\n",
       "      <th>0</th>\n",
       "      <td>-1.671828</td>\n",
       "      <td>3.814284</td>\n",
       "      <td>0</td>\n",
       "    </tr>\n",
       "    <tr>\n",
       "      <th>1</th>\n",
       "      <td>0.945385</td>\n",
       "      <td>-0.901944</td>\n",
       "      <td>1</td>\n",
       "    </tr>\n",
       "    <tr>\n",
       "      <th>2</th>\n",
       "      <td>-0.959199</td>\n",
       "      <td>2.857152</td>\n",
       "      <td>0</td>\n",
       "    </tr>\n",
       "  </tbody>\n",
       "</table>\n",
       "</div>"
      ],
      "text/plain": [
       "       ftr1      ftr2  target\n",
       "0 -1.671828  3.814284       0\n",
       "1  0.945385 -0.901944       1\n",
       "2 -0.959199  2.857152       0"
      ]
     },
     "execution_count": 20,
     "metadata": {},
     "output_type": "execute_result"
    }
   ],
   "source": [
    "clusterDF.head(3)"
   ]
  },
  {
   "cell_type": "code",
   "execution_count": 21,
   "metadata": {
    "ExecuteTime": {
     "end_time": "2022-06-24T09:01:06.830616Z",
     "start_time": "2022-06-24T09:01:06.743547Z"
    }
   },
   "outputs": [
    {
     "data": {
      "image/png": "[encoded data removed]",
      "text/plain": [
       "<Figure size 720x432 with 1 Axes>"
      ]
     },
     "metadata": {
      "needs_background": "dark"
     },
     "output_type": "display_data"
    }
   ],
   "source": [
    "# 생성된 데이터 셋을 target 별로 다른 marker 로 표시하여 시각화 함. \n",
    "# clusterDF를 타겟별로 시각화\n",
    "visualize_cluster_plot(None, clusterDF, 'target', iscenter=False)"
   ]
  },
  {
   "cell_type": "markdown",
   "metadata": {},
   "source": [
    "### **K-Means 군집화 수행**"
   ]
  },
  {
   "cell_type": "code",
   "execution_count": 24,
   "metadata": {
    "ExecuteTime": {
     "end_time": "2022-06-24T09:01:22.228384Z",
     "start_time": "2022-06-24T09:01:22.114448Z"
    }
   },
   "outputs": [
    {
     "data": {
      "image/png": "[encoded data removed]",
      "text/plain": [
       "<Figure size 720x432 with 1 Axes>"
      ]
     },
     "metadata": {
      "needs_background": "dark"
     },
     "output_type": "display_data"
    }
   ],
   "source": [
    "# 3개의 Cluster 기반 Kmeans 를 X_aniso 데이터 셋에 적용 \n",
    "kmeans = KMeans(3, random_state=0)\n",
    "kmeans_label = kmeans.fit_predict(X_aniso)\n",
    "clusterDF['kmeans_label'] = kmeans_label\n",
    "\n",
    "visualize_cluster_plot(kmeans, clusterDF, 'kmeans_label', iscenter=True)"
   ]
  },
  {
   "cell_type": "markdown",
   "metadata": {},
   "source": [
    "### **GMM 군집화 수행**"
   ]
  },
  {
   "cell_type": "code",
   "execution_count": 25,
   "metadata": {
    "ExecuteTime": {
     "end_time": "2022-06-24T09:02:10.282784Z",
     "start_time": "2022-06-24T09:02:10.195316Z"
    }
   },
   "outputs": [
    {
     "data": {
      "image/png": "[encoded data removed]",
      "text/plain": [
       "<Figure size 720x432 with 1 Axes>"
      ]
     },
     "metadata": {
      "needs_background": "dark"
     },
     "output_type": "display_data"
    }
   ],
   "source": [
    "# 3개의 n_components기반 GMM을 X_aniso 데이터 셋에 적용 \n",
    "gmm = GaussianMixture(n_components=3, random_state=0)\n",
    "gmm_label = gmm.fit(X_aniso).predict(X_aniso)\n",
    "clusterDF['gmm_label'] = gmm_label\n",
    "\n",
    "# GaussianMixture는 cluster_centers_ 속성이 없으므로 iscenter를 False로 설정. \n",
    "visualize_cluster_plot(gmm, clusterDF, 'gmm_label',iscenter=False)\n",
    "# K-Means와 달리 파란색, 초록색, 주황색이 잘 군집화된 것을 확인할 수 있다."
   ]
  },
  {
   "cell_type": "markdown",
   "metadata": {},
   "source": [
    "**GMM과 K-Means 군집화 결과 비교**"
   ]
  },
  {
   "cell_type": "code",
   "execution_count": 26,
   "metadata": {
    "ExecuteTime": {
     "end_time": "2022-06-24T09:06:54.230228Z",
     "start_time": "2022-06-24T09:06:54.216484Z"
    }
   },
   "outputs": [
    {
     "data": {
      "text/html": [
       "<div>\n",
       "<style scoped>\n",
       "    .dataframe tbody tr th:only-of-type {\n",
       "        vertical-align: middle;\n",
       "    }\n",
       "\n",
       "    .dataframe tbody tr th {\n",
       "        vertical-align: top;\n",
       "    }\n",
       "\n",
       "    .dataframe thead th {\n",
       "        text-align: right;\n",
       "    }\n",
       "</style>\n",
       "<table border=\"1\" class=\"dataframe\">\n",
       "  <thead>\n",
       "    <tr style=\"text-align: right;\">\n",
       "      <th></th>\n",
       "      <th>ftr1</th>\n",
       "      <th>ftr2</th>\n",
       "      <th>target</th>\n",
       "      <th>kmeans_label</th>\n",
       "      <th>gmm_label</th>\n",
       "    </tr>\n",
       "  </thead>\n",
       "  <tbody>\n",
       "    <tr>\n",
       "      <th>0</th>\n",
       "      <td>-1.671828</td>\n",
       "      <td>3.814284</td>\n",
       "      <td>0</td>\n",
       "      <td>0</td>\n",
       "      <td>2</td>\n",
       "    </tr>\n",
       "    <tr>\n",
       "      <th>1</th>\n",
       "      <td>0.945385</td>\n",
       "      <td>-0.901944</td>\n",
       "      <td>1</td>\n",
       "      <td>1</td>\n",
       "      <td>1</td>\n",
       "    </tr>\n",
       "    <tr>\n",
       "      <th>2</th>\n",
       "      <td>-0.959199</td>\n",
       "      <td>2.857152</td>\n",
       "      <td>0</td>\n",
       "      <td>2</td>\n",
       "      <td>2</td>\n",
       "    </tr>\n",
       "  </tbody>\n",
       "</table>\n",
       "</div>"
      ],
      "text/plain": [
       "       ftr1      ftr2  target  kmeans_label  gmm_label\n",
       "0 -1.671828  3.814284       0             0          2\n",
       "1  0.945385 -0.901944       1             1          1\n",
       "2 -0.959199  2.857152       0             2          2"
      ]
     },
     "execution_count": 26,
     "metadata": {},
     "output_type": "execute_result"
    }
   ],
   "source": [
    "clusterDF.head(3)"
   ]
  },
  {
   "cell_type": "code",
   "execution_count": 10,
   "metadata": {},
   "outputs": [
    {
     "name": "stdout",
     "output_type": "stream",
     "text": [
      "### KMeans Clustering ###\n",
      "target  kmeans_label\n",
      "0       2                73\n",
      "        0                27\n",
      "1       1               100\n",
      "2       0                86\n",
      "        2                14\n",
      "Name: kmeans_label, dtype: int64\n",
      "\n",
      "### Gaussian Mixture Clustering ###\n",
      "target  gmm_label\n",
      "0       2            100\n",
      "1       1            100\n",
      "2       0            100\n",
      "Name: gmm_label, dtype: int64\n"
     ]
    }
   ],
   "source": [
    "print('### KMeans Clustering ###')\n",
    "print(clusterDF.groupby('target')['kmeans_label'].value_counts())\n",
    "print('\\n### Gaussian Mixture Clustering ###')\n",
    "print(clusterDF.groupby('target')['gmm_label'].value_counts())\n",
    "# 타겟별로 kmeans 결과와 GMM 결과에 대해 value_counts()출력"
   ]
  }
 ],
 "metadata": {
  "kernelspec": {
   "display_name": "Python 3",
   "language": "python",
   "name": "python3"
  },
  "language_info": {
   "codemirror_mode": {
    "name": "ipython",
    "version": 3
   },
   "file_extension": ".py",
   "mimetype": "text/x-python",
   "name": "python",
   "nbconvert_exporter": "python",
   "pygments_lexer": "ipython3",
   "version": "3.8.12"
  },
  "toc": {
   "base_numbering": 1,
   "nav_menu": {},
   "number_sections": true,
   "sideBar": true,
   "skip_h1_title": false,
   "title_cell": "Table of Contents",
   "title_sidebar": "Contents",
   "toc_cell": false,
   "toc_position": {},
   "toc_section_display": true,
   "toc_window_display": true
  }
 },
 "nbformat": 4,
 "nbformat_minor": 2
}
