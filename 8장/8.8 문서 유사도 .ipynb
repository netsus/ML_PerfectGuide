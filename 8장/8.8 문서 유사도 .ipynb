{
 "cells": [
  {
   "cell_type": "markdown",
   "metadata": {},
   "source": [
    "## 문서 유사도\n",
    ": 특정 문서가 다른 문서와 유사도 또는 얼마나 다른지 등을 측정하는걸 통틀어 말한다<br>\n",
    "-> Cosine Similarity, Jaccard Similarity를 많이 쓴다.<br>\n",
    "<br><img src=https://blog.kakaocdn.net/dn/bxjWi1/btrF9g1X0nh/4nmQAf96mMWmJa5JZdZemK/img.png width=1000>"
   ]
  },
  {
   "cell_type": "markdown",
   "metadata": {},
   "source": [
    "### 코사인 유사도\n",
    "두 벡터간의 각도를 통해 유사도를 측정<br>\n",
    "-> 서로 0도이면 유사해서 Cos(0)=1, 서로 90도이면 관련 없어서 Cos(90)=0, 서로 180도이면 반대관계 Cos(180)=-1<br>\n",
    "<br><img src=https://blog.kakaocdn.net/dn/mZusN/btrF4GBiLGp/78oQUDLnwin7VaFhFvg330/img.png width=1000>"
   ]
  },
  {
   "cell_type": "markdown",
   "metadata": {},
   "source": [
    "D0와 D2가 '머신러닝', '부스팅' 2개 모두 값을 갖기 때문에 방향성이 더 맞고,<br>\n",
    "cos값이 1에 가깝기 때문에 더 유사하다. (크기가 유사한건 D0과 D1이지만 방향성이 더 중요!)<br>\n",
    "<br><img src=https://blog.kakaocdn.net/dn/FTqOZ/btrF7ecKiad/PZBpLYhUhtOJzuke7K8dKK/img.png width=1000>"
   ]
  },
  {
   "cell_type": "markdown",
   "metadata": {},
   "source": [
    "### 사이킷런 cosine_similarity()\n",
    "각 행에 대해 n개 단어(피처)차원의 벡터끼리 Cos값을 구해 표로 생성 -> 대칭 행렬<br>\n",
    "<br><img src=https://blog.kakaocdn.net/dn/clRb3H/btrF4u8U5dP/ILJsr8gZaLiWXoOLrYedV0/img.png width=1000>"
   ]
  },
  {
   "cell_type": "markdown",
   "metadata": {},
   "source": [
    "## 문서 유사도 측정 실습 – 코사인 유사도"
   ]
  },
  {
   "cell_type": "markdown",
   "metadata": {},
   "source": [
    "### **코사인 유사도 반환 함수 생성**"
   ]
  },
  {
   "cell_type": "code",
   "execution_count": 6,
   "metadata": {
    "ExecuteTime": {
     "end_time": "2022-06-30T05:04:13.854178Z",
     "start_time": "2022-06-30T05:04:13.845944Z"
    }
   },
   "outputs": [],
   "source": [
    "import numpy as np\n",
    "\n",
    "# v1과 v2 벡터의 Cosine 값을 리턴(-1 ~ 1 사이 float)\n",
    "def cos_similarity(v1, v2):\n",
    "    dot_product = np.dot(v1, v2) # v1, v2 내적\n",
    "    l2_norm = (np.sqrt(sum(np.square(v1))) * np.sqrt(sum(np.square(v2)))) # (v1 제곱의 합 -> 루트) 곱하기 (v2 제곱의 합 -> 루트)\n",
    "    similarity = dot_product / l2_norm     \n",
    "    \n",
    "    return similarity"
   ]
  },
  {
   "cell_type": "markdown",
   "metadata": {},
   "source": [
    "### **TF-IDF 벡터화 후 코사인 유사도 비교**"
   ]
  },
  {
   "cell_type": "code",
   "execution_count": 7,
   "metadata": {
    "ExecuteTime": {
     "end_time": "2022-06-30T05:04:14.255550Z",
     "start_time": "2022-06-30T05:04:14.248513Z"
    }
   },
   "outputs": [
    {
     "name": "stdout",
     "output_type": "stream",
     "text": [
      "3개 문장에 대해 tfidf 벡터화 결과 18개 피처(단어) 생성됨: (3, 18)\n"
     ]
    }
   ],
   "source": [
    "from sklearn.feature_extraction.text import TfidfVectorizer\n",
    "\n",
    "# 3개 문장 - 코사인 유사도 비교\n",
    "doc_list = ['if you take the blue pill, the story ends' , # 파란약 - 끝\n",
    "            'if you take the red pill, you stay in Wonderland', # 빨간약 - 새로운 세상\n",
    "            'if you take the red pill, I show you how deep the rabbit hole goes'] # 빨간약 - 수렁\n",
    "\n",
    "tfidf_vect_simple = TfidfVectorizer()\n",
    "feature_vect_simple = tfidf_vect_simple.fit_transform(doc_list)\n",
    "print(f\"3개 문장에 대해 tfidf 벡터화 결과 18개 피처(단어) 생성됨: {feature_vect_simple.shape}\")"
   ]
  },
  {
   "cell_type": "code",
   "execution_count": 8,
   "metadata": {
    "ExecuteTime": {
     "end_time": "2022-06-30T05:04:14.645864Z",
     "start_time": "2022-06-30T05:04:14.632949Z"
    }
   },
   "outputs": [
    {
     "name": "stdout",
     "output_type": "stream",
     "text": [
      "<class 'scipy.sparse.csr.csr_matrix'>\n",
      "[[0.4155636  0.         0.4155636  0.         0.         0.\n",
      "  0.24543856 0.         0.24543856 0.         0.         0.\n",
      "  0.         0.4155636  0.24543856 0.49087711 0.         0.24543856]\n",
      " [0.         0.         0.         0.         0.         0.\n",
      "  0.23402865 0.39624495 0.23402865 0.         0.3013545  0.\n",
      "  0.39624495 0.         0.23402865 0.23402865 0.39624495 0.4680573 ]\n",
      " [0.         0.30985601 0.         0.30985601 0.30985601 0.30985601\n",
      "  0.18300595 0.         0.18300595 0.30985601 0.23565348 0.30985601\n",
      "  0.         0.         0.18300595 0.3660119  0.         0.3660119 ]]\n"
     ]
    }
   ],
   "source": [
    "# feature_vect_simple는 sparse 매트릭스라 -> csr matrix 타입 \n",
    "print(type(feature_vect_simple))\n",
    "# -> todense()를 이용해 행렬로 바꿔야 한다.\n",
    "print(feature_vect_simple.todense()) # (3, 18)"
   ]
  },
  {
   "cell_type": "code",
   "execution_count": 13,
   "metadata": {
    "ExecuteTime": {
     "end_time": "2022-06-30T05:05:08.091645Z",
     "start_time": "2022-06-30T05:05:08.086946Z"
    }
   },
   "outputs": [],
   "source": [
    "# TFidfVectorizer로 transform()한 결과는 Sparse Matrix이므로 Dense Matrix로 변환. \n",
    "feature_vect_dense = feature_vect_simple.todense()"
   ]
  },
  {
   "cell_type": "code",
   "execution_count": 14,
   "metadata": {
    "ExecuteTime": {
     "end_time": "2022-06-30T05:05:19.977730Z",
     "start_time": "2022-06-30T05:05:19.968690Z"
    }
   },
   "outputs": [
    {
     "name": "stdout",
     "output_type": "stream",
     "text": [
      "(1, 18)\n",
      "(18,)\n"
     ]
    }
   ],
   "source": [
    "print(np.array(feature_vect_dense[0]).shape) # reshape 해서 1차원 만들기\n",
    "print(np.array(feature_vect_dense[0]).reshape(-1,).shape)"
   ]
  },
  {
   "cell_type": "code",
   "execution_count": 15,
   "metadata": {
    "ExecuteTime": {
     "end_time": "2022-06-30T05:05:36.546085Z",
     "start_time": "2022-06-30T05:05:36.537981Z"
    }
   },
   "outputs": [
    {
     "name": "stdout",
     "output_type": "stream",
     "text": [
      "문장 1 - 문장 2 Cosine 유사도: 0.402\n"
     ]
    }
   ],
   "source": [
    "#첫번째 문장과 두번째 문장의 feature vector  추출\n",
    "vect1 = np.array(feature_vect_dense[0]).reshape(-1,) # 첫번째 문장 -> reshape 해서 1차원 만들기\n",
    "vect2 = np.array(feature_vect_dense[1]).reshape(-1,) # 두번째 문장\n",
    "\n",
    "#첫번째 문장과 두번째 문장의 feature vector로 두개 문장의 Cosine 유사도 추출\n",
    "similarity_simple = cos_similarity(vect1, vect2)\n",
    "print('문장 1 - 문장 2 Cosine 유사도: {0:.3f}'.format(similarity_simple))"
   ]
  },
  {
   "cell_type": "code",
   "execution_count": 10,
   "metadata": {
    "ExecuteTime": {
     "end_time": "2022-06-30T05:04:24.190757Z",
     "start_time": "2022-06-30T05:04:24.179398Z"
    }
   },
   "outputs": [
    {
     "name": "stdout",
     "output_type": "stream",
     "text": [
      "문장 1 - 문장 3 Cosine 유사도: 0.404\n",
      "문장 2 - 문장 3 Cosine 유사도: 0.456\n"
     ]
    }
   ],
   "source": [
    "vect1 = np.array(feature_vect_dense[0]).reshape(-1,)\n",
    "vect3 = np.array(feature_vect_dense[2]).reshape(-1,)\n",
    "similarity_simple = cos_similarity(vect1, vect3 )\n",
    "print('문장 1 - 문장 3 Cosine 유사도: {0:.3f}'.format(similarity_simple))\n",
    "\n",
    "vect2 = np.array(feature_vect_dense[1]).reshape(-1,)\n",
    "vect3 = np.array(feature_vect_dense[2]).reshape(-1,)\n",
    "similarity_simple = cos_similarity(vect2, vect3 )\n",
    "print('문장 2 - 문장 3 Cosine 유사도: {0:.3f}'.format(similarity_simple))"
   ]
  },
  {
   "cell_type": "markdown",
   "metadata": {},
   "source": [
    "### 사이킷런 cosine_similarity\n",
    "**사이킷런의 cosine_similarity()함수를 이용하여 비교**"
   ]
  },
  {
   "cell_type": "code",
   "execution_count": 18,
   "metadata": {
    "ExecuteTime": {
     "end_time": "2022-06-30T05:09:23.613512Z",
     "start_time": "2022-06-30T05:09:23.605051Z"
    }
   },
   "outputs": [
    {
     "name": "stdout",
     "output_type": "stream",
     "text": [
      "<class 'scipy.sparse.csr.csr_matrix'> <class 'scipy.sparse.csr.csr_matrix'>\n",
      "\n",
      "문장1과 문장1,2,3 비교한 결과\n",
      "[[1.         0.40207758 0.40425045]]\n"
     ]
    }
   ],
   "source": [
    "from sklearn.metrics.pairwise import cosine_similarity\n",
    "\n",
    "# cosine_similarity는 워낙 sparse 매트릭스가 많이 쓰이기 때문에, np.array 아니고 csr_matrix 넣어도 된다.\n",
    "print(type(feature_vect_simple[0]), type(feature_vect_simple))\n",
    "# 문장1을 전체 문장(문장1~3)과 비교\n",
    "similarity_simple_pair = cosine_similarity(feature_vect_simple[0] , feature_vect_simple)\n",
    "print(f\"\\n문장1과 문장1,2,3 비교한 결과\\n{similarity_simple_pair}\")"
   ]
  },
  {
   "cell_type": "code",
   "execution_count": 19,
   "metadata": {
    "ExecuteTime": {
     "end_time": "2022-06-30T05:10:26.196559Z",
     "start_time": "2022-06-30T05:10:26.188530Z"
    }
   },
   "outputs": [
    {
     "name": "stdout",
     "output_type": "stream",
     "text": [
      "[[0.40207758 0.40425045]]\n"
     ]
    }
   ],
   "source": [
    "from sklearn.metrics.pairwise import cosine_similarity\n",
    "\n",
    "# 비교 대상에서 0을 제외( [1:] )함으로써 자기자신과 비교하는것 제외\n",
    "similarity_simple_pair = cosine_similarity(feature_vect_simple[0] , feature_vect_simple[1:])\n",
    "print(similarity_simple_pair)"
   ]
  },
  {
   "cell_type": "code",
   "execution_count": 21,
   "metadata": {
    "ExecuteTime": {
     "end_time": "2022-06-30T05:10:33.824144Z",
     "start_time": "2022-06-30T05:10:33.814315Z"
    }
   },
   "outputs": [
    {
     "name": "stdout",
     "output_type": "stream",
     "text": [
      "[[1.         0.40207758 0.40425045]\n",
      " [0.40207758 1.         0.45647296]\n",
      " [0.40425045 0.45647296 1.        ]]\n",
      "\n",
      "shape: (3, 3)\n"
     ]
    }
   ],
   "source": [
    "similarity_simple_pair = cosine_similarity(feature_vect_simple , feature_vect_simple)\n",
    "print(similarity_simple_pair)\n",
    "print('\\nshape:',similarity_simple_pair.shape)"
   ]
  },
  {
   "cell_type": "markdown",
   "metadata": {},
   "source": [
    "## Opinion Review 데이터 셋 -문서 유사도 측정"
   ]
  },
  {
   "cell_type": "markdown",
   "metadata": {},
   "source": [
    "### 데이터 로드 및 LemNormalize 함수 정의"
   ]
  },
  {
   "cell_type": "code",
   "execution_count": 25,
   "metadata": {
    "ExecuteTime": {
     "end_time": "2022-07-02T10:48:18.789365Z",
     "start_time": "2022-07-02T10:48:18.779502Z"
    }
   },
   "outputs": [],
   "source": [
    "from nltk.stem import WordNetLemmatizer\n",
    "import nltk\n",
    "import string\n",
    "import warnings\n",
    "warnings.filterwarnings('ignore')\n",
    "\n",
    "remove_punct_dict = dict((ord(punct), None) for punct in string.punctuation)\n",
    "lemmar = WordNetLemmatizer()\n",
    "\n",
    "def LemTokens(tokens):\n",
    "    return [lemmar.lemmatize(token) for token in tokens]\n",
    "\n",
    "def LemNormalize(text):\n",
    "    return LemTokens(nltk.word_tokenize(text.lower().translate(remove_punct_dict)))"
   ]
  },
  {
   "cell_type": "code",
   "execution_count": 30,
   "metadata": {
    "ExecuteTime": {
     "end_time": "2022-07-02T10:53:52.340117Z",
     "start_time": "2022-07-02T10:53:51.201714Z"
    }
   },
   "outputs": [],
   "source": [
    "import pandas as pd\n",
    "import glob ,os\n",
    "from sklearn.feature_extraction.text import TfidfVectorizer\n",
    "from sklearn.cluster import KMeans\n",
    "\n",
    "# 디렉토리 설정\n",
    "path = '../data/OpinosisDataset1.0/topics'\n",
    "all_files = glob.glob(os.path.join(path, \"*.data\"))     \n",
    "filename_list = []\n",
    "opinion_text = []\n",
    "\n",
    "for file_ in sorted(all_files):\n",
    "    df = pd.read_table(file_,index_col=None, header=0,encoding='latin1')\n",
    "    filename_ = file_.split('/')[-1]\n",
    "    filename = filename_.split('.')[0]\n",
    "    filename_list.append(filename)\n",
    "    opinion_text.append(df.to_string())\n",
    "\n",
    "document_df = pd.DataFrame({'filename':filename_list, 'opinion_text':opinion_text})\n",
    "\n",
    "tfidf_vect = TfidfVectorizer(tokenizer=LemNormalize, stop_words='english' , \\\n",
    "                             ngram_range=(1,2), min_df=0.05, max_df=0.85 )\n",
    "feature_vect = tfidf_vect.fit_transform(document_df['opinion_text'])\n",
    "\n",
    "# 3개의 클러스터로 \n",
    "km_cluster = KMeans(n_clusters=3, max_iter=10000, random_state=0)\n",
    "km_cluster.fit(feature_vect)\n",
    "cluster_label = km_cluster.labels_\n",
    "cluster_centers = km_cluster.cluster_centers_\n",
    "document_df['cluster_label'] = cluster_label"
   ]
  },
  {
   "cell_type": "code",
   "execution_count": 31,
   "metadata": {
    "ExecuteTime": {
     "end_time": "2022-07-02T10:53:52.345139Z",
     "start_time": "2022-07-02T10:53:52.341255Z"
    }
   },
   "outputs": [
    {
     "data": {
      "text/html": [
       "<div>\n",
       "<style scoped>\n",
       "    .dataframe tbody tr th:only-of-type {\n",
       "        vertical-align: middle;\n",
       "    }\n",
       "\n",
       "    .dataframe tbody tr th {\n",
       "        vertical-align: top;\n",
       "    }\n",
       "\n",
       "    .dataframe thead th {\n",
       "        text-align: right;\n",
       "    }\n",
       "</style>\n",
       "<table border=\"1\" class=\"dataframe\">\n",
       "  <thead>\n",
       "    <tr style=\"text-align: right;\">\n",
       "      <th></th>\n",
       "      <th>filename</th>\n",
       "      <th>opinion_text</th>\n",
       "      <th>cluster_label</th>\n",
       "    </tr>\n",
       "  </thead>\n",
       "  <tbody>\n",
       "    <tr>\n",
       "      <th>0</th>\n",
       "      <td>accuracy_garmin_nuvi_255W_gps</td>\n",
       "      <td>...</td>\n",
       "      <td>0</td>\n",
       "    </tr>\n",
       "    <tr>\n",
       "      <th>1</th>\n",
       "      <td>bathroom_bestwestern_hotel_sfo</td>\n",
       "      <td>...</td>\n",
       "      <td>2</td>\n",
       "    </tr>\n",
       "    <tr>\n",
       "      <th>2</th>\n",
       "      <td>battery-life_amazon_kindle</td>\n",
       "      <td>...</td>\n",
       "      <td>0</td>\n",
       "    </tr>\n",
       "    <tr>\n",
       "      <th>3</th>\n",
       "      <td>battery-life_ipod_nano_8gb</td>\n",
       "      <td>...</td>\n",
       "      <td>0</td>\n",
       "    </tr>\n",
       "    <tr>\n",
       "      <th>4</th>\n",
       "      <td>battery-life_netbook_1005ha</td>\n",
       "      <td>...</td>\n",
       "      <td>0</td>\n",
       "    </tr>\n",
       "  </tbody>\n",
       "</table>\n",
       "</div>"
      ],
      "text/plain": [
       "                         filename  \\\n",
       "0   accuracy_garmin_nuvi_255W_gps   \n",
       "1  bathroom_bestwestern_hotel_sfo   \n",
       "2      battery-life_amazon_kindle   \n",
       "3      battery-life_ipod_nano_8gb   \n",
       "4     battery-life_netbook_1005ha   \n",
       "\n",
       "                                        opinion_text  cluster_label  \n",
       "0                                                ...              0  \n",
       "1                                                ...              2  \n",
       "2                                                ...              0  \n",
       "3                                                ...              0  \n",
       "4                                                ...              0  "
      ]
     },
     "execution_count": 31,
     "metadata": {},
     "output_type": "execute_result"
    }
   ],
   "source": [
    "document_df.head()"
   ]
  },
  {
   "cell_type": "code",
   "execution_count": 33,
   "metadata": {
    "ExecuteTime": {
     "end_time": "2022-07-02T10:55:44.725744Z",
     "start_time": "2022-07-02T10:55:44.713088Z"
    }
   },
   "outputs": [
    {
     "data": {
      "text/plain": [
       "(Int64Index([1, 13, 14, 15, 20, 21, 24, 28, 30, 31, 32, 38, 39, 40, 45, 46], dtype='int64'),\n",
       " (16,))"
      ]
     },
     "execution_count": 33,
     "metadata": {},
     "output_type": "execute_result"
    }
   ],
   "source": [
    "hotel_indexex = document_df[document_df['cluster_label']==2].index\n",
    "hotel_indexex, hotel_indexex.shape # 16개"
   ]
  },
  {
   "cell_type": "markdown",
   "metadata": {},
   "source": [
    "### 호텔(cluster 2) 데이터 확인\n",
    "**호텔로 클러스터링 된 문서(cluster_label 2번)중에서 비슷한 문서를 추출**"
   ]
  },
  {
   "cell_type": "code",
   "execution_count": 42,
   "metadata": {
    "ExecuteTime": {
     "end_time": "2022-07-02T11:50:49.749303Z",
     "start_time": "2022-07-02T11:50:49.739223Z"
    }
   },
   "outputs": [
    {
     "name": "stdout",
     "output_type": "stream",
     "text": [
      "호텔로 클러스터링 된 문서들의 DataFrame Index\n",
      "Int64Index([1, 13, 14, 15, 20, 21, 24, 28, 30, 31, 32, 38, 39, 40, 45, 46], dtype='int64')\n"
     ]
    }
   ],
   "source": [
    "from sklearn.metrics.pairwise import cosine_similarity\n",
    "\n",
    "# cluster_label=2인 데이터는 호텔로 클러스터링된 데이터임. DataFrame에서 해당 Index를 추출\n",
    "hotel_indexes = document_df[document_df['cluster_label']==2].index\n",
    "print(f'호텔로 클러스터링 된 문서들의 DataFrame Index\\n{hotel_indexes}') # 16개"
   ]
  },
  {
   "cell_type": "code",
   "execution_count": 48,
   "metadata": {
    "ExecuteTime": {
     "end_time": "2022-07-02T12:48:40.702241Z",
     "start_time": "2022-07-02T12:48:40.688362Z"
    }
   },
   "outputs": [
    {
     "name": "stdout",
     "output_type": "stream",
     "text": [
      "##### 비교 기준 첫번째 문서: bathroom_bestwestern_hotel_sfo\n",
      "호텔로 클러스터링 된 문서들중, 첫번째 문서와 나머지 문서 cosine 유사도\n",
      "[[1.         0.0430688  0.05221059 0.06189595 0.05846178 0.06193118\n",
      "  0.03638665 0.11742762 0.51442299 0.38038865 0.32619948 0.11282857\n",
      "  0.13989623 0.1386783  0.09518068 0.07049362]]\n"
     ]
    }
   ],
   "source": [
    "# 호텔로 클러스터링된 데이터 중 첫번째 문서를 추출하여 파일명 표시.  \n",
    "comparison_docname = document_df.iloc[hotel_indexes[0]]['filename']\n",
    "print('##### 비교 기준 첫번째 문서:',comparison_docname)\n",
    "\n",
    "# 호텔 클러스터링된 feature_vect 추출 \n",
    "# -> 호텔로 클러스터링된 문서 중 첫번째 문서와 다른 문서간의 코사인 유사도 측정.\n",
    "similarity_pair = cosine_similarity(feature_vect[hotel_indexes[0]] , feature_vect[hotel_indexes])\n",
    "print(f\"호텔로 클러스터링 된 문서들중, 첫번째 문서와 나머지 문서 cosine 유사도\\n{similarity_pair}\")"
   ]
  },
  {
   "cell_type": "markdown",
   "metadata": {},
   "source": [
    "### 호텔 - 첫번째 문서와, 나머지 문서 비교\n",
    "1) 호텔클러스터의 인덱스 추출 -> hotel_indexes<br>\n",
    "2) 첫 번째 문서와 Cos 유사도 구해서 내림 차순 -> sorted_index<br>\n",
    "3) sorted_index를 hotel_indexes에 적용하여 Cos 유사도 내림차순으로 문서 인덱스 정렬 -> hotel_sorted_indexex"
   ]
  },
  {
   "cell_type": "code",
   "execution_count": 50,
   "metadata": {
    "ExecuteTime": {
     "end_time": "2022-07-02T12:49:54.066920Z",
     "start_time": "2022-07-02T12:49:54.058109Z"
    }
   },
   "outputs": [
    {
     "data": {
      "text/plain": [
       "array([[ 0,  8,  9, 10, 12, 13,  7, 11, 14, 15,  5,  3,  4,  2,  1,  6]])"
      ]
     },
     "execution_count": 50,
     "metadata": {},
     "output_type": "execute_result"
    }
   ],
   "source": [
    "similarity_pair.argsort()[:,::-1]"
   ]
  },
  {
   "cell_type": "code",
   "execution_count": 54,
   "metadata": {
    "ExecuteTime": {
     "end_time": "2022-07-02T12:53:02.792981Z",
     "start_time": "2022-07-02T12:53:02.776930Z"
    }
   },
   "outputs": [
    {
     "name": "stdout",
     "output_type": "stream",
     "text": [
      "sorted_index: [ 8  9 10 12 13  7 11 14 15  5  3  4  2  1  6]\n",
      "hotel_indexes: Int64Index([1, 13, 14, 15, 20, 21, 24, 28, 30, 31, 32, 38, 39, 40, 45, 46], dtype='int64')\n",
      "\n",
      "hotel_indexes에서 sorted_index순으로 정렬하면 유사도 내림차순으로 hotel_indexes를 정렬\n",
      "hotel_sorted_indexes:Int64Index([30, 31, 32, 39, 40, 28, 38, 45, 46, 21, 15, 20, 14, 13, 24], dtype='int64')\n"
     ]
    }
   ],
   "source": [
    "import sys\n",
    "sys.path.append('../modules/')\n",
    "from modules.graph import graph_style\n",
    "import seaborn as sns\n",
    "import numpy as np\n",
    "import matplotlib.pyplot as plt\n",
    "%matplotlib inline\n",
    "graph_style()\n",
    "\n",
    "# argsort()를 이용하여 앞예제의 첫번째 문서와 타 문서간 유사도가 큰 순으로 정렬한 인덱스 반환하되 자기 자신은 제외. \n",
    "sorted_index = similarity_pair.argsort()[:,::-1] # hotel_indexes 기준 유사도 내림차순으로\n",
    "sorted_index = sorted_index[:, 1:] # 자기자신 제외\n",
    "print(f\"sorted_index: {sorted_index.reshape(-1,)}\")\n",
    "\n",
    "# 유사도가 큰 순으로 hotel_indexes를 추출하여 재 정렬. \n",
    "print(f\"hotel_indexes: {hotel_indexes}\") # hotel_indexes에서 유사도 내림차순으로 \n",
    "hotel_sorted_indexes = hotel_indexes[sorted_index.reshape(-1,)]\n",
    "print(f\"\\nhotel_indexes에서 sorted_index순으로 정렬하면 유사도 내림차순으로 hotel_indexes를 정렬\\nhotel_sorted_indexes:{hotel_sorted_indexes}\")"
   ]
  },
  {
   "cell_type": "code",
   "execution_count": 55,
   "metadata": {
    "ExecuteTime": {
     "end_time": "2022-07-02T12:53:19.773282Z",
     "start_time": "2022-07-02T12:53:19.657686Z"
    }
   },
   "outputs": [
    {
     "data": {
      "image/png": "[encoded data removed]",
      "text/plain": [
       "<Figure size 720x432 with 1 Axes>"
      ]
     },
     "metadata": {
      "needs_background": "dark"
     },
     "output_type": "display_data"
    }
   ],
   "source": [
    "# 유사도가 큰 순으로 유사도 값을 재정렬하되 자기 자신은 제외\n",
    "hotel_1_sim_value = np.sort(similarity_pair.reshape(-1,))[::-1]\n",
    "hotel_1_sim_value = hotel_1_sim_value[1:]\n",
    "\n",
    "# hotel_sorted_indexes를 이용해\n",
    "# 파일명과 유사도값을 Seaborn 막대 그래프로 시각화\n",
    "hotel_1_sim_df = pd.DataFrame()\n",
    "hotel_1_sim_df['filename'] = document_df.iloc[hotel_sorted_indexes]['filename']\n",
    "hotel_1_sim_df['similarity'] = hotel_1_sim_value\n",
    "\n",
    "sns.barplot(x='similarity', y='filename', data=hotel_1_sim_df)\n",
    "plt.title(comparison_docname)\n",
    "plt.show()"
   ]
  }
 ],
 "metadata": {
  "kernelspec": {
   "display_name": "Python 3",
   "language": "python",
   "name": "python3"
  },
  "language_info": {
   "codemirror_mode": {
    "name": "ipython",
    "version": 3
   },
   "file_extension": ".py",
   "mimetype": "text/x-python",
   "name": "python",
   "nbconvert_exporter": "python",
   "pygments_lexer": "ipython3",
   "version": "3.8.12"
  },
  "toc": {
   "base_numbering": 1,
   "nav_menu": {},
   "number_sections": true,
   "sideBar": true,
   "skip_h1_title": false,
   "title_cell": "Table of Contents",
   "title_sidebar": "Contents",
   "toc_cell": false,
   "toc_position": {},
   "toc_section_display": true,
   "toc_window_display": true
  }
 },
 "nbformat": 4,
 "nbformat_minor": 2
}
