{
 "cells": [
  {
   "cell_type": "markdown",
   "metadata": {},
   "source": [
    "## 문서 군집화 개요\n",
    "문서 군집화는 비슷한 텍스트 구성의 문서를 군집화 하는 것. (**비지도 학습**)<br>\n",
    "> 문서를 피처 벡터화 -> 군집화 알고리즘 적용(일반적으로 K-Means)<br>\n",
    "\n",
    "<img src=https://blog.kakaocdn.net/dn/bHUXuA/btrF5HZxDAW/tvlOjgYhkIq5UKmnYauDQk/img.png width=1000>"
   ]
  },
  {
   "cell_type": "markdown",
   "metadata": {},
   "source": [
    "## Opinion Review 데이터 세트 문서 군집화\n",
    "uci 데이터 다운로드 링크\n",
    "https://archive.ics.uci.edu/ml/datasets/Opinosis+Opinion+%26frasl%3B+Review"
   ]
  },
  {
   "cell_type": "markdown",
   "metadata": {},
   "source": [
    "### 데이터 로드"
   ]
  },
  {
   "cell_type": "code",
   "execution_count": 93,
   "metadata": {
    "ExecuteTime": {
     "end_time": "2022-06-29T14:56:01.289866Z",
     "start_time": "2022-06-29T14:56:01.197541Z"
    }
   },
   "outputs": [
    {
     "data": {
      "text/html": [
       "<div>\n",
       "<style scoped>\n",
       "    .dataframe tbody tr th:only-of-type {\n",
       "        vertical-align: middle;\n",
       "    }\n",
       "\n",
       "    .dataframe tbody tr th {\n",
       "        vertical-align: top;\n",
       "    }\n",
       "\n",
       "    .dataframe thead th {\n",
       "        text-align: right;\n",
       "    }\n",
       "</style>\n",
       "<table border=\"1\" class=\"dataframe\">\n",
       "  <thead>\n",
       "    <tr style=\"text-align: right;\">\n",
       "      <th></th>\n",
       "      <th>filename</th>\n",
       "      <th>opinion_text</th>\n",
       "    </tr>\n",
       "  </thead>\n",
       "  <tbody>\n",
       "    <tr>\n",
       "      <th>0</th>\n",
       "      <td>accuracy_garmin_nuvi_255W_gps</td>\n",
       "      <td>...</td>\n",
       "    </tr>\n",
       "    <tr>\n",
       "      <th>1</th>\n",
       "      <td>bathroom_bestwestern_hotel_sfo</td>\n",
       "      <td>...</td>\n",
       "    </tr>\n",
       "    <tr>\n",
       "      <th>2</th>\n",
       "      <td>battery-life_amazon_kindle</td>\n",
       "      <td>...</td>\n",
       "    </tr>\n",
       "    <tr>\n",
       "      <th>3</th>\n",
       "      <td>battery-life_ipod_nano_8gb</td>\n",
       "      <td>...</td>\n",
       "    </tr>\n",
       "    <tr>\n",
       "      <th>4</th>\n",
       "      <td>battery-life_netbook_1005ha</td>\n",
       "      <td>...</td>\n",
       "    </tr>\n",
       "  </tbody>\n",
       "</table>\n",
       "</div>"
      ],
      "text/plain": [
       "                         filename  \\\n",
       "0   accuracy_garmin_nuvi_255W_gps   \n",
       "1  bathroom_bestwestern_hotel_sfo   \n",
       "2      battery-life_amazon_kindle   \n",
       "3      battery-life_ipod_nano_8gb   \n",
       "4     battery-life_netbook_1005ha   \n",
       "\n",
       "                                        opinion_text  \n",
       "0                                                ...  \n",
       "1                                                ...  \n",
       "2                                                ...  \n",
       "3                                                ...  \n",
       "4                                                ...  "
      ]
     },
     "execution_count": 93,
     "metadata": {},
     "output_type": "execute_result"
    }
   ],
   "source": [
    "import pandas as pd\n",
    "import numpy as np\n",
    "import glob ,os\n",
    "import warnings\n",
    "warnings.filterwarnings('ignore')\n",
    "\n",
    "# 디렉토리 설정\n",
    "path = '../data/OpinosisDataset1.0/topics'\n",
    "\n",
    "# path로 지정한 디렉토리 밑에 있는 모든 .data 파일들의 파일명을 리스트로 취합\n",
    "all_files = glob.glob(os.path.join(path, \"*.data\"))    \n",
    "filename_list = []\n",
    "opinion_text = []\n",
    "\n",
    "# 개별 파일들의 파일명은 filename_list 리스트로 취합, \n",
    "# 개별 파일들의 파일내용은 DataFrame로딩 후 다시 string으로 변환하여 opinion_text 리스트로 취합 \n",
    "for file_ in sorted(all_files):\n",
    "    # 개별 파일을 읽어서 DataFrame으로 생성 \n",
    "    df = pd.read_table(file_,index_col=None, header=0,encoding='latin1')\n",
    "    \n",
    "    # 절대경로로 주어진 file 명을 가공. 만일 Linux에서 수행시에는 아래 \\\\를 / 변경. \n",
    "    # 맨 마지막 .data 확장자도 제거\n",
    "    filename_ = file_.split('/')[-1]\n",
    "    filename = filename_.split('.')[0]\n",
    "\n",
    "    #파일명 리스트와 파일내용 리스트에 파일명과 파일 내용을 추가. \n",
    "    filename_list.append(filename)\n",
    "    opinion_text.append(df.to_string())\n",
    "\n",
    "# 파일명 리스트와 파일내용 리스트를  DataFrame으로 생성\n",
    "# 파일 내용 텍스트를 통으로 opinion_text에 값으로 할당\n",
    "document_df = pd.DataFrame({'filename':filename_list, 'opinion_text':opinion_text})\n",
    "document_df.head()"
   ]
  },
  {
   "cell_type": "markdown",
   "metadata": {},
   "source": [
    "### **Lemmatization을 위한 함수 생성**\n",
    "TfidfVectorizer의 tokenizer파라미터의 인자로 사용될 lemmatization 어근 변환 함수를 설정"
   ]
  },
  {
   "cell_type": "code",
   "execution_count": 94,
   "metadata": {
    "ExecuteTime": {
     "end_time": "2022-06-29T14:56:01.574367Z",
     "start_time": "2022-06-29T14:56:01.565321Z"
    }
   },
   "outputs": [],
   "source": [
    "from nltk.stem import WordNetLemmatizer\n",
    "import nltk\n",
    "import string\n",
    "\n",
    "# punctuation: '!\"#$%&\\'()*+,-./:;<=>?@[\\\\]^_`{|}~' -> 모두 제거\n",
    "remove_punct_dict = dict((ord(punct), None) for punct in string.punctuation)\n",
    "lemmar = WordNetLemmatizer()\n",
    "\n",
    "# 입력으로 들어온 token단어들에 대해서 lemmatization 어근 변환.\n",
    "def LemTokens(tokens):\n",
    "    return [lemmar.lemmatize(token) for token in tokens]\n",
    "\n",
    "# TfidfVectorizer 객체 생성 시 tokenizer인자로 해당 함수를 설정하여 lemmatization 적용\n",
    "# 입력으로 문장을 받아서 punctuation 제거 -> 소문자 변환 -> 단어 토큰화 -> lemmatization 어근 변환.\n",
    "def LemNormalize(text):\n",
    "    return LemTokens(nltk.word_tokenize(text.lower().translate(remove_punct_dict)))\n",
    "# 최종적으로 lemmatize된 토큰의 리스트를 반환"
   ]
  },
  {
   "cell_type": "markdown",
   "metadata": {},
   "source": [
    "### **TF-IDF 피처 벡터화 (Lemmatization 적용)** \n",
    "**TF-IDF 피처 벡터화, TfidfVectorizer에서 피처 벡터화 수행 시 Lemmatization(어근 추출)을 적용하여 토큰화**\n",
    "- Stemming과 Lemmatization 같은 어근변환은 TfidfVectorizer에서 직접 지원하진 않으나,<br>\n",
    " **tokenizer 파라미터**에 커스텀 어근 변환 함수를 적용하여 어근 변환을 수행할 수 있음\n",
    " <br>\n",
    " \n",
    "- TfidfVectorizer 생성자의 tokenizer인자로 위에서 생성한 LemNorvalize 함수 설정."
   ]
  },
  {
   "cell_type": "code",
   "execution_count": 95,
   "metadata": {
    "ExecuteTime": {
     "end_time": "2022-06-29T14:56:03.001808Z",
     "start_time": "2022-06-29T14:56:01.953705Z"
    }
   },
   "outputs": [],
   "source": [
    "from sklearn.feature_extraction.text import TfidfVectorizer\n",
    "\n",
    "# tokenizer에 위에서 정의한 LemNormalize함수 적용하고, stop_words 제거\n",
    "# ngram 1,2까지 허용하고, 단어 최소 0.05이상 0.85이하 빈도있는 애들만\n",
    "tfidf_vect = TfidfVectorizer(tokenizer=LemNormalize, stop_words='english' , \\\n",
    "                             ngram_range=(1,2), min_df=0.05, max_df=0.85 )\n",
    "\n",
    "#opinion_text 컬럼값으로 feature vectorization 수행\n",
    "feature_vect = tfidf_vect.fit_transform(document_df['opinion_text'])"
   ]
  },
  {
   "cell_type": "code",
   "execution_count": 96,
   "metadata": {
    "ExecuteTime": {
     "end_time": "2022-06-29T14:56:03.004757Z",
     "start_time": "2022-06-29T14:56:03.002779Z"
    }
   },
   "outputs": [
    {
     "data": {
      "text/plain": [
       "(51, 4611)"
      ]
     },
     "execution_count": 96,
     "metadata": {},
     "output_type": "execute_result"
    }
   ],
   "source": [
    "feature_vect.shape\n",
    "# 51개 문서에 대해, 4611개의 단어(피처)들로 벡터화됨."
   ]
  },
  {
   "cell_type": "markdown",
   "metadata": {},
   "source": [
    "### **K-Means군집화**"
   ]
  },
  {
   "cell_type": "markdown",
   "metadata": {},
   "source": [
    "#### **5개의 군집으로 K-Means 군집화**"
   ]
  },
  {
   "cell_type": "code",
   "execution_count": 97,
   "metadata": {
    "ExecuteTime": {
     "end_time": "2022-06-29T14:56:03.049309Z",
     "start_time": "2022-06-29T14:56:03.006119Z"
    }
   },
   "outputs": [],
   "source": [
    "from sklearn.cluster import KMeans\n",
    "\n",
    "# 5개 집합으로 군집화 수행. 예제를 위해 동일한 클러스터링 결과 도출용 random_state=0 \n",
    "km_cluster = KMeans(n_clusters=5, max_iter=10000, random_state=0)\n",
    "km_cluster.fit(feature_vect)\n",
    "cluster_label = km_cluster.labels_\n",
    "cluster_centers = km_cluster.cluster_centers_"
   ]
  },
  {
   "cell_type": "code",
   "execution_count": 98,
   "metadata": {
    "ExecuteTime": {
     "end_time": "2022-06-29T14:56:03.053104Z",
     "start_time": "2022-06-29T14:56:03.050462Z"
    }
   },
   "outputs": [
    {
     "name": "stdout",
     "output_type": "stream",
     "text": [
      "51개 문서에 대해, 5개의 군집으로 K-Means 군집화된 결과\n",
      "[2 0 1 1 1 2 4 4 2 2 2 2 2 3 3 3 4 4 4 1 3 3 4 2 3 4 1 3 3 4 0 0 0 2 2 2 2\n",
      " 4 3 3 3 1 1 2 1 3 3 4 2 2 2]\n"
     ]
    },
    {
     "data": {
      "text/plain": [
       "(51,)"
      ]
     },
     "execution_count": 98,
     "metadata": {},
     "output_type": "execute_result"
    }
   ],
   "source": [
    "print(f\"51개 문서에 대해, 5개의 군집으로 K-Means 군집화된 결과\\n{km_cluster.labels_}\")\n",
    "km_cluster.labels_.shape"
   ]
  },
  {
   "cell_type": "markdown",
   "metadata": {},
   "source": [
    "#### **데이터 별로 군집화 확인**"
   ]
  },
  {
   "cell_type": "code",
   "execution_count": 99,
   "metadata": {
    "ExecuteTime": {
     "end_time": "2022-06-29T14:56:03.180587Z",
     "start_time": "2022-06-29T14:56:03.175875Z"
    }
   },
   "outputs": [
    {
     "data": {
      "text/html": [
       "<div>\n",
       "<style scoped>\n",
       "    .dataframe tbody tr th:only-of-type {\n",
       "        vertical-align: middle;\n",
       "    }\n",
       "\n",
       "    .dataframe tbody tr th {\n",
       "        vertical-align: top;\n",
       "    }\n",
       "\n",
       "    .dataframe thead th {\n",
       "        text-align: right;\n",
       "    }\n",
       "</style>\n",
       "<table border=\"1\" class=\"dataframe\">\n",
       "  <thead>\n",
       "    <tr style=\"text-align: right;\">\n",
       "      <th></th>\n",
       "      <th>filename</th>\n",
       "      <th>opinion_text</th>\n",
       "      <th>cluster_label</th>\n",
       "    </tr>\n",
       "  </thead>\n",
       "  <tbody>\n",
       "    <tr>\n",
       "      <th>0</th>\n",
       "      <td>accuracy_garmin_nuvi_255W_gps</td>\n",
       "      <td>...</td>\n",
       "      <td>2</td>\n",
       "    </tr>\n",
       "    <tr>\n",
       "      <th>1</th>\n",
       "      <td>bathroom_bestwestern_hotel_sfo</td>\n",
       "      <td>...</td>\n",
       "      <td>0</td>\n",
       "    </tr>\n",
       "    <tr>\n",
       "      <th>2</th>\n",
       "      <td>battery-life_amazon_kindle</td>\n",
       "      <td>...</td>\n",
       "      <td>1</td>\n",
       "    </tr>\n",
       "    <tr>\n",
       "      <th>3</th>\n",
       "      <td>battery-life_ipod_nano_8gb</td>\n",
       "      <td>...</td>\n",
       "      <td>1</td>\n",
       "    </tr>\n",
       "    <tr>\n",
       "      <th>4</th>\n",
       "      <td>battery-life_netbook_1005ha</td>\n",
       "      <td>...</td>\n",
       "      <td>1</td>\n",
       "    </tr>\n",
       "  </tbody>\n",
       "</table>\n",
       "</div>"
      ],
      "text/plain": [
       "                         filename  \\\n",
       "0   accuracy_garmin_nuvi_255W_gps   \n",
       "1  bathroom_bestwestern_hotel_sfo   \n",
       "2      battery-life_amazon_kindle   \n",
       "3      battery-life_ipod_nano_8gb   \n",
       "4     battery-life_netbook_1005ha   \n",
       "\n",
       "                                        opinion_text  cluster_label  \n",
       "0                                                ...              2  \n",
       "1                                                ...              0  \n",
       "2                                                ...              1  \n",
       "3                                                ...              1  \n",
       "4                                                ...              1  "
      ]
     },
     "execution_count": 99,
     "metadata": {},
     "output_type": "execute_result"
    }
   ],
   "source": [
    "document_df['cluster_label'] = cluster_label\n",
    "document_df.head()"
   ]
  },
  {
   "cell_type": "markdown",
   "metadata": {},
   "source": [
    "#### 군집별로 filename 확인"
   ]
  },
  {
   "cell_type": "code",
   "execution_count": 100,
   "metadata": {
    "ExecuteTime": {
     "end_time": "2022-06-29T14:56:03.353266Z",
     "start_time": "2022-06-29T14:56:03.347468Z"
    }
   },
   "outputs": [
    {
     "data": {
      "text/html": [
       "<div>\n",
       "<style scoped>\n",
       "    .dataframe tbody tr th:only-of-type {\n",
       "        vertical-align: middle;\n",
       "    }\n",
       "\n",
       "    .dataframe tbody tr th {\n",
       "        vertical-align: top;\n",
       "    }\n",
       "\n",
       "    .dataframe thead th {\n",
       "        text-align: right;\n",
       "    }\n",
       "</style>\n",
       "<table border=\"1\" class=\"dataframe\">\n",
       "  <thead>\n",
       "    <tr style=\"text-align: right;\">\n",
       "      <th></th>\n",
       "      <th>filename</th>\n",
       "      <th>opinion_text</th>\n",
       "      <th>cluster_label</th>\n",
       "    </tr>\n",
       "  </thead>\n",
       "  <tbody>\n",
       "    <tr>\n",
       "      <th>1</th>\n",
       "      <td>bathroom_bestwestern_hotel_sfo</td>\n",
       "      <td>...</td>\n",
       "      <td>0</td>\n",
       "    </tr>\n",
       "    <tr>\n",
       "      <th>30</th>\n",
       "      <td>room_holiday_inn_london</td>\n",
       "      <td>...</td>\n",
       "      <td>0</td>\n",
       "    </tr>\n",
       "    <tr>\n",
       "      <th>31</th>\n",
       "      <td>rooms_bestwestern_hotel_sfo</td>\n",
       "      <td>...</td>\n",
       "      <td>0</td>\n",
       "    </tr>\n",
       "    <tr>\n",
       "      <th>32</th>\n",
       "      <td>rooms_swissotel_chicago</td>\n",
       "      <td>...</td>\n",
       "      <td>0</td>\n",
       "    </tr>\n",
       "  </tbody>\n",
       "</table>\n",
       "</div>"
      ],
      "text/plain": [
       "                          filename  \\\n",
       "1   bathroom_bestwestern_hotel_sfo   \n",
       "30         room_holiday_inn_london   \n",
       "31     rooms_bestwestern_hotel_sfo   \n",
       "32         rooms_swissotel_chicago   \n",
       "\n",
       "                                         opinion_text  cluster_label  \n",
       "1                                                 ...              0  \n",
       "30                                                ...              0  \n",
       "31                                                ...              0  \n",
       "32                                                ...              0  "
      ]
     },
     "execution_count": 100,
     "metadata": {},
     "output_type": "execute_result"
    }
   ],
   "source": [
    "document_df[document_df['cluster_label']==0].sort_values(by='filename')\n",
    "# room 관련 군집인것으로 확인됨 (비지도니까 타겟값이 따로 없다.)"
   ]
  },
  {
   "cell_type": "code",
   "execution_count": 101,
   "metadata": {
    "ExecuteTime": {
     "end_time": "2022-06-29T14:56:03.439711Z",
     "start_time": "2022-06-29T14:56:03.431496Z"
    }
   },
   "outputs": [
    {
     "data": {
      "text/html": [
       "<div>\n",
       "<style scoped>\n",
       "    .dataframe tbody tr th:only-of-type {\n",
       "        vertical-align: middle;\n",
       "    }\n",
       "\n",
       "    .dataframe tbody tr th {\n",
       "        vertical-align: top;\n",
       "    }\n",
       "\n",
       "    .dataframe thead th {\n",
       "        text-align: right;\n",
       "    }\n",
       "</style>\n",
       "<table border=\"1\" class=\"dataframe\">\n",
       "  <thead>\n",
       "    <tr style=\"text-align: right;\">\n",
       "      <th></th>\n",
       "      <th>filename</th>\n",
       "      <th>opinion_text</th>\n",
       "      <th>cluster_label</th>\n",
       "    </tr>\n",
       "  </thead>\n",
       "  <tbody>\n",
       "    <tr>\n",
       "      <th>2</th>\n",
       "      <td>battery-life_amazon_kindle</td>\n",
       "      <td>...</td>\n",
       "      <td>1</td>\n",
       "    </tr>\n",
       "    <tr>\n",
       "      <th>3</th>\n",
       "      <td>battery-life_ipod_nano_8gb</td>\n",
       "      <td>...</td>\n",
       "      <td>1</td>\n",
       "    </tr>\n",
       "    <tr>\n",
       "      <th>4</th>\n",
       "      <td>battery-life_netbook_1005ha</td>\n",
       "      <td>...</td>\n",
       "      <td>1</td>\n",
       "    </tr>\n",
       "    <tr>\n",
       "      <th>19</th>\n",
       "      <td>keyboard_netbook_1005ha</td>\n",
       "      <td>...</td>\n",
       "      <td>1</td>\n",
       "    </tr>\n",
       "    <tr>\n",
       "      <th>26</th>\n",
       "      <td>performance_netbook_1005ha</td>\n",
       "      <td>...</td>\n",
       "      <td>1</td>\n",
       "    </tr>\n",
       "    <tr>\n",
       "      <th>41</th>\n",
       "      <td>size_asus_netbook_1005ha</td>\n",
       "      <td>...</td>\n",
       "      <td>1</td>\n",
       "    </tr>\n",
       "    <tr>\n",
       "      <th>42</th>\n",
       "      <td>sound_ipod_nano_8gb</td>\n",
       "      <td>headphone jack i got a clear case for it a...</td>\n",
       "      <td>1</td>\n",
       "    </tr>\n",
       "    <tr>\n",
       "      <th>44</th>\n",
       "      <td>speed_windows7</td>\n",
       "      <td>...</td>\n",
       "      <td>1</td>\n",
       "    </tr>\n",
       "  </tbody>\n",
       "</table>\n",
       "</div>"
      ],
      "text/plain": [
       "                       filename  \\\n",
       "2    battery-life_amazon_kindle   \n",
       "3    battery-life_ipod_nano_8gb   \n",
       "4   battery-life_netbook_1005ha   \n",
       "19      keyboard_netbook_1005ha   \n",
       "26   performance_netbook_1005ha   \n",
       "41     size_asus_netbook_1005ha   \n",
       "42          sound_ipod_nano_8gb   \n",
       "44               speed_windows7   \n",
       "\n",
       "                                         opinion_text  cluster_label  \n",
       "2                                                 ...              1  \n",
       "3                                                 ...              1  \n",
       "4                                                 ...              1  \n",
       "19                                                ...              1  \n",
       "26                                                ...              1  \n",
       "41                                                ...              1  \n",
       "42      headphone jack i got a clear case for it a...              1  \n",
       "44                                                ...              1  "
      ]
     },
     "execution_count": 101,
     "metadata": {},
     "output_type": "execute_result"
    }
   ],
   "source": [
    "document_df[document_df['cluster_label']==1].sort_values(by='filename')\n",
    "# 배터리, 키보드, 넷북 등 전자기기 관련 군집으로 확인된다."
   ]
  },
  {
   "cell_type": "code",
   "execution_count": 102,
   "metadata": {
    "ExecuteTime": {
     "end_time": "2022-06-29T14:56:03.529327Z",
     "start_time": "2022-06-29T14:56:03.512893Z"
    }
   },
   "outputs": [
    {
     "data": {
      "text/html": [
       "<div>\n",
       "<style scoped>\n",
       "    .dataframe tbody tr th:only-of-type {\n",
       "        vertical-align: middle;\n",
       "    }\n",
       "\n",
       "    .dataframe tbody tr th {\n",
       "        vertical-align: top;\n",
       "    }\n",
       "\n",
       "    .dataframe thead th {\n",
       "        text-align: right;\n",
       "    }\n",
       "</style>\n",
       "<table border=\"1\" class=\"dataframe\">\n",
       "  <thead>\n",
       "    <tr style=\"text-align: right;\">\n",
       "      <th></th>\n",
       "      <th>filename</th>\n",
       "      <th>opinion_text</th>\n",
       "      <th>cluster_label</th>\n",
       "    </tr>\n",
       "  </thead>\n",
       "  <tbody>\n",
       "    <tr>\n",
       "      <th>0</th>\n",
       "      <td>accuracy_garmin_nuvi_255W_gps</td>\n",
       "      <td>...</td>\n",
       "      <td>2</td>\n",
       "    </tr>\n",
       "    <tr>\n",
       "      <th>5</th>\n",
       "      <td>buttons_amazon_kindle</td>\n",
       "      <td>...</td>\n",
       "      <td>2</td>\n",
       "    </tr>\n",
       "    <tr>\n",
       "      <th>8</th>\n",
       "      <td>directions_garmin_nuvi_255W_gps</td>\n",
       "      <td>...</td>\n",
       "      <td>2</td>\n",
       "    </tr>\n",
       "    <tr>\n",
       "      <th>9</th>\n",
       "      <td>display_garmin_nuvi_255W_gps</td>\n",
       "      <td>...</td>\n",
       "      <td>2</td>\n",
       "    </tr>\n",
       "    <tr>\n",
       "      <th>10</th>\n",
       "      <td>eyesight-issues_amazon_kindle</td>\n",
       "      <td>...</td>\n",
       "      <td>2</td>\n",
       "    </tr>\n",
       "  </tbody>\n",
       "</table>\n",
       "</div>"
      ],
      "text/plain": [
       "                           filename  \\\n",
       "0     accuracy_garmin_nuvi_255W_gps   \n",
       "5             buttons_amazon_kindle   \n",
       "8   directions_garmin_nuvi_255W_gps   \n",
       "9      display_garmin_nuvi_255W_gps   \n",
       "10    eyesight-issues_amazon_kindle   \n",
       "\n",
       "                                         opinion_text  cluster_label  \n",
       "0                                                 ...              2  \n",
       "5                                                 ...              2  \n",
       "8                                                 ...              2  \n",
       "9                                                 ...              2  \n",
       "10                                                ...              2  "
      ]
     },
     "execution_count": 102,
     "metadata": {},
     "output_type": "execute_result"
    }
   ],
   "source": [
    "document_df[document_df['cluster_label']==2].sort_values(by='filename').head(5)\n",
    "# kindle 도 꽤 있지만, 전반적으로 nuvi(네비종류)_gps가 대부분"
   ]
  },
  {
   "cell_type": "code",
   "execution_count": 103,
   "metadata": {
    "ExecuteTime": {
     "end_time": "2022-06-29T14:56:03.612190Z",
     "start_time": "2022-06-29T14:56:03.599223Z"
    }
   },
   "outputs": [
    {
     "data": {
      "text/html": [
       "<div>\n",
       "<style scoped>\n",
       "    .dataframe tbody tr th:only-of-type {\n",
       "        vertical-align: middle;\n",
       "    }\n",
       "\n",
       "    .dataframe tbody tr th {\n",
       "        vertical-align: top;\n",
       "    }\n",
       "\n",
       "    .dataframe thead th {\n",
       "        text-align: right;\n",
       "    }\n",
       "</style>\n",
       "<table border=\"1\" class=\"dataframe\">\n",
       "  <thead>\n",
       "    <tr style=\"text-align: right;\">\n",
       "      <th></th>\n",
       "      <th>filename</th>\n",
       "      <th>opinion_text</th>\n",
       "      <th>cluster_label</th>\n",
       "    </tr>\n",
       "  </thead>\n",
       "  <tbody>\n",
       "    <tr>\n",
       "      <th>13</th>\n",
       "      <td>food_holiday_inn_london</td>\n",
       "      <td>...</td>\n",
       "      <td>3</td>\n",
       "    </tr>\n",
       "    <tr>\n",
       "      <th>14</th>\n",
       "      <td>food_swissotel_chicago</td>\n",
       "      <td>...</td>\n",
       "      <td>3</td>\n",
       "    </tr>\n",
       "    <tr>\n",
       "      <th>15</th>\n",
       "      <td>free_bestwestern_hotel_sfo</td>\n",
       "      <td>...</td>\n",
       "      <td>3</td>\n",
       "    </tr>\n",
       "    <tr>\n",
       "      <th>20</th>\n",
       "      <td>location_bestwestern_hotel_sfo</td>\n",
       "      <td>...</td>\n",
       "      <td>3</td>\n",
       "    </tr>\n",
       "    <tr>\n",
       "      <th>21</th>\n",
       "      <td>location_holiday_inn_london</td>\n",
       "      <td>...</td>\n",
       "      <td>3</td>\n",
       "    </tr>\n",
       "    <tr>\n",
       "      <th>24</th>\n",
       "      <td>parking_bestwestern_hotel_sfo</td>\n",
       "      <td>...</td>\n",
       "      <td>3</td>\n",
       "    </tr>\n",
       "    <tr>\n",
       "      <th>27</th>\n",
       "      <td>price_amazon_kindle</td>\n",
       "      <td>...</td>\n",
       "      <td>3</td>\n",
       "    </tr>\n",
       "  </tbody>\n",
       "</table>\n",
       "</div>"
      ],
      "text/plain": [
       "                          filename  \\\n",
       "13         food_holiday_inn_london   \n",
       "14          food_swissotel_chicago   \n",
       "15      free_bestwestern_hotel_sfo   \n",
       "20  location_bestwestern_hotel_sfo   \n",
       "21     location_holiday_inn_london   \n",
       "24   parking_bestwestern_hotel_sfo   \n",
       "27             price_amazon_kindle   \n",
       "\n",
       "                                         opinion_text  cluster_label  \n",
       "13                                                ...              3  \n",
       "14                                                ...              3  \n",
       "15                                                ...              3  \n",
       "20                                                ...              3  \n",
       "21                                                ...              3  \n",
       "24                                                ...              3  \n",
       "27                                                ...              3  "
      ]
     },
     "execution_count": 103,
     "metadata": {},
     "output_type": "execute_result"
    }
   ],
   "source": [
    "document_df[document_df['cluster_label']==3].sort_values(by='filename').head(7)\n",
    "# 대부분 hotel, inn에 대한것. 여기서도 kindle이 좀 끼어들었네"
   ]
  },
  {
   "cell_type": "code",
   "execution_count": 104,
   "metadata": {
    "ExecuteTime": {
     "end_time": "2022-06-29T14:56:03.971994Z",
     "start_time": "2022-06-29T14:56:03.953809Z"
    }
   },
   "outputs": [
    {
     "data": {
      "text/html": [
       "<div>\n",
       "<style scoped>\n",
       "    .dataframe tbody tr th:only-of-type {\n",
       "        vertical-align: middle;\n",
       "    }\n",
       "\n",
       "    .dataframe tbody tr th {\n",
       "        vertical-align: top;\n",
       "    }\n",
       "\n",
       "    .dataframe thead th {\n",
       "        text-align: right;\n",
       "    }\n",
       "</style>\n",
       "<table border=\"1\" class=\"dataframe\">\n",
       "  <thead>\n",
       "    <tr style=\"text-align: right;\">\n",
       "      <th></th>\n",
       "      <th>filename</th>\n",
       "      <th>opinion_text</th>\n",
       "      <th>cluster_label</th>\n",
       "    </tr>\n",
       "  </thead>\n",
       "  <tbody>\n",
       "    <tr>\n",
       "      <th>6</th>\n",
       "      <td>comfort_honda_accord_2008</td>\n",
       "      <td>...</td>\n",
       "      <td>4</td>\n",
       "    </tr>\n",
       "    <tr>\n",
       "      <th>7</th>\n",
       "      <td>comfort_toyota_camry_2007</td>\n",
       "      <td>...</td>\n",
       "      <td>4</td>\n",
       "    </tr>\n",
       "    <tr>\n",
       "      <th>16</th>\n",
       "      <td>gas_mileage_toyota_camry_2007</td>\n",
       "      <td>...</td>\n",
       "      <td>4</td>\n",
       "    </tr>\n",
       "    <tr>\n",
       "      <th>17</th>\n",
       "      <td>interior_honda_accord_2008</td>\n",
       "      <td>...</td>\n",
       "      <td>4</td>\n",
       "    </tr>\n",
       "    <tr>\n",
       "      <th>18</th>\n",
       "      <td>interior_toyota_camry_2007</td>\n",
       "      <td>...</td>\n",
       "      <td>4</td>\n",
       "    </tr>\n",
       "    <tr>\n",
       "      <th>22</th>\n",
       "      <td>mileage_honda_accord_2008</td>\n",
       "      <td>...</td>\n",
       "      <td>4</td>\n",
       "    </tr>\n",
       "    <tr>\n",
       "      <th>25</th>\n",
       "      <td>performance_honda_accord_2008</td>\n",
       "      <td>...</td>\n",
       "      <td>4</td>\n",
       "    </tr>\n",
       "    <tr>\n",
       "      <th>29</th>\n",
       "      <td>quality_toyota_camry_2007</td>\n",
       "      <td>...</td>\n",
       "      <td>4</td>\n",
       "    </tr>\n",
       "    <tr>\n",
       "      <th>37</th>\n",
       "      <td>seats_honda_accord_2008</td>\n",
       "      <td>...</td>\n",
       "      <td>4</td>\n",
       "    </tr>\n",
       "    <tr>\n",
       "      <th>47</th>\n",
       "      <td>transmission_toyota_camry_2007</td>\n",
       "      <td>...</td>\n",
       "      <td>4</td>\n",
       "    </tr>\n",
       "  </tbody>\n",
       "</table>\n",
       "</div>"
      ],
      "text/plain": [
       "                          filename  \\\n",
       "6        comfort_honda_accord_2008   \n",
       "7        comfort_toyota_camry_2007   \n",
       "16   gas_mileage_toyota_camry_2007   \n",
       "17      interior_honda_accord_2008   \n",
       "18      interior_toyota_camry_2007   \n",
       "22       mileage_honda_accord_2008   \n",
       "25   performance_honda_accord_2008   \n",
       "29       quality_toyota_camry_2007   \n",
       "37         seats_honda_accord_2008   \n",
       "47  transmission_toyota_camry_2007   \n",
       "\n",
       "                                         opinion_text  cluster_label  \n",
       "6                                                 ...              4  \n",
       "7                                                 ...              4  \n",
       "16                                                ...              4  \n",
       "17                                                ...              4  \n",
       "18                                                ...              4  \n",
       "22                                                ...              4  \n",
       "25                                                ...              4  \n",
       "29                                                ...              4  \n",
       "37                                                ...              4  \n",
       "47                                                ...              4  "
      ]
     },
     "execution_count": 104,
     "metadata": {},
     "output_type": "execute_result"
    }
   ],
   "source": [
    "document_df[document_df['cluster_label']==4].sort_values(by='filename')\n",
    "# honda, toyota 차종 그리고 년도로 확실하게 클러스터링 됨."
   ]
  },
  {
   "cell_type": "markdown",
   "metadata": {},
   "source": [
    "#### 3개의 군집으로 K-Means 군집화"
   ]
  },
  {
   "cell_type": "code",
   "execution_count": 105,
   "metadata": {
    "ExecuteTime": {
     "end_time": "2022-06-29T14:56:04.743036Z",
     "start_time": "2022-06-29T14:56:04.672263Z"
    },
    "scrolled": false
   },
   "outputs": [
    {
     "data": {
      "text/html": [
       "<div>\n",
       "<style scoped>\n",
       "    .dataframe tbody tr th:only-of-type {\n",
       "        vertical-align: middle;\n",
       "    }\n",
       "\n",
       "    .dataframe tbody tr th {\n",
       "        vertical-align: top;\n",
       "    }\n",
       "\n",
       "    .dataframe thead th {\n",
       "        text-align: right;\n",
       "    }\n",
       "</style>\n",
       "<table border=\"1\" class=\"dataframe\">\n",
       "  <thead>\n",
       "    <tr style=\"text-align: right;\">\n",
       "      <th></th>\n",
       "      <th>filename</th>\n",
       "      <th>opinion_text</th>\n",
       "      <th>cluster_label</th>\n",
       "    </tr>\n",
       "  </thead>\n",
       "  <tbody>\n",
       "    <tr>\n",
       "      <th>0</th>\n",
       "      <td>accuracy_garmin_nuvi_255W_gps</td>\n",
       "      <td>...</td>\n",
       "      <td>0</td>\n",
       "    </tr>\n",
       "    <tr>\n",
       "      <th>48</th>\n",
       "      <td>updates_garmin_nuvi_255W_gps</td>\n",
       "      <td>...</td>\n",
       "      <td>0</td>\n",
       "    </tr>\n",
       "    <tr>\n",
       "      <th>44</th>\n",
       "      <td>speed_windows7</td>\n",
       "      <td>...</td>\n",
       "      <td>0</td>\n",
       "    </tr>\n",
       "    <tr>\n",
       "      <th>43</th>\n",
       "      <td>speed_garmin_nuvi_255W_gps</td>\n",
       "      <td>...</td>\n",
       "      <td>0</td>\n",
       "    </tr>\n",
       "    <tr>\n",
       "      <th>42</th>\n",
       "      <td>sound_ipod_nano_8gb</td>\n",
       "      <td>headphone jack i got a clear case for it a...</td>\n",
       "      <td>0</td>\n",
       "    </tr>\n",
       "    <tr>\n",
       "      <th>41</th>\n",
       "      <td>size_asus_netbook_1005ha</td>\n",
       "      <td>...</td>\n",
       "      <td>0</td>\n",
       "    </tr>\n",
       "    <tr>\n",
       "      <th>36</th>\n",
       "      <td>screen_netbook_1005ha</td>\n",
       "      <td>...</td>\n",
       "      <td>0</td>\n",
       "    </tr>\n",
       "    <tr>\n",
       "      <th>35</th>\n",
       "      <td>screen_ipod_nano_8gb</td>\n",
       "      <td>...</td>\n",
       "      <td>0</td>\n",
       "    </tr>\n",
       "    <tr>\n",
       "      <th>34</th>\n",
       "      <td>screen_garmin_nuvi_255W_gps</td>\n",
       "      <td>...</td>\n",
       "      <td>0</td>\n",
       "    </tr>\n",
       "    <tr>\n",
       "      <th>33</th>\n",
       "      <td>satellite_garmin_nuvi_255W_gps</td>\n",
       "      <td>...</td>\n",
       "      <td>0</td>\n",
       "    </tr>\n",
       "    <tr>\n",
       "      <th>27</th>\n",
       "      <td>price_amazon_kindle</td>\n",
       "      <td>...</td>\n",
       "      <td>0</td>\n",
       "    </tr>\n",
       "    <tr>\n",
       "      <th>26</th>\n",
       "      <td>performance_netbook_1005ha</td>\n",
       "      <td>...</td>\n",
       "      <td>0</td>\n",
       "    </tr>\n",
       "    <tr>\n",
       "      <th>49</th>\n",
       "      <td>video_ipod_nano_8gb</td>\n",
       "      <td>...</td>\n",
       "      <td>0</td>\n",
       "    </tr>\n",
       "    <tr>\n",
       "      <th>23</th>\n",
       "      <td>navigation_amazon_kindle</td>\n",
       "      <td>...</td>\n",
       "      <td>0</td>\n",
       "    </tr>\n",
       "    <tr>\n",
       "      <th>19</th>\n",
       "      <td>keyboard_netbook_1005ha</td>\n",
       "      <td>...</td>\n",
       "      <td>0</td>\n",
       "    </tr>\n",
       "    <tr>\n",
       "      <th>50</th>\n",
       "      <td>voice_garmin_nuvi_255W_gps</td>\n",
       "      <td>...</td>\n",
       "      <td>0</td>\n",
       "    </tr>\n",
       "    <tr>\n",
       "      <th>9</th>\n",
       "      <td>display_garmin_nuvi_255W_gps</td>\n",
       "      <td>...</td>\n",
       "      <td>0</td>\n",
       "    </tr>\n",
       "    <tr>\n",
       "      <th>2</th>\n",
       "      <td>battery-life_amazon_kindle</td>\n",
       "      <td>...</td>\n",
       "      <td>0</td>\n",
       "    </tr>\n",
       "    <tr>\n",
       "      <th>3</th>\n",
       "      <td>battery-life_ipod_nano_8gb</td>\n",
       "      <td>...</td>\n",
       "      <td>0</td>\n",
       "    </tr>\n",
       "    <tr>\n",
       "      <th>4</th>\n",
       "      <td>battery-life_netbook_1005ha</td>\n",
       "      <td>...</td>\n",
       "      <td>0</td>\n",
       "    </tr>\n",
       "    <tr>\n",
       "      <th>5</th>\n",
       "      <td>buttons_amazon_kindle</td>\n",
       "      <td>...</td>\n",
       "      <td>0</td>\n",
       "    </tr>\n",
       "    <tr>\n",
       "      <th>12</th>\n",
       "      <td>fonts_amazon_kindle</td>\n",
       "      <td>...</td>\n",
       "      <td>0</td>\n",
       "    </tr>\n",
       "    <tr>\n",
       "      <th>11</th>\n",
       "      <td>features_windows7</td>\n",
       "      <td>...</td>\n",
       "      <td>0</td>\n",
       "    </tr>\n",
       "    <tr>\n",
       "      <th>10</th>\n",
       "      <td>eyesight-issues_amazon_kindle</td>\n",
       "      <td>...</td>\n",
       "      <td>0</td>\n",
       "    </tr>\n",
       "    <tr>\n",
       "      <th>8</th>\n",
       "      <td>directions_garmin_nuvi_255W_gps</td>\n",
       "      <td>...</td>\n",
       "      <td>0</td>\n",
       "    </tr>\n",
       "    <tr>\n",
       "      <th>47</th>\n",
       "      <td>transmission_toyota_camry_2007</td>\n",
       "      <td>...</td>\n",
       "      <td>1</td>\n",
       "    </tr>\n",
       "    <tr>\n",
       "      <th>37</th>\n",
       "      <td>seats_honda_accord_2008</td>\n",
       "      <td>...</td>\n",
       "      <td>1</td>\n",
       "    </tr>\n",
       "    <tr>\n",
       "      <th>6</th>\n",
       "      <td>comfort_honda_accord_2008</td>\n",
       "      <td>...</td>\n",
       "      <td>1</td>\n",
       "    </tr>\n",
       "    <tr>\n",
       "      <th>7</th>\n",
       "      <td>comfort_toyota_camry_2007</td>\n",
       "      <td>...</td>\n",
       "      <td>1</td>\n",
       "    </tr>\n",
       "    <tr>\n",
       "      <th>16</th>\n",
       "      <td>gas_mileage_toyota_camry_2007</td>\n",
       "      <td>...</td>\n",
       "      <td>1</td>\n",
       "    </tr>\n",
       "    <tr>\n",
       "      <th>25</th>\n",
       "      <td>performance_honda_accord_2008</td>\n",
       "      <td>...</td>\n",
       "      <td>1</td>\n",
       "    </tr>\n",
       "    <tr>\n",
       "      <th>17</th>\n",
       "      <td>interior_honda_accord_2008</td>\n",
       "      <td>...</td>\n",
       "      <td>1</td>\n",
       "    </tr>\n",
       "    <tr>\n",
       "      <th>18</th>\n",
       "      <td>interior_toyota_camry_2007</td>\n",
       "      <td>...</td>\n",
       "      <td>1</td>\n",
       "    </tr>\n",
       "    <tr>\n",
       "      <th>22</th>\n",
       "      <td>mileage_honda_accord_2008</td>\n",
       "      <td>...</td>\n",
       "      <td>1</td>\n",
       "    </tr>\n",
       "    <tr>\n",
       "      <th>29</th>\n",
       "      <td>quality_toyota_camry_2007</td>\n",
       "      <td>...</td>\n",
       "      <td>1</td>\n",
       "    </tr>\n",
       "    <tr>\n",
       "      <th>1</th>\n",
       "      <td>bathroom_bestwestern_hotel_sfo</td>\n",
       "      <td>...</td>\n",
       "      <td>2</td>\n",
       "    </tr>\n",
       "    <tr>\n",
       "      <th>46</th>\n",
       "      <td>staff_swissotel_chicago</td>\n",
       "      <td>...</td>\n",
       "      <td>2</td>\n",
       "    </tr>\n",
       "    <tr>\n",
       "      <th>45</th>\n",
       "      <td>staff_bestwestern_hotel_sfo</td>\n",
       "      <td>...</td>\n",
       "      <td>2</td>\n",
       "    </tr>\n",
       "    <tr>\n",
       "      <th>14</th>\n",
       "      <td>food_swissotel_chicago</td>\n",
       "      <td>...</td>\n",
       "      <td>2</td>\n",
       "    </tr>\n",
       "    <tr>\n",
       "      <th>20</th>\n",
       "      <td>location_bestwestern_hotel_sfo</td>\n",
       "      <td>...</td>\n",
       "      <td>2</td>\n",
       "    </tr>\n",
       "    <tr>\n",
       "      <th>21</th>\n",
       "      <td>location_holiday_inn_london</td>\n",
       "      <td>...</td>\n",
       "      <td>2</td>\n",
       "    </tr>\n",
       "    <tr>\n",
       "      <th>30</th>\n",
       "      <td>room_holiday_inn_london</td>\n",
       "      <td>...</td>\n",
       "      <td>2</td>\n",
       "    </tr>\n",
       "    <tr>\n",
       "      <th>38</th>\n",
       "      <td>service_bestwestern_hotel_sfo</td>\n",
       "      <td>...</td>\n",
       "      <td>2</td>\n",
       "    </tr>\n",
       "    <tr>\n",
       "      <th>13</th>\n",
       "      <td>food_holiday_inn_london</td>\n",
       "      <td>...</td>\n",
       "      <td>2</td>\n",
       "    </tr>\n",
       "    <tr>\n",
       "      <th>24</th>\n",
       "      <td>parking_bestwestern_hotel_sfo</td>\n",
       "      <td>...</td>\n",
       "      <td>2</td>\n",
       "    </tr>\n",
       "    <tr>\n",
       "      <th>28</th>\n",
       "      <td>price_holiday_inn_london</td>\n",
       "      <td>...</td>\n",
       "      <td>2</td>\n",
       "    </tr>\n",
       "    <tr>\n",
       "      <th>15</th>\n",
       "      <td>free_bestwestern_hotel_sfo</td>\n",
       "      <td>...</td>\n",
       "      <td>2</td>\n",
       "    </tr>\n",
       "    <tr>\n",
       "      <th>32</th>\n",
       "      <td>rooms_swissotel_chicago</td>\n",
       "      <td>...</td>\n",
       "      <td>2</td>\n",
       "    </tr>\n",
       "    <tr>\n",
       "      <th>31</th>\n",
       "      <td>rooms_bestwestern_hotel_sfo</td>\n",
       "      <td>...</td>\n",
       "      <td>2</td>\n",
       "    </tr>\n",
       "    <tr>\n",
       "      <th>39</th>\n",
       "      <td>service_holiday_inn_london</td>\n",
       "      <td>...</td>\n",
       "      <td>2</td>\n",
       "    </tr>\n",
       "    <tr>\n",
       "      <th>40</th>\n",
       "      <td>service_swissotel_hotel_chicago</td>\n",
       "      <td>...</td>\n",
       "      <td>2</td>\n",
       "    </tr>\n",
       "  </tbody>\n",
       "</table>\n",
       "</div>"
      ],
      "text/plain": [
       "                           filename  \\\n",
       "0     accuracy_garmin_nuvi_255W_gps   \n",
       "48     updates_garmin_nuvi_255W_gps   \n",
       "44                   speed_windows7   \n",
       "43       speed_garmin_nuvi_255W_gps   \n",
       "42              sound_ipod_nano_8gb   \n",
       "41         size_asus_netbook_1005ha   \n",
       "36            screen_netbook_1005ha   \n",
       "35             screen_ipod_nano_8gb   \n",
       "34      screen_garmin_nuvi_255W_gps   \n",
       "33   satellite_garmin_nuvi_255W_gps   \n",
       "27              price_amazon_kindle   \n",
       "26       performance_netbook_1005ha   \n",
       "49              video_ipod_nano_8gb   \n",
       "23         navigation_amazon_kindle   \n",
       "19          keyboard_netbook_1005ha   \n",
       "50       voice_garmin_nuvi_255W_gps   \n",
       "9      display_garmin_nuvi_255W_gps   \n",
       "2        battery-life_amazon_kindle   \n",
       "3        battery-life_ipod_nano_8gb   \n",
       "4       battery-life_netbook_1005ha   \n",
       "5             buttons_amazon_kindle   \n",
       "12              fonts_amazon_kindle   \n",
       "11                features_windows7   \n",
       "10    eyesight-issues_amazon_kindle   \n",
       "8   directions_garmin_nuvi_255W_gps   \n",
       "47   transmission_toyota_camry_2007   \n",
       "37          seats_honda_accord_2008   \n",
       "6         comfort_honda_accord_2008   \n",
       "7         comfort_toyota_camry_2007   \n",
       "16    gas_mileage_toyota_camry_2007   \n",
       "25    performance_honda_accord_2008   \n",
       "17       interior_honda_accord_2008   \n",
       "18       interior_toyota_camry_2007   \n",
       "22        mileage_honda_accord_2008   \n",
       "29        quality_toyota_camry_2007   \n",
       "1    bathroom_bestwestern_hotel_sfo   \n",
       "46          staff_swissotel_chicago   \n",
       "45      staff_bestwestern_hotel_sfo   \n",
       "14           food_swissotel_chicago   \n",
       "20   location_bestwestern_hotel_sfo   \n",
       "21      location_holiday_inn_london   \n",
       "30          room_holiday_inn_london   \n",
       "38    service_bestwestern_hotel_sfo   \n",
       "13          food_holiday_inn_london   \n",
       "24    parking_bestwestern_hotel_sfo   \n",
       "28         price_holiday_inn_london   \n",
       "15       free_bestwestern_hotel_sfo   \n",
       "32          rooms_swissotel_chicago   \n",
       "31      rooms_bestwestern_hotel_sfo   \n",
       "39       service_holiday_inn_london   \n",
       "40  service_swissotel_hotel_chicago   \n",
       "\n",
       "                                         opinion_text  cluster_label  \n",
       "0                                                 ...              0  \n",
       "48                                                ...              0  \n",
       "44                                                ...              0  \n",
       "43                                                ...              0  \n",
       "42      headphone jack i got a clear case for it a...              0  \n",
       "41                                                ...              0  \n",
       "36                                                ...              0  \n",
       "35                                                ...              0  \n",
       "34                                                ...              0  \n",
       "33                                                ...              0  \n",
       "27                                                ...              0  \n",
       "26                                                ...              0  \n",
       "49                                                ...              0  \n",
       "23                                                ...              0  \n",
       "19                                                ...              0  \n",
       "50                                                ...              0  \n",
       "9                                                 ...              0  \n",
       "2                                                 ...              0  \n",
       "3                                                 ...              0  \n",
       "4                                                 ...              0  \n",
       "5                                                 ...              0  \n",
       "12                                                ...              0  \n",
       "11                                                ...              0  \n",
       "10                                                ...              0  \n",
       "8                                                 ...              0  \n",
       "47                                                ...              1  \n",
       "37                                                ...              1  \n",
       "6                                                 ...              1  \n",
       "7                                                 ...              1  \n",
       "16                                                ...              1  \n",
       "25                                                ...              1  \n",
       "17                                                ...              1  \n",
       "18                                                ...              1  \n",
       "22                                                ...              1  \n",
       "29                                                ...              1  \n",
       "1                                                 ...              2  \n",
       "46                                                ...              2  \n",
       "45                                                ...              2  \n",
       "14                                                ...              2  \n",
       "20                                                ...              2  \n",
       "21                                                ...              2  \n",
       "30                                                ...              2  \n",
       "38                                                ...              2  \n",
       "13                                                ...              2  \n",
       "24                                                ...              2  \n",
       "28                                                ...              2  \n",
       "15                                                ...              2  \n",
       "32                                                ...              2  \n",
       "31                                                ...              2  \n",
       "39                                                ...              2  \n",
       "40                                                ...              2  "
      ]
     },
     "execution_count": 105,
     "metadata": {},
     "output_type": "execute_result"
    }
   ],
   "source": [
    "from sklearn.cluster import KMeans\n",
    "\n",
    "# 3개의 집합으로 군집화 \n",
    "km_cluster = KMeans(n_clusters=3, max_iter=10000, random_state=0)\n",
    "km_cluster.fit(feature_vect)\n",
    "cluster_label = km_cluster.labels_\n",
    "\n",
    "\n",
    "# 소속 클러스터를 cluster_label 컬럼으로 할당하고 cluster_label 값으로 정렬\n",
    "document_df['cluster_label'] = cluster_label\n",
    "document_df.sort_values(by='cluster_label')\n",
    "# 0은 전자기기, 네비(gps) kindle이 좀 있는걸로 군집화 되었고\n",
    "# 1은 차종, 2는 hotel, inn으로 클러스터링 되었다."
   ]
  },
  {
   "cell_type": "markdown",
   "metadata": {},
   "source": [
    "### 군집(Cluster)별 핵심 단어 추출하기\n"
   ]
  },
  {
   "cell_type": "code",
   "execution_count": 106,
   "metadata": {
    "ExecuteTime": {
     "end_time": "2022-06-29T14:56:05.362059Z",
     "start_time": "2022-06-29T14:56:05.354825Z"
    }
   },
   "outputs": [
    {
     "data": {
      "text/plain": [
       "(51, 4611)"
      ]
     },
     "execution_count": 106,
     "metadata": {},
     "output_type": "execute_result"
    }
   ],
   "source": [
    "feature_vect.shape"
   ]
  },
  {
   "cell_type": "markdown",
   "metadata": {},
   "source": [
    "#### cluster_centers_ 의미\n",
    "KMeans객체의 cluster_centers_ 속성은 개별 피처들의 클러스터 중심과의 상대 위치를 정규화된 숫자값으로 표시\n",
    "\n",
    "**0~1까지의 값으로 표현되며 1에 가까울 수록 중심에 더 가깝다는 의미**"
   ]
  },
  {
   "cell_type": "code",
   "execution_count": 107,
   "metadata": {
    "ExecuteTime": {
     "end_time": "2022-06-29T14:56:05.991334Z",
     "start_time": "2022-06-29T14:56:05.984326Z"
    }
   },
   "outputs": [
    {
     "name": "stdout",
     "output_type": "stream",
     "text": [
      "cluster_centers shape :(3, 4611)\n",
      "\n",
      "cluster_centers: 3개의 클러스터에 대해,4611개 단어(피처)가 cluster_center에 얼마나 가까이 있는지 값을 갖는다.\n",
      "\n",
      "[[0.01005322 0.         0.         ... 0.00706287 0.         0.        ]\n",
      " [0.         0.00092551 0.         ... 0.         0.         0.        ]\n",
      " [0.         0.00099499 0.00174637 ... 0.         0.00183397 0.00144581]]\n"
     ]
    }
   ],
   "source": [
    "cluster_centers = km_cluster.cluster_centers_\n",
    "print(f'cluster_centers shape :{cluster_centers.shape}\\n')\n",
    "print(f\"cluster_centers: {cluster_centers.shape[0]}개의 클러스터에 대해,\\\n",
    "{cluster_centers.shape[1]}개 단어(피처)가 cluster_center에 얼마나 가까이 있는지 값을 갖는다.\\n\")\n",
    "print(cluster_centers)"
   ]
  },
  {
   "cell_type": "markdown",
   "metadata": {},
   "source": [
    "#### 군집별 핵심단어 등 추출 함수 생성\n",
    "**군집별 top n 핵심단어, 그 단어의 중심 위치와의 거리값, 대상 파일명들을 반환하는 함수 생성**"
   ]
  },
  {
   "cell_type": "code",
   "execution_count": 108,
   "metadata": {
    "ExecuteTime": {
     "end_time": "2022-06-29T14:56:06.662574Z",
     "start_time": "2022-06-29T14:56:06.650247Z"
    }
   },
   "outputs": [],
   "source": [
    "# 군집별 top n 핵심단어, 그 단어의 중심 위치 상대값, 대상 파일명들을 반환함. \n",
    "# fit이 된 cluster_model이 들어감\n",
    "def get_cluster_details(cluster_model, cluster_data, feature_names, clusters_num, top_n_features=10):\n",
    "    cluster_details = {}\n",
    "    \n",
    "    # cluster_centers array 의 값이 큰 순으로 정렬된 index 값을 반환\n",
    "    # 군집 중심점(centroid)별 할당된 word 피처들의 거리값이 큰 순(center와 가까운 순)으로 값을 구하기 위함.  \n",
    "    centroid_feature_ordered_ind = cluster_model.cluster_centers_.argsort()[:,::-1]\n",
    "    \n",
    "    #개별 군집별로 iteration하면서 핵심단어, 그 단어의 중심 위치 상대값, 대상 파일명 입력\n",
    "    for cluster_num in range(clusters_num): # clusters_num=3 -> cluster_num: 0, 1, 2\n",
    "        # 개별 군집별 정보를 담을 데이터 초기화. \n",
    "        cluster_details[cluster_num] = {}\n",
    "        cluster_details[cluster_num]['cluster'] = cluster_num # { 0: {'cluster': 0}, ...}\n",
    "        \n",
    "        # cluster_centers_.argsort()[:,::-1] 로 구한 index 를 이용하여 top n 피처 단어를 구함. \n",
    "        # top_feature_indexes는 인덱스의 배열\n",
    "        top_feature_indexes = centroid_feature_ordered_ind[cluster_num, :top_n_features] # 해당 cluster행의, top_n_features개수만큼의 열\n",
    "        # top_features는 top 10개 단어 리스트\n",
    "        top_features = [ feature_names[ind] for ind in top_feature_indexes ]\n",
    "        \n",
    "        # top_feature_indexes를 이용해 해당 피처 단어의 중심과 거리값 배열\n",
    "        top_feature_values = cluster_model.cluster_centers_[cluster_num, top_feature_indexes].tolist()\n",
    "        \n",
    "        # cluster_details 딕셔너리 객체에 개별 군집별 핵심 단어와 중심위치 상대값, 그리고 해당 파일명 입력\n",
    "        cluster_details[cluster_num]['top_features'] = top_features\n",
    "        cluster_details[cluster_num]['top_features_value'] = top_feature_values\n",
    "        filenames = cluster_data[cluster_data['cluster_label'] == cluster_num]['filename']\n",
    "        filenames = filenames.values.tolist()\n",
    "        cluster_details[cluster_num]['filenames'] = filenames\n",
    "        \n",
    "    return cluster_details"
   ]
  },
  {
   "cell_type": "markdown",
   "metadata": {},
   "source": [
    "#### 군집별 핵심 단어 등 출력 함수 생성\n",
    "**클러스터별 top feature들의 단어와 파일명 출력**"
   ]
  },
  {
   "cell_type": "code",
   "execution_count": 114,
   "metadata": {
    "ExecuteTime": {
     "end_time": "2022-06-29T14:56:24.829216Z",
     "start_time": "2022-06-29T14:56:24.819960Z"
    }
   },
   "outputs": [],
   "source": [
    "def print_cluster_details(cluster_details):\n",
    "    for cluster_num, cluster_detail in cluster_details.items():\n",
    "        print('####### Cluster {0}'.format(cluster_num))\n",
    "        print('Top features:', cluster_detail['top_features'])\n",
    "        print(f\"Top features value: {np.round(cluster_detail['top_features_value'],2)}\")\n",
    "        print('Reviews 파일명 :',cluster_detail['filenames'][:7])\n",
    "        print('==================================================\\n')"
   ]
  },
  {
   "cell_type": "code",
   "execution_count": 110,
   "metadata": {
    "ExecuteTime": {
     "end_time": "2022-06-29T14:56:08.786273Z",
     "start_time": "2022-06-29T14:56:08.777278Z"
    }
   },
   "outputs": [
    {
     "data": {
      "text/plain": [
       "['0 5', '0 great', '0 room', '00', '05', '06', '07', '08', '1 2', '1 block']"
      ]
     },
     "execution_count": 110,
     "metadata": {},
     "output_type": "execute_result"
    }
   ],
   "source": [
    "tfidf_vect.get_feature_names()[:10]"
   ]
  },
  {
   "cell_type": "code",
   "execution_count": 111,
   "metadata": {
    "ExecuteTime": {
     "end_time": "2022-06-29T14:56:09.326943Z",
     "start_time": "2022-06-29T14:56:09.307301Z"
    }
   },
   "outputs": [],
   "source": [
    "feature_names = tfidf_vect.get_feature_names()\n",
    "\n",
    "cluster_details = get_cluster_details(cluster_model=km_cluster, cluster_data=document_df,\\\n",
    "                                  feature_names=feature_names, clusters_num=3, top_n_features=10 )"
   ]
  },
  {
   "cell_type": "code",
   "execution_count": 112,
   "metadata": {
    "ExecuteTime": {
     "end_time": "2022-06-29T14:56:10.306376Z",
     "start_time": "2022-06-29T14:56:10.295227Z"
    }
   },
   "outputs": [
    {
     "data": {
      "text/plain": [
       "{0: {'cluster': 0,\n",
       "  'top_features': ['screen',\n",
       "   'battery',\n",
       "   'keyboard',\n",
       "   'battery life',\n",
       "   'life',\n",
       "   'kindle',\n",
       "   'direction',\n",
       "   'video',\n",
       "   'size',\n",
       "   'voice'],\n",
       "  'top_features_value': [0.13738120192560713,\n",
       "   0.12029588637881046,\n",
       "   0.06416898221290011,\n",
       "   0.06330587553655656,\n",
       "   0.058609811414901014,\n",
       "   0.05646823079053855,\n",
       "   0.05393721234628231,\n",
       "   0.05389363145594924,\n",
       "   0.05127615400589759,\n",
       "   0.05119379623996657],\n",
       "  'filenames': ['accuracy_garmin_nuvi_255W_gps',\n",
       "   'battery-life_amazon_kindle',\n",
       "   'battery-life_ipod_nano_8gb',\n",
       "   'battery-life_netbook_1005ha',\n",
       "   'buttons_amazon_kindle',\n",
       "   'directions_garmin_nuvi_255W_gps',\n",
       "   'display_garmin_nuvi_255W_gps',\n",
       "   'eyesight-issues_amazon_kindle',\n",
       "   'features_windows7',\n",
       "   'fonts_amazon_kindle',\n",
       "   'keyboard_netbook_1005ha',\n",
       "   'navigation_amazon_kindle',\n",
       "   'performance_netbook_1005ha',\n",
       "   'price_amazon_kindle',\n",
       "   'satellite_garmin_nuvi_255W_gps',\n",
       "   'screen_garmin_nuvi_255W_gps',\n",
       "   'screen_ipod_nano_8gb',\n",
       "   'screen_netbook_1005ha',\n",
       "   'size_asus_netbook_1005ha',\n",
       "   'sound_ipod_nano_8gb',\n",
       "   'speed_garmin_nuvi_255W_gps',\n",
       "   'speed_windows7',\n",
       "   'updates_garmin_nuvi_255W_gps',\n",
       "   'video_ipod_nano_8gb',\n",
       "   'voice_garmin_nuvi_255W_gps']},\n",
       " 1: {'cluster': 1,\n",
       "  'top_features': ['interior',\n",
       "   'seat',\n",
       "   'mileage',\n",
       "   'comfortable',\n",
       "   'gas',\n",
       "   'gas mileage',\n",
       "   'transmission',\n",
       "   'car',\n",
       "   'performance',\n",
       "   'quality'],\n",
       "  'top_features_value': [0.2278046916838381,\n",
       "   0.1939512034790141,\n",
       "   0.17730089408820418,\n",
       "   0.12790439933840922,\n",
       "   0.12265896733770874,\n",
       "   0.1165812335567078,\n",
       "   0.10486543788164414,\n",
       "   0.1015256988633988,\n",
       "   0.09562358109597213,\n",
       "   0.09233847022967973],\n",
       "  'filenames': ['comfort_honda_accord_2008',\n",
       "   'comfort_toyota_camry_2007',\n",
       "   'gas_mileage_toyota_camry_2007',\n",
       "   'interior_honda_accord_2008',\n",
       "   'interior_toyota_camry_2007',\n",
       "   'mileage_honda_accord_2008',\n",
       "   'performance_honda_accord_2008',\n",
       "   'quality_toyota_camry_2007',\n",
       "   'seats_honda_accord_2008',\n",
       "   'transmission_toyota_camry_2007']},\n",
       " 2: {'cluster': 2,\n",
       "  'top_features': ['room',\n",
       "   'hotel',\n",
       "   'service',\n",
       "   'staff',\n",
       "   'food',\n",
       "   'location',\n",
       "   'bathroom',\n",
       "   'clean',\n",
       "   'price',\n",
       "   'parking'],\n",
       "  'top_features_value': [0.26083463293785525,\n",
       "   0.20029241494780795,\n",
       "   0.17546706020591651,\n",
       "   0.14901486167147948,\n",
       "   0.1277265040158775,\n",
       "   0.12576707418420113,\n",
       "   0.07042395128821588,\n",
       "   0.06971189120637236,\n",
       "   0.059533968934674365,\n",
       "   0.05842875064534637],\n",
       "  'filenames': ['bathroom_bestwestern_hotel_sfo',\n",
       "   'food_holiday_inn_london',\n",
       "   'food_swissotel_chicago',\n",
       "   'free_bestwestern_hotel_sfo',\n",
       "   'location_bestwestern_hotel_sfo',\n",
       "   'location_holiday_inn_london',\n",
       "   'parking_bestwestern_hotel_sfo',\n",
       "   'price_holiday_inn_london',\n",
       "   'room_holiday_inn_london',\n",
       "   'rooms_bestwestern_hotel_sfo',\n",
       "   'rooms_swissotel_chicago',\n",
       "   'service_bestwestern_hotel_sfo',\n",
       "   'service_holiday_inn_london',\n",
       "   'service_swissotel_hotel_chicago',\n",
       "   'staff_bestwestern_hotel_sfo',\n",
       "   'staff_swissotel_chicago']}}"
      ]
     },
     "execution_count": 112,
     "metadata": {},
     "output_type": "execute_result"
    }
   ],
   "source": [
    "cluster_details"
   ]
  },
  {
   "cell_type": "markdown",
   "metadata": {},
   "source": [
    "#### 출력 결과"
   ]
  },
  {
   "cell_type": "code",
   "execution_count": 115,
   "metadata": {
    "ExecuteTime": {
     "end_time": "2022-06-29T14:56:27.003701Z",
     "start_time": "2022-06-29T14:56:26.993077Z"
    }
   },
   "outputs": [
    {
     "name": "stdout",
     "output_type": "stream",
     "text": [
      "####### Cluster 0\n",
      "Top features: ['screen', 'battery', 'keyboard', 'battery life', 'life', 'kindle', 'direction', 'video', 'size', 'voice']\n",
      "Top features value: [0.14 0.12 0.06 0.06 0.06 0.06 0.05 0.05 0.05 0.05]\n",
      "Reviews 파일명 : ['accuracy_garmin_nuvi_255W_gps', 'battery-life_amazon_kindle', 'battery-life_ipod_nano_8gb', 'battery-life_netbook_1005ha', 'buttons_amazon_kindle', 'directions_garmin_nuvi_255W_gps', 'display_garmin_nuvi_255W_gps']\n",
      "==================================================\n",
      "\n",
      "####### Cluster 1\n",
      "Top features: ['interior', 'seat', 'mileage', 'comfortable', 'gas', 'gas mileage', 'transmission', 'car', 'performance', 'quality']\n",
      "Top features value: [0.23 0.19 0.18 0.13 0.12 0.12 0.1  0.1  0.1  0.09]\n",
      "Reviews 파일명 : ['comfort_honda_accord_2008', 'comfort_toyota_camry_2007', 'gas_mileage_toyota_camry_2007', 'interior_honda_accord_2008', 'interior_toyota_camry_2007', 'mileage_honda_accord_2008', 'performance_honda_accord_2008']\n",
      "==================================================\n",
      "\n",
      "####### Cluster 2\n",
      "Top features: ['room', 'hotel', 'service', 'staff', 'food', 'location', 'bathroom', 'clean', 'price', 'parking']\n",
      "Top features value: [0.26 0.2  0.18 0.15 0.13 0.13 0.07 0.07 0.06 0.06]\n",
      "Reviews 파일명 : ['bathroom_bestwestern_hotel_sfo', 'food_holiday_inn_london', 'food_swissotel_chicago', 'free_bestwestern_hotel_sfo', 'location_bestwestern_hotel_sfo', 'location_holiday_inn_london', 'parking_bestwestern_hotel_sfo']\n",
      "==================================================\n",
      "\n"
     ]
    }
   ],
   "source": [
    "print_cluster_details(cluster_details)"
   ]
  }
 ],
 "metadata": {
  "kernelspec": {
   "display_name": "Python 3",
   "language": "python",
   "name": "python3"
  },
  "language_info": {
   "codemirror_mode": {
    "name": "ipython",
    "version": 3
   },
   "file_extension": ".py",
   "mimetype": "text/x-python",
   "name": "python",
   "nbconvert_exporter": "python",
   "pygments_lexer": "ipython3",
   "version": "3.8.12"
  },
  "toc": {
   "base_numbering": 1,
   "nav_menu": {},
   "number_sections": true,
   "sideBar": true,
   "skip_h1_title": false,
   "title_cell": "Table of Contents",
   "title_sidebar": "Contents",
   "toc_cell": false,
   "toc_position": {},
   "toc_section_display": true,
   "toc_window_display": true
  }
 },
 "nbformat": 4,
 "nbformat_minor": 2
}
